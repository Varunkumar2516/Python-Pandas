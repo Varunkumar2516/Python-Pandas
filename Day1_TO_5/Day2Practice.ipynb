{
  "cells": [
    {
      "cell_type": "code",
      "execution_count": 1,
      "metadata": {
        "id": "zxrbXftDYalU"
      },
      "outputs": [],
      "source": [
        "import pandas as pd\n",
        "import numpy as np"
      ]
    },
    {
      "cell_type": "markdown",
      "metadata": {
        "id": "MetYTZJpYfdz"
      },
      "source": [
        "###`Q-1:` Write a program to create an empty series."
      ]
    },
    {
      "cell_type": "code",
      "execution_count": 2,
      "metadata": {
        "id": "KUcgT935YgC5"
      },
      "outputs": [
        {
          "data": {
            "text/plain": [
              "Series([], dtype: object)"
            ]
          },
          "execution_count": 2,
          "metadata": {},
          "output_type": "execute_result"
        }
      ],
      "source": [
        "# code here\n",
        "pd.Series([])"
      ]
    },
    {
      "cell_type": "markdown",
      "metadata": {
        "id": "jw5ybzU6YhOo"
      },
      "source": [
        "###`Q-2:` Write a Pandas program to add, subtract, multiple and divide two Pandas Series."
      ]
    },
    {
      "cell_type": "code",
      "execution_count": 19,
      "metadata": {
        "id": "EF3GgVFjYjwG"
      },
      "outputs": [
        {
          "name": "stdout",
          "output_type": "stream",
          "text": [
            "Series A\n",
            " 0    4\n",
            "1    7\n",
            "2    7\n",
            "3    1\n",
            "4    9\n",
            "dtype: int32\n",
            "\n",
            "Series B\n",
            " 0    5\n",
            "1    8\n",
            "2    1\n",
            "3    1\n",
            "4    8\n",
            "dtype: int32\n",
            "Addition \n",
            " 0     9\n",
            "1    15\n",
            "2     8\n",
            "3     2\n",
            "4    17\n",
            "dtype: int32\n",
            "Substraction \n",
            " 0   -1\n",
            "1   -1\n",
            "2    6\n",
            "3    0\n",
            "4    1\n",
            "dtype: int32\n",
            "Mulltiplication \n",
            " 0    20\n",
            "1    56\n",
            "2     7\n",
            "3     1\n",
            "4    72\n",
            "dtype: int32\n",
            "Division \n",
            " 0    0.80\n",
            "1    0.88\n",
            "2    7.00\n",
            "3    1.00\n",
            "4    1.12\n",
            "dtype: float64\n"
          ]
        }
      ],
      "source": [
        "# code here\n",
        "\n",
        "def Arithmetic_pandas(Series1,Series2):\n",
        "    Addition=Series1+Series2\n",
        "    Substract=Series1-Series2\n",
        "    Multiply=Series1*Series2\n",
        "    Divide=round(Series1/Series2,2)\n",
        "    return (Addition,Substract,Multiply,Divide)\n",
        "\n",
        "np.random.seed(5)\n",
        "S1=pd.Series(np.random.randint(1,10,size=5))\n",
        "print(\"Series A\\n\",S1)\n",
        "S2=pd.Series(np.random.randint(1,10,size=5))\n",
        "print(\"\\nSeries B\\n\",S2)\n",
        "add,sub,mul,div=Arithmetic_pandas(S1,S2)\n",
        "print(\"Addition \\n\",add)\n",
        "print(\"Substraction \\n\",sub)\n",
        "print(\"Mulltiplication \\n\",mul)\n",
        "print(\"Division \\n\",div)\n"
      ]
    },
    {
      "cell_type": "markdown",
      "metadata": {
        "id": "TZDp25jeYlB6"
      },
      "source": [
        "###`Q-3` Write a Pandas program to compare the elements of the two Pandas Series.\n",
        "Sample Series: [2, 4, 6, 8, 10], [1, 3, 5, 7, 10]\n",
        "\n"
      ]
    },
    {
      "cell_type": "code",
      "execution_count": 22,
      "metadata": {
        "id": "gFNil8ruYp1y"
      },
      "outputs": [
        {
          "name": "stdout",
          "output_type": "stream",
          "text": [
            "0    False\n",
            "1    False\n",
            "2    False\n",
            "3    False\n",
            "4    False\n",
            "dtype: bool\n",
            "0    True\n",
            "1    True\n",
            "2    True\n",
            "3    True\n",
            "4    True\n",
            "dtype: bool\n",
            "0    False\n",
            "1    False\n",
            "2     True\n",
            "3     True\n",
            "4     True\n",
            "dtype: bool\n",
            "0     True\n",
            "1     True\n",
            "2    False\n",
            "3    False\n",
            "4    False\n",
            "dtype: bool\n",
            "0     True\n",
            "1     True\n",
            "2    False\n",
            "3    False\n",
            "4    False\n",
            "dtype: bool\n",
            "0    False\n",
            "1    False\n",
            "2     True\n",
            "3     True\n",
            "4     True\n",
            "dtype: bool\n"
          ]
        }
      ],
      "source": [
        "# code here\n",
        "S1=pd.Series([2, 4, 6, 8, 10])\n",
        "S1=pd.Series( [1, 3, 5, 7, 10])\n",
        "\n",
        "print(S1==S2)\n",
        "print(S1!=S2)\n",
        "print(S1>=S2)\n",
        "print(S1<=S2)\n",
        "print(S1<S2)\n",
        "print(S1>S2)"
      ]
    },
    {
      "cell_type": "markdown",
      "metadata": {
        "id": "HlOBn_N6YrZz"
      },
      "source": [
        "###`Q-5.`Write a function to change the data type of given a column or a Series. Function takes series and data type as input, returns the converted series.\n",
        "```\n",
        "series = pd.Series([1,2,'Python', 2.0, True, 100])\n",
        "change to float type data\n",
        "```\n",
        "Note: Read about pd.to_numeric()"
      ]
    },
    {
      "cell_type": "code",
      "execution_count": 26,
      "metadata": {
        "id": "_SWQJCUJYwXm"
      },
      "outputs": [
        {
          "name": "stdout",
          "output_type": "stream",
          "text": [
            "0      1.0\n",
            "1      2.0\n",
            "2      NaN\n",
            "3      2.0\n",
            "4      1.0\n",
            "5    100.0\n",
            "dtype: float64\n",
            "float64\n"
          ]
        }
      ],
      "source": [
        "# code her\n",
        "def DataType_change(Series, Datatype):\n",
        "    if Datatype == float:\n",
        "        return pd.to_numeric(Series, errors='coerce')\n",
        "    return Series.astype(Datatype)\n",
        "\n",
        "series = pd.Series([1,2,'Python', 2.0, True, 100])\n",
        "series = DataType_change(series, float)\n",
        "print(series)\n",
        "print(series.dtype)"
      ]
    },
    {
      "cell_type": "markdown",
      "metadata": {
        "id": "PGp3OqRIY0Va"
      },
      "source": [
        "Download data - https://drive.google.com/file/d/1LRhXwbEodeWXtzPhJCX0X9Lf_BECzvqb/view?usp=share_link\n",
        "All Batsman runs series in IPL 2008 to 2022.\n",
        "\n",
        "Below questions are based on this data."
      ]
    },
    {
      "cell_type": "code",
      "execution_count": 34,
      "metadata": {},
      "outputs": [
        {
          "name": "stdout",
          "output_type": "stream",
          "text": [
            "                batsman_run\n",
            "batter                     \n",
            "A Ashish Reddy          280\n",
            "A Badoni                161\n",
            "A Chandila                4\n",
            "A Chopra                 53\n",
            "A Choudhary              25\n",
            "<class 'pandas.core.frame.DataFrame'>\n",
            "\n",
            "\n",
            " batter\n",
            "A Ashish Reddy     280\n",
            "A Badoni           161\n",
            "A Chandila           4\n",
            "A Chopra            53\n",
            "A Choudhary         25\n",
            "                  ... \n",
            "Yash Dayal           0\n",
            "Yashpal Singh       47\n",
            "Younis Khan          3\n",
            "Yuvraj Singh      2754\n",
            "Z Khan             117\n",
            "Name: batsman_run, Length: 605, dtype: int64\n",
            "<class 'pandas.core.series.Series'>\n"
          ]
        }
      ],
      "source": [
        "#importing file\n",
        "df=pd.read_csv(\"DATASETS/Practice/batsman_runs_series.csv\",index_col=\"batter\")\n",
        "print(df.head(5))\n",
        "print(type(df))\n",
        "\n",
        "# COnverting it to the Series\n",
        "S=pd.Series(df[\"batsman_run\"],index=df.index)\n",
        "print(\"\\n\\n\",S)\n",
        "print(type(S))"
      ]
    },
    {
      "cell_type": "markdown",
      "metadata": {
        "id": "TxFkp-L4Y23d"
      },
      "source": [
        "###`Q-6` Find top 10 most run getter from the series."
      ]
    },
    {
      "cell_type": "code",
      "execution_count": 39,
      "metadata": {
        "id": "muBgocA6Y2Bg"
      },
      "outputs": [
        {
          "data": {
            "text/plain": [
              "batter\n",
              "V Kohli           6634\n",
              "S Dhawan          6244\n",
              "DA Warner         5883\n",
              "RG Sharma         5881\n",
              "SK Raina          5536\n",
              "AB de Villiers    5181\n",
              "CH Gayle          4997\n",
              "MS Dhoni          4978\n",
              "RV Uthappa        4954\n",
              "KD Karthik        4377\n",
              "Name: batsman_run, dtype: int64"
            ]
          },
          "execution_count": 39,
          "metadata": {},
          "output_type": "execute_result"
        }
      ],
      "source": [
        "# code here\n",
        "S.sort_values(ascending=False).head(10)"
      ]
    },
    {
      "cell_type": "code",
      "execution_count": 41,
      "metadata": {},
      "outputs": [
        {
          "data": {
            "text/plain": [
              "<Axes: xlabel='batter'>"
            ]
          },
          "execution_count": 41,
          "metadata": {},
          "output_type": "execute_result"
        },
        {
          "data": {
            "image/png": "[encoded data removed]",
            "text/plain": [
              "<Figure size 640x480 with 1 Axes>"
            ]
          },
          "metadata": {},
          "output_type": "display_data"
        }
      ],
      "source": [
        "S.sort_values(ascending=False).head(10).plot(grid=True,kind='bar')"
      ]
    },
    {
      "cell_type": "markdown",
      "metadata": {
        "id": "GzlCFBM_Y83g"
      },
      "source": [
        "###`Q-7` No of players having runs above 3000"
      ]
    },
    {
      "cell_type": "code",
      "execution_count": 58,
      "metadata": {
        "id": "JdNchHRWY1B-"
      },
      "outputs": [
        {
          "name": "stdout",
          "output_type": "stream",
          "text": [
            "batter\n",
            "V Kohli           6634\n",
            "S Dhawan          6244\n",
            "DA Warner         5883\n",
            "RG Sharma         5881\n",
            "SK Raina          5536\n",
            "AB de Villiers    5181\n",
            "CH Gayle          4997\n",
            "MS Dhoni          4978\n",
            "RV Uthappa        4954\n",
            "KD Karthik        4377\n",
            "G Gambhir         4217\n",
            "AT Rayudu         4190\n",
            "AM Rahane         4074\n",
            "KL Rahul          3895\n",
            "SR Watson         3880\n",
            "MK Pandey         3657\n",
            "SV Samson         3526\n",
            "KA Pollard        3437\n",
            "F du Plessis      3403\n",
            "YK Pathan         3222\n",
            "Name: batsman_run, dtype: int64\n"
          ]
        }
      ],
      "source": [
        "# code here\n",
        "mask=(S>3000)\n",
        "\n",
        "NewSeries=S.sort_values(ascending=False)[mask]\n",
        "print(NewSeries)\n"
      ]
    },
    {
      "cell_type": "code",
      "execution_count": 65,
      "metadata": {},
      "outputs": [
        {
          "data": {
            "text/plain": [
              "<Axes: xlabel='batter'>"
            ]
          },
          "execution_count": 65,
          "metadata": {},
          "output_type": "execute_result"
        },
        {
          "data": {
            "image/png": "[encoded data removed]",
            "text/plain": [
              "<Figure size 640x480 with 1 Axes>"
            ]
          },
          "metadata": {},
          "output_type": "display_data"
        }
      ],
      "source": [
        "NewSeries.plot(\n",
        "    kind='bar',\n",
        "    grid=True\n",
        ")"
      ]
    },
    {
      "cell_type": "markdown",
      "metadata": {
        "id": "pMBEoCL1Y-vh"
      },
      "source": [
        "###`Q-8` No of players having runs above mean value?"
      ]
    },
    {
      "cell_type": "code",
      "execution_count": 70,
      "metadata": {
        "id": "LgtViVFZZBIu"
      },
      "outputs": [
        {
          "name": "stdout",
          "output_type": "stream",
          "text": [
            "batter\n",
            "A Symonds           974\n",
            "AB de Villiers     5181\n",
            "AC Gilchrist       2069\n",
            "AD Mathews          724\n",
            "AD Russell         2039\n",
            "                   ... \n",
            "WP Saha            2427\n",
            "Y Venugopal Rao     985\n",
            "YBK Jaiswal         547\n",
            "YK Pathan          3222\n",
            "Yuvraj Singh       2754\n",
            "Name: batsman_run, Length: 128, dtype: int64\n"
          ]
        },
        {
          "data": {
            "text/plain": [
              "128"
            ]
          },
          "execution_count": 70,
          "metadata": {},
          "output_type": "execute_result"
        }
      ],
      "source": [
        "# code here\n",
        "# for mean\n",
        "S.mean()\n",
        "\n",
        "# Runs > S.mean()\n",
        "print(S[(S > S.mean()) ])\n",
        "S[(S > S.mean()) ].size\n"
      ]
    },
    {
      "cell_type": "markdown",
      "metadata": {
        "id": "OAB1CgdgZEqE"
      },
      "source": [
        "Download data - https://drive.google.com/file/d/1QZuZ5bypUInfVvarHACLAi8tXXHvb8xd/view?usp=share_link\n",
        "\n",
        "file name - items.csv\n",
        "\n"
      ]
    },
    {
      "cell_type": "markdown",
      "metadata": {
        "id": "1UTQQImxZGLu"
      },
      "source": [
        "###`Q-9`\n",
        "\n",
        "    i. Read `items.csv` making `item_name` as index.\n",
        "\n",
        "    ii. Show no of nan values\n",
        "\n",
        "    ii. Item price is given in $, so convert it to rupees without currency symbol.(remove currecny symbol first change the rest to string to float then * 86.51)\n",
        "\n",
        "    iii. Make data type of newly made series as float.\n",
        "\n",
        "    iv. Fill nan with mean of the series\n",
        "\n",
        "\n",
        "How csv file looks\n",
        "\n",
        "```\n",
        "item_name\titem_price\n",
        "Chips and Fresh Tomato Salsa\t$2.39\n",
        "Izze\t$3.39\n",
        "Nantucket Nectar\t$3.39\n",
        "Chips and Tomatillo-Green Chili Salsa\t$2.39\n",
        "Chicken Bowl\t$16.98\n",
        "\n",
        "```"
      ]
    },
    {
      "cell_type": "code",
      "execution_count": 99,
      "metadata": {},
      "outputs": [
        {
          "name": "stdout",
          "output_type": "stream",
          "text": [
            "                                      item_price\n",
            "item_name                                       \n",
            "Chips and Fresh Tomato Salsa              $2.39 \n",
            "Izze                                      $3.39 \n",
            "Nantucket Nectar                          $3.39 \n",
            "Chips and Tomatillo-Green Chili Salsa     $2.39 \n",
            "Chicken Bowl                             $16.98 \n",
            "...                                          ...\n",
            "Steak Burrito                            $11.75 \n",
            "Steak Burrito                            $11.75 \n",
            "Chicken Salad Bowl                       $11.25 \n",
            "Chicken Salad Bowl                        $8.75 \n",
            "Chicken Salad Bowl                        $8.75 \n",
            "\n",
            "[4622 rows x 1 columns]\n",
            "item_name\n",
            "Chips and Fresh Tomato Salsa              $2.39 \n",
            "Izze                                      $3.39 \n",
            "Nantucket Nectar                          $3.39 \n",
            "Chips and Tomatillo-Green Chili Salsa     $2.39 \n",
            "Chicken Bowl                             $16.98 \n",
            "                                          ...   \n",
            "Steak Burrito                            $11.75 \n",
            "Steak Burrito                            $11.75 \n",
            "Chicken Salad Bowl                       $11.25 \n",
            "Chicken Salad Bowl                        $8.75 \n",
            "Chicken Salad Bowl                        $8.75 \n",
            "Name: item_price, Length: 4622, dtype: object\n"
          ]
        }
      ],
      "source": [
        "#1\n",
        "#Reading the file \n",
        "df=pd.read_csv(\"DATASETS/Practice/items.csv\",index_col=\"item_name\")\n",
        "print(df) #_> Dataframe\n",
        "\n",
        "# Converting it to Series\n",
        "S=pd.Series(df['item_price'],index=df.index)\n",
        "print(S)#-> Series"
      ]
    },
    {
      "cell_type": "code",
      "execution_count": 97,
      "metadata": {},
      "outputs": [
        {
          "name": "stdout",
          "output_type": "stream",
          "text": [
            "item_name\n",
            "Side of Chips                        NaN\n",
            "Steak Soft Tacos                     NaN\n",
            "Chips                                NaN\n",
            "Chicken Burrito                      NaN\n",
            "Veggie Bowl                          NaN\n",
            "Steak Salad Bowl                     NaN\n",
            "Chicken Salad Bowl                   NaN\n",
            "Barbacoa Burrito                     NaN\n",
            "Chicken Soft Tacos                   NaN\n",
            "Chicken Bowl                         NaN\n",
            "Steak Burrito                        NaN\n",
            "Chips and Guacamole                  NaN\n",
            "Chips and Roasted Chili Corn Salsa   NaN\n",
            "Chips and Fresh Tomato Salsa         NaN\n",
            "Steak Bowl                           NaN\n",
            "Steak Burrito                        NaN\n",
            "Chicken Bowl                         NaN\n",
            "Canned Soft Drink                    NaN\n",
            "Chicken Soft Tacos                   NaN\n",
            "Steak Burrito                        NaN\n",
            "Steak Burrito                        NaN\n",
            "Steak Burrito                        NaN\n",
            "Carnitas Soft Tacos                  NaN\n",
            "Chips                                NaN\n",
            "Chicken Burrito                      NaN\n",
            "Canned Soft Drink                    NaN\n",
            "Chicken Bowl                         NaN\n",
            "Side of Chips                        NaN\n",
            "Chicken Bowl                         NaN\n",
            "Chips                                NaN\n",
            "Chicken Bowl                         NaN\n",
            "Chicken Burrito                      NaN\n",
            "Canned Soda                          NaN\n",
            "Chicken Salad                        NaN\n",
            "Side of Chips                        NaN\n",
            "Chips and Guacamole                  NaN\n",
            "Chicken Burrito                      NaN\n",
            "Chips                                NaN\n",
            "Canned Soft Drink                    NaN\n",
            "Chicken Bowl                         NaN\n",
            "Chips and Guacamole                  NaN\n",
            "Steak Burrito                        NaN\n",
            "6 Pack Soft Drink                    NaN\n",
            "Chicken Burrito                      NaN\n",
            "Chips                                NaN\n",
            "Steak Burrito                        NaN\n",
            "Canned Soft Drink                    NaN\n",
            "Canned Soft Drink                    NaN\n",
            "Veggie Salad Bowl                    NaN\n",
            "Chicken Salad Bowl                   NaN\n",
            "Name: item_price, dtype: float64\n",
            "\n",
            " Number of Nan Value:  50\n"
          ]
        }
      ],
      "source": [
        "#2\n",
        "Null_Value_mask=S.isnull()\n",
        "print(S[Null_Value_mask])\n",
        "print(\"\\n Number of Nan Value: \",S[Null_Value_mask].size)"
      ]
    },
    {
      "cell_type": "code",
      "execution_count": null,
      "metadata": {},
      "outputs": [
        {
          "data": {
            "text/plain": [
              "dtype('O')"
            ]
          },
          "execution_count": 89,
          "metadata": {},
          "output_type": "execute_result"
        }
      ],
      "source": [
        "S.dtype\n",
        "# O means String"
      ]
    },
    {
      "cell_type": "code",
      "execution_count": 100,
      "metadata": {},
      "outputs": [
        {
          "name": "stdout",
          "output_type": "stream",
          "text": [
            "                                      item_price\n",
            "item_name                                       \n",
            "Chips and Fresh Tomato Salsa              $2.39 \n",
            "Izze                                      $3.39 \n",
            "Nantucket Nectar                          $3.39 \n",
            "Chips and Tomatillo-Green Chili Salsa     $2.39 \n",
            "Chicken Bowl                             $16.98 \n",
            "...                                          ...\n",
            "Steak Burrito                            $11.75 \n",
            "Steak Burrito                            $11.75 \n",
            "Chicken Salad Bowl                       $11.25 \n",
            "Chicken Salad Bowl                        $8.75 \n",
            "Chicken Salad Bowl                        $8.75 \n",
            "\n",
            "[4622 rows x 1 columns]\n",
            "item_name\n",
            "Chips and Fresh Tomato Salsa              $2.39 \n",
            "Izze                                      $3.39 \n",
            "Nantucket Nectar                          $3.39 \n",
            "Chips and Tomatillo-Green Chili Salsa     $2.39 \n",
            "Chicken Bowl                             $16.98 \n",
            "                                          ...   \n",
            "Steak Burrito                            $11.75 \n",
            "Steak Burrito                            $11.75 \n",
            "Chicken Salad Bowl                       $11.25 \n",
            "Chicken Salad Bowl                        $8.75 \n",
            "Chicken Salad Bowl                        $8.75 \n",
            "Name: item_price, Length: 4622, dtype: object\n"
          ]
        }
      ],
      "source": [
        "df=pd.read_csv(\"DATASETS/Practice/items.csv\",index_col=\"item_name\")\n",
        "print(df) #_> Dataframe\n",
        "\n",
        "# Converting it to Series\n",
        "S=pd.Series(df['item_price'],index=df.index)\n",
        "print(S)#-> Series"
      ]
    },
    {
      "cell_type": "code",
      "execution_count": 125,
      "metadata": {},
      "outputs": [
        {
          "name": "stdout",
          "output_type": "stream",
          "text": [
            "item_name\n",
            "Chips and Fresh Tomato Salsa              206.76\n",
            "Izze                                      293.27\n",
            "Nantucket Nectar                          293.27\n",
            "Chips and Tomatillo-Green Chili Salsa     206.76\n",
            "Chicken Bowl                             1468.94\n",
            "                                          ...   \n",
            "Steak Burrito                            1016.49\n",
            "Steak Burrito                            1016.49\n",
            "Chicken Salad Bowl                        973.24\n",
            "Chicken Salad Bowl                        756.96\n",
            "Chicken Salad Bowl                        756.96\n",
            "Name: item_price, Length: 4622, dtype: object\n"
          ]
        },
        {
          "data": {
            "text/plain": [
              "dtype('O')"
            ]
          },
          "execution_count": 125,
          "metadata": {},
          "output_type": "execute_result"
        }
      ],
      "source": [
        "#3 \n",
        "copy =S.copy()\n",
        "copy=copy.str.strip(\" $\").astype(float) * 86.51\n",
        "\n",
        "\n",
        "copy=round(copy,2).astype(str)\n",
        "print(copy)\n",
        "copy.dtype\n"
      ]
    },
    {
      "cell_type": "code",
      "execution_count": 126,
      "metadata": {},
      "outputs": [
        {
          "name": "stdout",
          "output_type": "stream",
          "text": [
            "object\n"
          ]
        },
        {
          "data": {
            "text/plain": [
              "dtype('float64')"
            ]
          },
          "execution_count": 126,
          "metadata": {},
          "output_type": "execute_result"
        }
      ],
      "source": [
        "#4 \n",
        "print(copy.dtype)\n",
        "copy=copy.astype(float)\n",
        "copy.dtype"
      ]
    },
    {
      "cell_type": "code",
      "execution_count": null,
      "metadata": {},
      "outputs": [
        {
          "data": {
            "text/plain": [
              "Series([], Name: item_price, dtype: float64)"
            ]
          },
          "execution_count": 131,
          "metadata": {},
          "output_type": "execute_result"
        }
      ],
      "source": [
        "#5\n",
        "copy=copy.fillna(copy.mean())\n",
        "copy[copy.isnull()] # all null items are replaced with mean()"
      ]
    },
    {
      "cell_type": "markdown",
      "metadata": {
        "id": "UHc_4e9cZK8r"
      },
      "source": [
        "###`Q-10`:do these opeations on copy .\n",
        "\n",
        "    i. Find mean price\n",
        "\n",
        "    ii. Find 30th and 6th percentile value\n",
        "\n",
        "    iii. Plot Histogram on price with bin size 50\n",
        "\n",
        "    iv. No of items price lies between [1000 to 2000]\n",
        "\n"
      ]
    },
    {
      "cell_type": "code",
      "execution_count": 135,
      "metadata": {
        "id": "Eh3xX9FpZNmE"
      },
      "outputs": [
        {
          "data": {
            "text/plain": [
              "np.float64(645.6268372703412)"
            ]
          },
          "execution_count": 135,
          "metadata": {},
          "output_type": "execute_result"
        }
      ],
      "source": [
        "copy.mean()"
      ]
    },
    {
      "cell_type": "code",
      "execution_count": 142,
      "metadata": {},
      "outputs": [
        {
          "name": "stdout",
          "output_type": "stream",
          "text": [
            "25th Percentile: 336.52\n",
            "50th Percentile (Median): 756.96\n",
            "75th Percentile: 800.22\n",
            "0.25    336.52\n",
            "0.50    756.96\n",
            "0.75    800.22\n",
            "Name: item_price, dtype: float64\n",
            "94.3\n",
            "94.3\n",
            "3828.07\n",
            "3828.07\n"
          ]
        }
      ],
      "source": [
        "# Calculate the 25th, 50th (median), and 75th percentiles\n",
        "percentile_25 = copy.quantile(0.25)\n",
        "percentile_50 = copy.quantile(0.50)  # or data.median()\n",
        "percentile_75 = copy.quantile(0.75)\n",
        "\n",
        "print(f\"25th Percentile: {percentile_25}\")\n",
        "print(f\"50th Percentile (Median): {percentile_50}\")\n",
        "print(f\"75th Percentile: {percentile_75}\")\n",
        "\n",
        "# The .quantile(q) method takes a value q between 0 and 1, where q represents the desired percentile (e.g., 0.25 for the 25th percentile).\n",
        "# You can also calculate multiple percentiles at once by passing a list of q values:\n",
        "\n",
        "\n",
        "percentiles = copy.quantile([0.25, 0.50, 0.75])\n",
        "print(percentiles)\n",
        "# This will return a Pandas Series with the specified percentiles.\n",
        "\n",
        "\n",
        "print(copy.quantile(0))\n",
        "print(copy.min())\n",
        "print(copy.quantile(1))\n",
        "print(copy.max())"
      ]
    },
    {
      "cell_type": "code",
      "execution_count": 149,
      "metadata": {},
      "outputs": [
        {
          "data": {
            "text/plain": [
              "<Axes: ylabel='Frequency'>"
            ]
          },
          "execution_count": 149,
          "metadata": {},
          "output_type": "execute_result"
        },
        {
          "data": {
            "image/png": "[encoded data removed]",
            "text/plain": [
              "<Figure size 640x480 with 1 Axes>"
            ]
          },
          "metadata": {},
          "output_type": "display_data"
        }
      ],
      "source": [
        "copy=copy.sort_values()\n",
        "copy.plot(kind='hist',bins=50)"
      ]
    },
    {
      "cell_type": "code",
      "execution_count": 148,
      "metadata": {},
      "outputs": [
        {
          "data": {
            "image/png": "[encoded data removed]",
            "text/plain": [
              "<Figure size 1400x600 with 1 Axes>"
            ]
          },
          "metadata": {},
          "output_type": "display_data"
        }
      ],
      "source": [
        "import matplotlib.pyplot as plt\n",
        "\n",
        "# Sort the data for better visualization (already sorted in cell 32)\n",
        "plt.figure(figsize=(14, 6))\n",
        "copy.plot(\n",
        "    kind='hist',\n",
        "    bins=50,\n",
        "    color='skyblue',\n",
        "    edgecolor='black',\n",
        "    alpha=0.8\n",
        ")\n",
        "plt.title('Distribution of Item Prices (in Rupees)', fontsize=16)\n",
        "plt.xlabel('Price (₹)', fontsize=14)\n",
        "plt.ylabel('Number of Items', fontsize=14)\n",
        "plt.grid(axis='y', linestyle='--', alpha=0.7)\n",
        "plt.tight_layout()\n",
        "plt.show()"
      ]
    },
    {
      "cell_type": "code",
      "execution_count": 158,
      "metadata": {},
      "outputs": [
        {
          "name": "stdout",
          "output_type": "stream",
          "text": [
            "item_name\n",
            "Bottled Water                     94.30\n",
            "Canned Soda                       94.30\n",
            "Canned Soda                       94.30\n",
            "Canned Soda                       94.30\n",
            "Canned Soda                       94.30\n",
            "                                 ...   \n",
            "Veggie Burrito                  2919.71\n",
            "Chicken Burrito                 3027.85\n",
            "Chicken Burrito                 3027.85\n",
            "Carnitas Bowl                   3049.48\n",
            "Chips and Fresh Tomato Salsa    3828.07\n",
            "Name: item_price, Length: 4622, dtype: float64\n",
            "item_name\n",
            "Carnitas Burrito      1016.49\n",
            "Steak Burrito         1016.49\n",
            "Steak Burrito         1016.49\n",
            "Steak Burrito         1016.49\n",
            "Steak Crispy Tacos    1016.49\n",
            "                       ...   \n",
            "Chicken Bowl          1946.48\n",
            "Chicken Salad Bowl    1946.48\n",
            "Chicken Salad Bowl    1946.48\n",
            "Chicken Salad Bowl    1946.48\n",
            "Steak Burrito         1986.27\n",
            "Name: item_price, Length: 419, dtype: float64\n",
            "Number of Items Having price (1000-2000):  419\n"
          ]
        }
      ],
      "source": [
        "#3 \n",
        "print(copy)\n",
        "\n",
        "print(copy[(copy > 1000) & (copy < 2000)])\n",
        "print(\"Number of Items Having price (1000-2000): \",copy[(copy > 1000) & (copy < 2000)].size)"
      ]
    }
  ],
  "metadata": {
    "colab": {
      "provenance": []
    },
    "kernelspec": {
      "display_name": "Python 3",
      "name": "python3"
    },
    "language_info": {
      "codemirror_mode": {
        "name": "ipython",
        "version": 3
      },
      "file_extension": ".py",
      "mimetype": "text/x-python",
      "name": "python",
      "nbconvert_exporter": "python",
      "pygments_lexer": "ipython3",
      "version": "3.13.5"
    }
  },
  "nbformat": 4,
  "nbformat_minor": 0
}
