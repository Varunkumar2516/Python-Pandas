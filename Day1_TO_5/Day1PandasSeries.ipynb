{
 "cells": [
  {
   "cell_type": "markdown",
   "id": "5d5a126b",
   "metadata": {},
   "source": [
    "### DAY 1 - Pandas"
   ]
  },
  {
   "cell_type": "markdown",
   "id": "5cb7250b",
   "metadata": {},
   "source": [
    "__1. What is Pandas?__\n",
    "\n",
    "- Pandas is an open-source Python library used for working with structured data (like Excel, CSV files, SQL tables, etc.).\n",
    "\n",
    "- Pandas is a fast, powerful, flexible and easy to use open source data analysis and manipulation tool,\n",
    "built on top of the Python programming language.\n",
    "\n",
    "- https://pandas.pydata.org/about/index.html\n",
    "\n",
    "__It provides two main data structures:__\n",
    "\n",
    "1. Series – one-dimensional labeled array\n",
    "\n",
    "2. DataFrame – two-dimensional labeled table"
   ]
  },
  {
   "cell_type": "markdown",
   "id": "4e8fa1a6",
   "metadata": {},
   "source": [
    "### 1. Pandas Series\n",
    "\n",
    "A Pandas Series is like a column in a table. It is a 1-D array holding data of any type.\n",
    "- Integers\n",
    "\n",
    "- Strings\n",
    "\n",
    "- Floats\n",
    "\n",
    "- Python objects (even lists, dicts)\n",
    "\n",
    "- NumPy arrays, etc.\n",
    "\n",
    "A Series has Two Main Components:\n",
    "1. Values\n",
    "The actual data \n",
    "\n",
    "2. Index\n",
    "Labels for the data (like [0, 1, 2] by default)"
   ]
  },
  {
   "cell_type": "code",
   "execution_count": 1,
   "id": "a9e54efe",
   "metadata": {},
   "outputs": [
    {
     "data": {
      "text/plain": [
       "' Installing Pandas\\nIf you havent installed it yet:\\n\\npip install pandas\\nin Terminal'"
      ]
     },
     "execution_count": 1,
     "metadata": {},
     "output_type": "execute_result"
    }
   ],
   "source": [
    "\"\"\" Installing Pandas\n",
    "If you havent installed it yet:\n",
    "\n",
    "pip install pandas\n",
    "in Terminal\"\"\""
   ]
  },
  {
   "cell_type": "code",
   "execution_count": 2,
   "id": "46ed2006",
   "metadata": {},
   "outputs": [],
   "source": [
    "\"\"\"\n",
    "Importing Pandas\n",
    "\n",
    "Import Numpy when you pandas : good PRactice\n",
    "\"\"\"\n",
    "import numpy as np\n",
    "import pandas as pd\n"
   ]
  },
  {
   "cell_type": "markdown",
   "id": "8b48b872",
   "metadata": {},
   "source": [
    "# Series From Python List"
   ]
  },
  {
   "cell_type": "code",
   "execution_count": 3,
   "id": "6782e8ec",
   "metadata": {},
   "outputs": [
    {
     "name": "stdout",
     "output_type": "stream",
     "text": [
      "MY FIRST SERIES\n",
      "0       India\n",
      "1    Pakistan\n",
      "2         USA\n",
      "3       Nepal\n",
      "4       China\n",
      "dtype: object\n"
     ]
    }
   ],
   "source": [
    "# list of string:\n",
    "country=[\"India\",\"Pakistan\",\"USA\",\"Nepal\",\"China\"]\n",
    "\n",
    "# Create the series from this country\n",
    "x=pd.Series(country)\n",
    "print(\"MY FIRST SERIES\")\n",
    "print(x)"
   ]
  },
  {
   "cell_type": "code",
   "execution_count": 4,
   "id": "9a781d83",
   "metadata": {},
   "outputs": [
    {
     "data": {
      "text/plain": [
       "0     67\n",
       "1     85\n",
       "2     99\n",
       "3    100\n",
       "4     34\n",
       "5     56\n",
       "dtype: int64"
      ]
     },
     "execution_count": 4,
     "metadata": {},
     "output_type": "execute_result"
    }
   ],
   "source": [
    "# List of Integers\n",
    "marks=[67,85,99,100,34,56]\n",
    "pd.Series(marks)\n"
   ]
  },
  {
   "cell_type": "code",
   "execution_count": 5,
   "id": "cb6d09e5",
   "metadata": {},
   "outputs": [
    {
     "name": "stdout",
     "output_type": "stream",
     "text": [
      "maths        67\n",
      "English      85\n",
      "Science      99\n",
      "Punjabi     100\n",
      "Computer     34\n",
      "SST          56\n",
      "dtype: int64\n"
     ]
    }
   ],
   "source": [
    "# You can set your own index labels (like strings):\n",
    "marks=[67,85,99,100,34,56]\n",
    "subjects=[\"maths\",\"English\",\"Science\",\"Punjabi\",\"Computer\",\"SST\"]\n",
    "s=pd.Series(marks,index=subjects)\n",
    "print(s)"
   ]
  },
  {
   "cell_type": "markdown",
   "id": "e4a6c319",
   "metadata": {},
   "source": [
    "#  Series Properties (Attributes)"
   ]
  },
  {
   "cell_type": "code",
   "execution_count": 6,
   "id": "8d15564d",
   "metadata": {},
   "outputs": [
    {
     "name": "stdout",
     "output_type": "stream",
     "text": [
      "maths        67\n",
      "English      85\n",
      "Science      99\n",
      "Punjabi     100\n",
      "Computer     34\n",
      "SST          56\n",
      "dtype: int64\n",
      "\n",
      "1. Values  - Numpy form\n",
      " [ 67  85  99 100  34  56]\n",
      "\n",
      "2. index object  \n",
      " Index(['maths', 'English', 'Science', 'Punjabi', 'Computer', 'SST'], dtype='object')\n",
      "\n",
      "2. datatype of values \n",
      " int64\n",
      "\n",
      "3. Series Dimension\n",
      " (6,)\n",
      "\n",
      " 4. Number of Dimension\n",
      " 1\n",
      "\n",
      " 5. Series Name: None\n",
      "\n",
      " 6. Number of items 6\n",
      "\n",
      " 7. UniqueNess  True\n"
     ]
    }
   ],
   "source": [
    "print(s)\n",
    "\n",
    "\"\"\"1. s.values — the actual values as a NumPy array\"\"\"\n",
    "\n",
    "print(\"\\n1. Values  - Numpy form\\n\",s.values)\n",
    "\n",
    "\"\"\"2. s.index — the index object\"\"\"\n",
    "print(\"\\n2. index object  \\n\",s.index)\n",
    "\n",
    "\"\"\"3. s.dtype — the data type of values\"\"\"\n",
    "print(\"\\n2. datatype of values \\n\",s.dtype)\n",
    "\n",
    "\"\"\"4. s.shape — tuple representing the Series dimensions\"\"\"\n",
    "print(\"\\n3. Series Dimension\\n\",s.shape)\n",
    "\n",
    "\"\"\"5. s.ndim — number of dimensions\"\"\"\n",
    "print(\"\\n 4. Number of Dimension\\n\",s.ndim)\n",
    "\n",
    "\"\"\"6. s.name — name of the Series \"\"\"\n",
    "print(\"\\n 5. Series Name:\",s.name)\n",
    "\n",
    "\"\"\"7. s.size - gives the Number of items in series\"\"\"\n",
    "print(\"\\n 6. Number of items\",s.size)\n",
    "\n",
    "\"\"\"8. s.is_unique - checks the values in series is unique or not\"\"\"\n",
    "print(\"\\n 7. UniqueNess \",s.is_unique)\n",
    "\n"
   ]
  },
  {
   "cell_type": "code",
   "execution_count": 7,
   "id": "58e5c73c",
   "metadata": {},
   "outputs": [
    {
     "name": "stdout",
     "output_type": "stream",
     "text": [
      "maths        67\n",
      "English      85\n",
      "Science      99\n",
      "Punjabi     100\n",
      "Computer     34\n",
      "SST          56\n",
      "Name: Student_Marks, dtype: int64\n"
     ]
    }
   ],
   "source": [
    "\" Setting name of above series\"\n",
    "s.name=\"Student_Marks\"\n",
    "print(s)"
   ]
  },
  {
   "cell_type": "markdown",
   "id": "8305df7f",
   "metadata": {},
   "source": [
    "### Series from Dictionary:\n",
    "Similar as List"
   ]
  },
  {
   "cell_type": "code",
   "execution_count": 8,
   "id": "10acbe25",
   "metadata": {},
   "outputs": [
    {
     "name": "stdout",
     "output_type": "stream",
     "text": [
      "maths        67\n",
      "English      85\n",
      "Science      99\n",
      "Punjabi     100\n",
      "Computer     34\n",
      "SST          56\n",
      "Name: Student_marks, dtype: int64\n"
     ]
    }
   ],
   "source": [
    "mydata={\"maths\":67,\n",
    "        \"English\":85,\n",
    "        \"Science\":99,\n",
    "        \"Punjabi\":100,\n",
    "        \"Computer\":34,\n",
    "        \"SST\":56}\n",
    "\n",
    "s=pd.Series(mydata,name=\"Student_marks\")\n",
    "print(s)"
   ]
  },
  {
   "cell_type": "markdown",
   "id": "af2ebd15",
   "metadata": {},
   "source": [
    "# Reading Data from File (Csv: comma Separated Values Files)"
   ]
  },
  {
   "cell_type": "code",
   "execution_count": 9,
   "id": "d797ec5c",
   "metadata": {},
   "outputs": [
    {
     "name": "stdout",
     "output_type": "stream",
     "text": [
      "     Subscribers gained\n",
      "0                    48\n",
      "1                    57\n",
      "2                    40\n",
      "3                    43\n",
      "4                    44\n",
      "..                  ...\n",
      "360                 231\n",
      "361                 226\n",
      "362                 155\n",
      "363                 144\n",
      "364                 172\n",
      "\n",
      "[365 rows x 1 columns]\n",
      "<class 'pandas.core.frame.DataFrame'>\n"
     ]
    }
   ],
   "source": [
    "# 1st\n",
    "# WE have subs.csv file in DATASETS inside DAY1 Folders\n",
    "\n",
    "x=pd.read_csv(\"DATASETS/DAY1/subs.csv\")\n",
    "print(x)\n",
    "print(type(x))\n",
    "# this Create A dataframe"
   ]
  },
  {
   "cell_type": "code",
   "execution_count": 10,
   "id": "280860bd",
   "metadata": {},
   "outputs": [
    {
     "name": "stdout",
     "output_type": "stream",
     "text": [
      "0       48\n",
      "1       57\n",
      "2       40\n",
      "3       43\n",
      "4       44\n",
      "      ... \n",
      "360    231\n",
      "361    226\n",
      "362    155\n",
      "363    144\n",
      "364    172\n",
      "Name: Subscribers gained, Length: 365, dtype: int64\n"
     ]
    }
   ],
   "source": [
    "# To Make It Series\n",
    "Subscriber_series=x[\"Subscribers gained\"]\n",
    "print(Subscriber_series) "
   ]
  },
  {
   "cell_type": "code",
   "execution_count": 11,
   "id": "203d519b",
   "metadata": {},
   "outputs": [
    {
     "data": {
      "text/plain": [
       "'\\nsqueeze=True\\nIf the data you\\'re reading has only one column\\n (or one row), setting squeeze=True would automatically \\n \"squeeze\" the result into a Series instead of a \\n full DataFrame.\\nIn 2025,squeeze parameter has been completely removed \\n x=pd.read_csv(\"DATASETS/DAY1/subs.csv\",squeeze=True)\\n Not works\\n use dataframe[\"nameOfcolumns\"] to access specific Column =>(Series)'"
      ]
     },
     "execution_count": 11,
     "metadata": {},
     "output_type": "execute_result"
    }
   ],
   "source": [
    "\"\"\"\n",
    "squeeze=True\n",
    "If the data you're reading has only one column\n",
    " (or one row), setting squeeze=True would automatically \n",
    " \"squeeze\" the result into a Series instead of a \n",
    " full DataFrame.\n",
    "In 2025,squeeze parameter has been completely removed \n",
    " x=pd.read_csv(\"DATASETS/DAY1/subs.csv\",squeeze=True)\n",
    " Not works\n",
    " use dataframe[\"nameOfcolumns\"] to access specific Column =>(Series)\"\"\""
   ]
  },
  {
   "cell_type": "code",
   "execution_count": 12,
   "id": "7b39fcbd",
   "metadata": {},
   "outputs": [
    {
     "name": "stdout",
     "output_type": "stream",
     "text": [
      "          runs\n",
      "match_no      \n",
      "1            1\n",
      "2           23\n",
      "3           13\n",
      "4           12\n",
      "5            1\n",
      "<class 'pandas.core.frame.DataFrame'>\n"
     ]
    }
   ],
   "source": [
    "#2 \n",
    "# we have kohli.csv in DATASET And DAY1 folder\n",
    "Kohli_df=pd.read_csv(\"DATASETS/DAY1/kohli_ipl.csv\",index_col=\"match_no\")\n",
    "print(Kohli_df.head())\n",
    "print(type(Kohli_df))"
   ]
  },
  {
   "cell_type": "code",
   "execution_count": 13,
   "id": "aab21567",
   "metadata": {},
   "outputs": [
    {
     "name": "stdout",
     "output_type": "stream",
     "text": [
      "match_no\n",
      "1       1\n",
      "2      23\n",
      "3      13\n",
      "4      12\n",
      "5       1\n",
      "       ..\n",
      "211     0\n",
      "212    20\n",
      "213    73\n",
      "214    25\n",
      "215     7\n",
      "Name: runs, Length: 215, dtype: int64\n"
     ]
    }
   ],
   "source": [
    "# converting it to Series\n",
    "kohli_series=pd.Series(Kohli_df[\"runs\"].values ,index=Kohli_df.index,name=\"runs\")\n",
    "print(kohli_series)"
   ]
  },
  {
   "cell_type": "code",
   "execution_count": 14,
   "id": "dd27b08e",
   "metadata": {},
   "outputs": [
    {
     "name": "stdout",
     "output_type": "stream",
     "text": [
      "                                     movie              lead\n",
      "0                 Uri: The Surgical Strike     Vicky Kaushal\n",
      "1                            Battalion 609       Vicky Ahuja\n",
      "2     The Accidental Prime Minister (film)       Anupam Kher\n",
      "3                          Why Cheat India     Emraan Hashmi\n",
      "4                          Evening Shadows  Mona Ambegaonkar\n",
      "...                                    ...               ...\n",
      "1495                Hum Tumhare Hain Sanam    Shah Rukh Khan\n",
      "1496                   Aankhen (2002 film)  Amitabh Bachchan\n",
      "1497                       Saathiya (film)      Vivek Oberoi\n",
      "1498                        Company (film)        Ajay Devgn\n",
      "1499                  Awara Paagal Deewana      Akshay Kumar\n",
      "\n",
      "[1500 rows x 2 columns]\n",
      "<class 'pandas.core.frame.DataFrame'>\n",
      "0          Vicky Kaushal\n",
      "1            Vicky Ahuja\n",
      "2            Anupam Kher\n",
      "3          Emraan Hashmi\n",
      "4       Mona Ambegaonkar\n",
      "              ...       \n",
      "1495      Shah Rukh Khan\n",
      "1496    Amitabh Bachchan\n",
      "1497        Vivek Oberoi\n",
      "1498          Ajay Devgn\n",
      "1499        Akshay Kumar\n",
      "Name: lead, Length: 1500, dtype: object\n",
      "<class 'pandas.core.series.Series'>\n"
     ]
    }
   ],
   "source": [
    "# 3rd Importing\n",
    "# bollywood.csv from DATASETS FOLDER inside it DAY1 folder\n",
    "movie_df=pd.read_csv(\"DATASETS/DAY1/bollywood.csv\")\n",
    "print(movie_df)\n",
    "print(type(movie_df)) # dataframe\n",
    "\n",
    "# taking one Column From DataFrame => Series\n",
    "print((movie_df[\"lead\"]))\n",
    "print(type(movie_df[\"lead\"]))"
   ]
  },
  {
   "cell_type": "code",
   "execution_count": 15,
   "id": "9f48ea31",
   "metadata": {},
   "outputs": [
    {
     "name": "stdout",
     "output_type": "stream",
     "text": [
      "movie\n",
      "Uri: The Surgical Strike                   Vicky Kaushal\n",
      "Battalion 609                                Vicky Ahuja\n",
      "The Accidental Prime Minister (film)         Anupam Kher\n",
      "Why Cheat India                            Emraan Hashmi\n",
      "Evening Shadows                         Mona Ambegaonkar\n",
      "                                              ...       \n",
      "Hum Tumhare Hain Sanam                    Shah Rukh Khan\n",
      "Aankhen (2002 film)                     Amitabh Bachchan\n",
      "Saathiya (film)                             Vivek Oberoi\n",
      "Company (film)                                Ajay Devgn\n",
      "Awara Paagal Deewana                        Akshay Kumar\n",
      "Length: 1500, dtype: object\n"
     ]
    }
   ],
   "source": [
    "# using above movie_df and convert it to series\n",
    "\n",
    "movie_series=pd.Series(movie_df[\"lead\"].values,index=movie_df[\"movie\"])\n",
    "print(movie_series)"
   ]
  },
  {
   "cell_type": "markdown",
   "id": "bcd01ba7",
   "metadata": {},
   "source": [
    "# Series Methods"
   ]
  },
  {
   "cell_type": "code",
   "execution_count": 16,
   "id": "8c356794",
   "metadata": {},
   "outputs": [
    {
     "data": {
      "text/plain": [
       "'3.movie_series'"
      ]
     },
     "execution_count": 16,
     "metadata": {},
     "output_type": "execute_result"
    }
   ],
   "source": [
    "\"WE WIll APlly the Series Methods On above Created threeSeries\"\n",
    "\"1.Subscriber_series\"\n",
    "\"2.kohli_series\"\n",
    "\"3.movie_series\""
   ]
  },
  {
   "cell_type": "code",
   "execution_count": null,
   "id": "720099a7",
   "metadata": {},
   "outputs": [
    {
     "data": {
      "text/plain": [
       "'Common Methods\\n\\n1. s.head(n):  Returns the first n (rows)elements of the Series.\\nDefault is 5\\n\\n2. s.tail(n):  Returns the last n elements of the Series.\\nDefault is 5\\n\\n3. s.sample(n):Returns a random sample of n elements from the Series.(random Rows)\\nDefault is 1\\n\\n4. s.describe():Returns descriptive statistics like count, mean, std, min, max, quartiles, etc.\\n# Usefull to get all Mathmatical things\\n\\n5. s.count() : it return the number of NON Nan Values\\ns.size : it returns all values(including Nan)\\n\\n6. s.info() :Info (only works on DataFrame, not Series directly)\\n\\n\\nMathematical & Statistical\\n7. s.sum()            # Sum of all values\\n\\n8. s.mean()           # Average\\n\\n9. s.median()         # Median\\n\\n10. s.min(), s.max()   # Min and Max\\n\\n11. s.std()            # Standard deviation\\n\\n12. s.var()            # Variance\\n\\n\\n\\nValue Counts and Frequencies\\n13. s.value_counts()                 # number of Counts of each unique value (Means How Many Times Each value Comes)\\n\\n14. s.value_counts(normalize=True)   # Proportions\\n\\n15. s.unique()                       # Unique values\\n\\n16. s.nunique()                      # Number of unique values\\n\\n\\n\\nSorting & Ranking\\n17. s.sort_values()             # Sort by values\\n\\n18. s.sort_index()              # Sort by index\\n\\n19. s.rank()                    # Ranking of values\\n\\n\\nString Methods (only for string Series)\\n20. s.str.lower()         # Convert to lowercase\\n\\n21. s.str.upper()         # Uppercase\\n\\n22. s.str.contains(\"abc\") # Boolean mask\\n\\n23. s.str.len()           # Length of each string\\n\\n24. s.str.replace(\"old\", \"new\")\\n\\n\\nNull Handling\\n25. s.isnull()            # Boolean mask for NaNs\\n\\n26. s.notnull()           # Opposite\\n\\n27. s.dropna()            # Remove nulls\\n\\n28. s.fillna(value)       # Replace nulls\\n\\n'"
      ]
     },
     "execution_count": 17,
     "metadata": {},
     "output_type": "execute_result"
    }
   ],
   "source": [
    "\"\"\"Common Methods\n",
    "\n",
    "1. s.head(n):  Returns the first n (rows)elements of the Series.\n",
    "Default is 5\n",
    "\n",
    "2. s.tail(n):  Returns the last n elements of the Series.\n",
    "Default is 5\n",
    "\n",
    "3. s.sample(n):Returns a random sample of n elements from the Series.(random Rows)\n",
    "Default is 1\n",
    "\n",
    "4. s.describe():Returns descriptive statistics like count, mean, std, min, max, quartiles, etc.\n",
    "# Usefull to get all Mathmatical things\n",
    "\n",
    "5. s.count() : it return the number of NON Nan Values\n",
    "s.size : it returns all values(including Nan)\n",
    "\n",
    "6. s.info() :Info (only works on DataFrame, not Series directly)\n",
    "\n",
    "\n",
    "Mathematical & Statistical\n",
    "7. s.sum()            # Sum of all values\n",
    "\n",
    "8. s.mean()           # Average\n",
    "\n",
    "9. s.median()         # Median\n",
    "\n",
    "10. s.min(), s.max()   # Min and Max\n",
    "\n",
    "11. s.std()            # Standard deviation\n",
    "\n",
    "12. s.var()            # Variance\n",
    "\n",
    "\n",
    "\n",
    "Value Counts and Frequencies\n",
    "13. s.value_counts()                 # number of Counts of each unique value (Means How Many Times Each value Comes)\n",
    "\n",
    "14. s.value_counts(normalize=True)   # Proportions\n",
    "\n",
    "15. s.unique()                       # Unique values\n",
    "\n",
    "16. s.nunique()                      # Number of unique values\n",
    "\n",
    "\n",
    "\n",
    "Sorting & Ranking\n",
    "17. s.sort_values()             # Sort by values\n",
    "\n",
    "18. s.sort_index()              # Sort by index\n",
    "\n",
    "19. s.rank()                    # Ranking of values\n",
    "\n",
    "\n",
    "String Methods (only for string Series)\n",
    "20. s.str.lower()         # Convert to lowercase\n",
    "\n",
    "21. s.str.upper()         # Uppercase\n",
    "\n",
    "22. s.str.contains(\"abc\") # Boolean mask\n",
    "\n",
    "23. s.str.len()           # Length of each string\n",
    "\n",
    "24. s.str.replace(\"old\", \"new\")\n",
    "\n",
    "\n",
    "Null Handling\n",
    "25. s.isnull()            # Boolean mask for NaNs\n",
    "\n",
    "26. s.notnull()           # Opposite\n",
    "\n",
    "27. s.dropna()            # Remove nulls\n",
    "\n",
    "28. s.fillna(value)       # Replace nulls\n",
    "\n",
    "\n",
    "# OTher Methods\n",
    "1. astype() \n",
    "Change Data Type\n",
    "\n",
    "2. between(): \n",
    "Check if values fall in range\n",
    "\n",
    "3. clip()\n",
    "Limit values to a range\n",
    "\n",
    "4.drop_duplicates():\n",
    " Remove duplicate values\n",
    "\n",
    "5.isin():\n",
    "   Check if values exist in a list\n",
    "\n",
    "6.apply(): \n",
    "Apply a custom function\n",
    "\n",
    "\n",
    "\"\"\"\n"
   ]
  },
  {
   "cell_type": "markdown",
   "id": "801cf052",
   "metadata": {},
   "source": [
    " To Get all Functions In one python FIle\n",
    "- [SeriesFunction](seriesFunctions.py)"
   ]
  },
  {
   "cell_type": "code",
   "execution_count": 18,
   "id": "6b0d047d",
   "metadata": {},
   "outputs": [
    {
     "name": "stdout",
     "output_type": "stream",
     "text": [
      "0    48\n",
      "1    57\n",
      "2    40\n",
      "3    43\n",
      "4    44\n",
      "5    46\n",
      "Name: Subscribers gained, dtype: int64\n",
      "match_no\n",
      "1     1\n",
      "2    23\n",
      "3    13\n",
      "4    12\n",
      "5     1\n",
      "Name: runs, dtype: int64\n"
     ]
    }
   ],
   "source": [
    "#1\n",
    "print(Subscriber_series.head(6))\n",
    "print(kohli_series.head())"
   ]
  },
  {
   "cell_type": "code",
   "execution_count": 19,
   "id": "360ca7c5",
   "metadata": {},
   "outputs": [
    {
     "name": "stdout",
     "output_type": "stream",
     "text": [
      "359    209\n",
      "360    231\n",
      "361    226\n",
      "362    155\n",
      "363    144\n",
      "364    172\n",
      "Name: Subscribers gained, dtype: int64\n",
      "match_no\n",
      "211     0\n",
      "212    20\n",
      "213    73\n",
      "214    25\n",
      "215     7\n",
      "Name: runs, dtype: int64\n"
     ]
    }
   ],
   "source": [
    "#2\n",
    "print(Subscriber_series.tail(6))\n",
    "print(kohli_series.tail())"
   ]
  },
  {
   "cell_type": "code",
   "execution_count": 20,
   "id": "2d7e765e",
   "metadata": {},
   "outputs": [
    {
     "name": "stdout",
     "output_type": "stream",
     "text": [
      "216    127\n",
      "347    212\n",
      "28      61\n",
      "292    203\n",
      "10      49\n",
      "102     79\n",
      "Name: Subscribers gained, dtype: int64\n",
      "match_no\n",
      "133    28\n",
      "Name: runs, dtype: int64\n"
     ]
    }
   ],
   "source": [
    "#3 s.sample(n)\n",
    "print(Subscriber_series.sample(6))\n",
    "print(kohli_series.sample())"
   ]
  },
  {
   "cell_type": "code",
   "execution_count": 21,
   "id": "23c10b05",
   "metadata": {},
   "outputs": [
    {
     "name": "stdout",
     "output_type": "stream",
     "text": [
      "count    365.000000\n",
      "mean     135.643836\n",
      "std       62.675023\n",
      "min       33.000000\n",
      "25%       88.000000\n",
      "50%      123.000000\n",
      "75%      177.000000\n",
      "max      396.000000\n",
      "Name: Subscribers gained, dtype: float64\n",
      "count    215.000000\n",
      "mean      30.855814\n",
      "std       26.229801\n",
      "min        0.000000\n",
      "25%        9.000000\n",
      "50%       24.000000\n",
      "75%       48.000000\n",
      "max      113.000000\n",
      "Name: runs, dtype: float64\n",
      "count             1500\n",
      "unique             566\n",
      "top       Akshay Kumar\n",
      "freq                48\n",
      "dtype: object\n"
     ]
    }
   ],
   "source": [
    "#4\n",
    "print(Subscriber_series.describe())\n",
    "print(kohli_series.describe())\n",
    "print(movie_series.describe())"
   ]
  },
  {
   "cell_type": "code",
   "execution_count": 22,
   "id": "18a25bf8",
   "metadata": {},
   "outputs": [
    {
     "name": "stdout",
     "output_type": "stream",
     "text": [
      "365\n",
      "215\n",
      "1500\n",
      "1500\n"
     ]
    }
   ],
   "source": [
    "#5\n",
    "# s.count():Counts the number of non-null values.\n",
    "print(Subscriber_series.count())\n",
    "print(kohli_series.count())\n",
    "print(movie_series.count())\n",
    "print(movie_series.size)"
   ]
  },
  {
   "cell_type": "code",
   "execution_count": 23,
   "id": "b2bc0ca0",
   "metadata": {},
   "outputs": [
    {
     "name": "stdout",
     "output_type": "stream",
     "text": [
      "Akshay Kumar            48\n",
      "Amitabh Bachchan        45\n",
      "Ajay Devgn              38\n",
      "Salman Khan             31\n",
      "Sanjay Dutt             26\n",
      "                        ..\n",
      "Tanishaa Mukerji         1\n",
      "Tanuja                   1\n",
      "Ankit                    1\n",
      "Rakhee Gulzar            1\n",
      "Geetika Vidya Ohlyan     1\n",
      "Name: count, Length: 566, dtype: int64\n"
     ]
    }
   ],
   "source": [
    "# value_counts() Gives The Frequency of Each Value \n",
    "print(movie_series.value_counts())"
   ]
  },
  {
   "cell_type": "code",
   "execution_count": 24,
   "id": "c7c43bc1",
   "metadata": {},
   "outputs": [
    {
     "name": "stdout",
     "output_type": "stream",
     "text": [
      "match_no\n",
      "128    113\n",
      "126    109\n",
      "123    108\n",
      "120    100\n",
      "164    100\n",
      "      ... \n",
      "93       0\n",
      "130      0\n",
      "206      0\n",
      "207      0\n",
      "211      0\n",
      "Name: runs, Length: 215, dtype: int64\n"
     ]
    }
   ],
   "source": [
    "# sort_value() Sort the whole Series in ascending Order\n",
    "# sort_value(ascending=False) sort the WHole Series in descending Order\n",
    "print(kohli_series.sort_values(ascending=False))\n",
    "# getting Only first Highest Values\n",
    "kohli_series.sort_values(ascending=False).values[0]\n",
    "\n",
    "# it does not change the original Series , because it returns new Series\n",
    "# so to change in original we use inplace=True \n",
    "# this changes in Original Series\n",
    "kohli_series.sort_values(ascending=False,inplace=True)"
   ]
  },
  {
   "cell_type": "code",
   "execution_count": 25,
   "id": "578b435d",
   "metadata": {},
   "outputs": [
    {
     "data": {
      "text/plain": [
       "match_no\n",
       "128    113\n",
       "126    109\n",
       "123    108\n",
       "120    100\n",
       "164    100\n",
       "      ... \n",
       "93       0\n",
       "130      0\n",
       "206      0\n",
       "207      0\n",
       "211      0\n",
       "Name: runs, Length: 215, dtype: int64"
      ]
     },
     "execution_count": 25,
     "metadata": {},
     "output_type": "execute_result"
    }
   ],
   "source": [
    "kohli_series"
   ]
  },
  {
   "cell_type": "code",
   "execution_count": 26,
   "id": "e939365b",
   "metadata": {},
   "outputs": [
    {
     "data": {
      "text/plain": [
       "match_no\n",
       "1       1\n",
       "2      23\n",
       "3      13\n",
       "4      12\n",
       "5       1\n",
       "       ..\n",
       "211     0\n",
       "212    20\n",
       "213    73\n",
       "214    25\n",
       "215     7\n",
       "Name: runs, Length: 215, dtype: int64"
      ]
     },
     "execution_count": 26,
     "metadata": {},
     "output_type": "execute_result"
    }
   ],
   "source": [
    "# s.sort_index()\n",
    "kohli_series.sort_index(inplace=True)\n",
    "kohli_series"
   ]
  },
  {
   "cell_type": "code",
   "execution_count": 27,
   "id": "585a0b55",
   "metadata": {},
   "outputs": [
    {
     "name": "stdout",
     "output_type": "stream",
     "text": [
      "49510 \n",
      " 135.64383561643837 \n",
      " 123.0 \n",
      " 0    105\n",
      "Name: Subscribers gained, dtype: int64 \n",
      " 62.6750230372527 \n",
      " 3928.1585127201565\n",
      "33\n",
      "396\n"
     ]
    }
   ],
   "source": [
    "# Mathmatical\n",
    "print(Subscriber_series.sum(),\"\\n\",\n",
    "Subscriber_series.mean(),\"\\n\",\n",
    "Subscriber_series.median(),\"\\n\",\n",
    "Subscriber_series.mode(),\"\\n\",\n",
    "Subscriber_series.std(),\"\\n\",\n",
    "Subscriber_series.var())\n",
    "\n",
    "print(Subscriber_series.min())\n",
    "print(Subscriber_series.max())"
   ]
  },
  {
   "cell_type": "markdown",
   "id": "ed8c8916",
   "metadata": {},
   "source": [
    "# Series Indexing"
   ]
  },
  {
   "cell_type": "markdown",
   "id": "3a00916e",
   "metadata": {},
   "source": [
    "1. __Direct Indexing__:\n",
    "\n",
    "This is the most common for simple lookups"
   ]
  },
  {
   "cell_type": "code",
   "execution_count": 28,
   "id": "6803ab9a",
   "metadata": {},
   "outputs": [
    {
     "name": "stdout",
     "output_type": "stream",
     "text": [
      "0    93\n",
      "1    55\n",
      "2    57\n",
      "3    23\n",
      "4    66\n",
      "5    23\n",
      "6    53\n",
      "7    60\n",
      "8    41\n",
      "9    92\n",
      "dtype: int32\n",
      "FirstItem 93\n",
      "Third Element 57\n",
      "Third Element To Last Element\n",
      " 2    57\n",
      "3    23\n",
      "4    66\n",
      "5    23\n",
      "6    53\n",
      "7    60\n",
      "8    41\n",
      "9    92\n",
      "dtype: int32\n"
     ]
    }
   ],
   "source": [
    "np.random.seed(9)\n",
    "x=pd.Series(np.random.randint(1,100,size=10))\n",
    "print(x)\n",
    "\n",
    "print(\"FirstItem\",x[0])\n",
    "print(\"Third Element\",x[2])\n",
    "print(\"Third Element To Last Element\\n\",x[2:x.size])"
   ]
  },
  {
   "cell_type": "code",
   "execution_count": 29,
   "id": "d49c4722",
   "metadata": {},
   "outputs": [],
   "source": [
    "# whenDefault Integer Index (0, 1, 2, ...)\n",
    "#  s = pd.Series([10, 20, 30])\n",
    "# Negative Indexing on Series  Not Works when (Default INteger)\n",
    "# print(s[-1])  #  ERROR!\n",
    "# NOt works\n",
    "\n",
    "# Custom String Index\n",
    "# s = pd.Series([10, 20, 30], index=['a', 'b', 'c'])\n",
    "# print(s[-1])  #  Works → 30 (last element)\n",
    "# Works\n"
   ]
  },
  {
   "cell_type": "code",
   "execution_count": 30,
   "id": "478fdabd",
   "metadata": {},
   "outputs": [
    {
     "name": "stdout",
     "output_type": "stream",
     "text": [
      "1\n",
      "Akshay Kumar\n"
     ]
    },
    {
     "name": "stderr",
     "output_type": "stream",
     "text": [
      "C:\\Users\\a\\AppData\\Local\\Temp\\ipykernel_7668\\4046944023.py:3: FutureWarning: Series.__getitem__ treating keys as positions is deprecated. In a future version, integer keys will always be treated as labels (consistent with DataFrame behavior). To access a value by position, use `ser.iloc[pos]`\n",
      "  print(movie_series[-1])\n"
     ]
    }
   ],
   "source": [
    "print(kohli_series[1])\n",
    "\n",
    "print(movie_series[-1])"
   ]
  },
  {
   "cell_type": "markdown",
   "id": "b8440a4a",
   "metadata": {},
   "source": [
    "2. __Position-Based Indexing (.iloc[])__\n",
    "\n",
    "Access by position (like a list or NumPy array)(Integer Location) ( SAME AS PYTHON LIST IT FINDS THE ELEMENT BY INBUILT INDEXES LIKE LIST)\n",
    "\n",
    "Accepts negative indexing (-1 means last item)\n",
    "\n",
    "whatever the Index you provide doesn’t matter — only position matter like lists"
   ]
  },
  {
   "cell_type": "code",
   "execution_count": 31,
   "id": "f9cb31b3",
   "metadata": {},
   "outputs": [
    {
     "name": "stdout",
     "output_type": "stream",
     "text": [
      "0    93\n",
      "1    55\n",
      "2    57\n",
      "3    23\n",
      "4    66\n",
      "5    23\n",
      "6    53\n",
      "7    60\n",
      "8    41\n",
      "9    92\n",
      "dtype: int32\n",
      "55\n",
      "92\n",
      "1    55\n",
      "2    57\n",
      "3    23\n",
      "4    66\n",
      "5    23\n",
      "dtype: int32\n"
     ]
    }
   ],
   "source": [
    "#.iloc[] is for integer location (like lists)\n",
    "np.random.seed(9)\n",
    "x=pd.Series(np.random.randint(1,100,size=10))\n",
    "print(x)\n",
    "\n",
    "print(x.iloc[1])\n",
    "print(x.iloc[-1]) # -1 Works here because it finds the things in inbuilt Indexes not from index(that you provide)\n",
    "print(x.iloc[1:6])"
   ]
  },
  {
   "cell_type": "markdown",
   "id": "987665a4",
   "metadata": {},
   "source": [
    "3. __Label-Based Indexing (.loc[])__\n",
    "\n",
    "Access by index label (like dictionary keys)\n",
    "\n",
    ".loc[] for label.(Label Location)\t(Access by label)\n",
    "\n",
    "Negative numbers will throw an error unless a label -1 exists\n",
    "\n",
    "Here THe Index Matter - You can Only Access the THings With Index\n",
    "\n"
   ]
  },
  {
   "cell_type": "code",
   "execution_count": 32,
   "id": "dafdc6d2",
   "metadata": {},
   "outputs": [
    {
     "name": "stdout",
     "output_type": "stream",
     "text": [
      "Asha     88\n",
      "Rohan    92\n",
      "Priya    79\n",
      "Karan    85\n",
      "dtype: int64\n",
      "79\n",
      "Asha     88\n",
      "Rohan    92\n",
      "dtype: int64\n"
     ]
    }
   ],
   "source": [
    "#.loc[] is for labels (like dict keys)\n",
    "s = pd.Series([88, 92, 79, 85], index=['Asha', 'Rohan', 'Priya', 'Karan'])\n",
    "print(s)\n",
    "\n",
    "\n",
    "print(s.loc[\"Priya\"])\n",
    "print(s.loc['Asha':'Rohan']) #here the both ends are Included Because it is Index "
   ]
  },
  {
   "cell_type": "markdown",
   "id": "620d6cf7",
   "metadata": {},
   "source": [
    "4. __Boolean Indexing (Filtering)__\n",
    "\n",
    "Used for conditional selections\n",
    "\n",
    "You create a boolean mask (True/False for each row), and use it to filter the Series."
   ]
  },
  {
   "cell_type": "code",
   "execution_count": 33,
   "id": "796f84c9",
   "metadata": {},
   "outputs": [
    {
     "name": "stdout",
     "output_type": "stream",
     "text": [
      "match_no\n",
      "128     True\n",
      "126     True\n",
      "123     True\n",
      "120    False\n",
      "164    False\n",
      "       ...  \n",
      "93     False\n",
      "130    False\n",
      "206    False\n",
      "207    False\n",
      "211    False\n",
      "Name: runs, Length: 215, dtype: bool\n",
      "match_no\n",
      "128    113\n",
      "126    109\n",
      "123    108\n",
      "Name: runs, dtype: int64\n"
     ]
    }
   ],
   "source": [
    "# what we can do if we have Condition use Boolean Indexing\n",
    "kohli_series.sort_values(ascending=False,inplace=True)\n",
    "mask=kohli_series>100\n",
    "print(mask)\n",
    "Filtered_values=kohli_series[kohli_series>100] # only > 100 Runs\n",
    "print(Filtered_values)"
   ]
  },
  {
   "cell_type": "code",
   "execution_count": 34,
   "id": "792a1967",
   "metadata": {},
   "outputs": [
    {
     "data": {
      "text/plain": [
       "match_no\n",
       "160    84\n",
       "110    82\n",
       "Name: runs, dtype: int64"
      ]
     },
     "execution_count": 34,
     "metadata": {},
     "output_type": "execute_result"
    }
   ],
   "source": [
    "mask=(kohli_series > 80) & (kohli_series < 90)\n",
    "kohli_series[mask]  # Use & for AND, | for OR"
   ]
  },
  {
   "cell_type": "code",
   "execution_count": 35,
   "id": "261f08ca",
   "metadata": {},
   "outputs": [
    {
     "name": "stdout",
     "output_type": "stream",
     "text": [
      "match_no\n",
      "128    False\n",
      "126    False\n",
      "123    False\n",
      "120    False\n",
      "164    False\n",
      "       ...  \n",
      "93     False\n",
      "130    False\n",
      "206    False\n",
      "207    False\n",
      "211    False\n",
      "Name: runs, Length: 215, dtype: bool\n"
     ]
    },
    {
     "data": {
      "text/plain": [
       "Series([], Name: runs, dtype: int64)"
      ]
     },
     "execution_count": 35,
     "metadata": {},
     "output_type": "execute_result"
    }
   ],
   "source": [
    "# Find missing values: s[s.isnull()]\n",
    "NanMask=kohli_series.isnull()\n",
    "print(NanMask)\n",
    "\n",
    "kohli_series[NanMask]"
   ]
  },
  {
   "cell_type": "markdown",
   "id": "5f68cd96",
   "metadata": {},
   "source": [
    "5. __Fancy Indexing (a.k.a. List Indexing)__\n",
    "\n",
    "You pass a list of labels or positions to get multiple specific elements.\n",
    "\n"
   ]
  },
  {
   "cell_type": "code",
   "execution_count": 36,
   "id": "bb95aec6",
   "metadata": {},
   "outputs": [
    {
     "name": "stdout",
     "output_type": "stream",
     "text": [
      "Index([120, 164], dtype='int64', name='match_no')\n",
      "<class 'pandas.core.indexes.base.Index'>\n",
      "[120, 164]\n"
     ]
    },
    {
     "data": {
      "text/plain": [
       "match_no\n",
       "120    100\n",
       "164    100\n",
       "Name: runs, dtype: int64"
      ]
     },
     "execution_count": 36,
     "metadata": {},
     "output_type": "execute_result"
    }
   ],
   "source": [
    "\n",
    "Century_index=kohli_series[kohli_series==100].index\n",
    "print(Century_index)\n",
    "print(type(Century_index))\n",
    "print(list(Century_index))\n",
    "\n",
    "kohli_series[Century_index]"
   ]
  },
  {
   "cell_type": "markdown",
   "id": "e3b1b1d3",
   "metadata": {},
   "source": [
    "# SLICING:\n",
    "\n",
    "Slicing is a way to extract a subset of a Series, using either:\n",
    "\n",
    "- 1. simple Indexing\n",
    ".[start:stop:step]\n",
    "Works well for negative if custom Indexing is given \n",
    "not works for negative index if the default index is given\n",
    "\n",
    "- 2. position-based slicing (like Python lists)\n",
    "Useful for Position (negative Works)\n",
    "  .iloc[start:stop:step]\n",
    "stop is Excluded\n",
    "\n",
    "- 3. label-based slicing (like dictionaries)\n",
    "Useful for Index only (negative Not works)\n",
    "    .loc[start:stop:step]\n",
    "stop is included\n",
    "\n",
    "__iloc is purely positional — works like a list.__\n",
    "\n",
    "__loc is label-based — works like a dictionary.__"
   ]
  },
  {
   "cell_type": "code",
   "execution_count": 37,
   "id": "eb1aec2f",
   "metadata": {},
   "outputs": [
    {
     "data": {
      "text/plain": [
       "match_no\n",
       "1       1\n",
       "2      23\n",
       "3      13\n",
       "4      12\n",
       "5       1\n",
       "       ..\n",
       "211     0\n",
       "212    20\n",
       "213    73\n",
       "214    25\n",
       "215     7\n",
       "Name: runs, Length: 215, dtype: int64"
      ]
     },
     "execution_count": 37,
     "metadata": {},
     "output_type": "execute_result"
    }
   ],
   "source": [
    "# slicing works same as list slicing  \n",
    "kohli_series.sort_index(inplace=True)\n",
    "kohli_series"
   ]
  },
  {
   "cell_type": "code",
   "execution_count": 38,
   "metadata": {},
   "outputs": [
    {
     "name": "stdout",
     "output_type": "stream",
     "text": [
      "match_no\n",
      "11    10\n",
      "13     3\n",
      "15    50\n",
      "Name: runs, dtype: int64\n"
     ]
    },
    {
     "data": {
      "text/plain": [
       "match_no\n",
       "215     7\n",
       "214    25\n",
       "213    73\n",
       "212    20\n",
       "Name: runs, dtype: int64"
      ]
     },
     "execution_count": 38,
     "metadata": {},
     "output_type": "execute_result"
    }
   ],
   "source": [
    "#simple Indexing\n",
    "\n",
    "print(kohli_series[10:15:2])\n",
    "\n",
    "kohli_series[-1:-5:-1]"
   ]
  },
  {
   "cell_type": "code",
   "execution_count": 39,
   "id": "a829232a",
   "metadata": {},
   "outputs": [
    {
     "name": "stdout",
     "output_type": "stream",
     "text": [
      "1. First 3 scores using iloc:\n",
      " match_no\n",
      "1     1\n",
      "2    23\n",
      "3    13\n",
      "Name: runs, dtype: int64\n",
      "2. Scores from 2nd to 4th match using loc:\n",
      " match_no\n",
      "2    23\n",
      "3    13\n",
      "4    12\n",
      "Name: runs, dtype: int64\n",
      "3. Last match score using iloc:\n",
      " 7\n",
      "4. Score in 3rd ODI using loc:\n",
      " 13\n",
      "5. Select 1st and 4th match using iloc:\n",
      " match_no\n",
      "1     1\n",
      "4    12\n",
      "Name: runs, dtype: int64\n",
      "6. Select '1st ODI' and '5th ODI' using loc:\n",
      " match_no\n",
      "1    1\n",
      "5    1\n",
      "Name: runs, dtype: int64\n"
     ]
    }
   ],
   "source": [
    "# .iloc() and .loc()\n",
    "# 1. Using iloc to get first 3 scores (by position)\n",
    "print(\"1. First 3 scores using iloc:\\n\", kohli_series.iloc[0:3])\n",
    "\n",
    "# 2. Using loc to get scores from '2nd ODI' to '4th ODI'\n",
    "print(\"2. Scores from 2nd to 4th match using loc:\\n\", kohli_series.loc[2:4])\n",
    "\n",
    "# 3. Using iloc to get the last match score\n",
    "print(\"3. Last match score using iloc:\\n\", kohli_series.iloc[-1])\n",
    "\n",
    "# 4. Using loc to get score of '3rd ODI'\n",
    "print(\"4. Score in 3rd ODI using loc:\\n\", kohli_series.loc[3])\n",
    "\n",
    "# 5. Using iloc with a list (fancy indexing)\n",
    "print(\"5. Select 1st and 4th match using iloc:\\n\", kohli_series.iloc[[0, 3]])\n",
    "\n",
    "# 6. Using loc with a list of labels\n",
    "print(\"6. Select '1st ODI' and '5th ODI' using loc:\\n\", kohli_series.loc[[1, 5]])\n"
   ]
  },
  {
   "cell_type": "markdown",
   "id": "65e1c9ec",
   "metadata": {},
   "source": [
    "# Editing Series"
   ]
  },
  {
   "cell_type": "code",
   "execution_count": 40,
   "id": "eedc7218",
   "metadata": {},
   "outputs": [
    {
     "name": "stdout",
     "output_type": "stream",
     "text": [
      "match_no\n",
      "1     1\n",
      "2    23\n",
      "3    13\n",
      "4    12\n",
      "5     1\n",
      "Name: runs, dtype: int64\n",
      "<class 'pandas.core.series.Series'>\n",
      "match_no\n",
      "1     60\n",
      "2    140\n",
      "3     13\n",
      "4     45\n",
      "5      1\n",
      "Name: runs, dtype: int64\n"
     ]
    }
   ],
   "source": [
    "# Direct assignment by index\n",
    "datapart=kohli_series.head()\n",
    "print(datapart)\n",
    "print(type(datapart))\n",
    "\n",
    "datapart[4]=45\n",
    "datapart[1]=60\n",
    "datapart[2]=140\n",
    "\n",
    "print(datapart)"
   ]
  },
  {
   "cell_type": "code",
   "execution_count": 41,
   "id": "b606426c",
   "metadata": {},
   "outputs": [
    {
     "name": "stdout",
     "output_type": "stream",
     "text": [
      "match_no\n",
      "1    60\n",
      "2     1\n",
      "3    13\n",
      "4    17\n",
      "5     1\n",
      "Name: runs, dtype: int64\n"
     ]
    }
   ],
   "source": [
    "# Multiple updates using .loc[] (Ending Index is Including)\n",
    "datapart.loc[2:4]=[1,13,17]\n",
    "print(datapart)"
   ]
  },
  {
   "cell_type": "code",
   "execution_count": 42,
   "id": "0a2c52ef",
   "metadata": {},
   "outputs": [
    {
     "name": "stdout",
     "output_type": "stream",
     "text": [
      "match_no\n",
      "1     60\n",
      "2      1\n",
      "3    100\n",
      "4    100\n",
      "5      1\n",
      "Name: runs, dtype: int64\n"
     ]
    }
   ],
   "source": [
    "#Update using .iloc[] (position) (ENding Index is Excluded)\n",
    "datapart.iloc[2:4]=[100,100]\n",
    "print(datapart)"
   ]
  },
  {
   "cell_type": "code",
   "execution_count": 43,
   "id": "51125f58",
   "metadata": {},
   "outputs": [
    {
     "name": "stdout",
     "output_type": "stream",
     "text": [
      "match_no\n",
      "1    Half-Century\n",
      "2               1\n",
      "3         Century\n",
      "4         Century\n",
      "5               1\n",
      "Name: runs, dtype: object\n"
     ]
    },
    {
     "name": "stderr",
     "output_type": "stream",
     "text": [
      "C:\\Users\\a\\AppData\\Local\\Temp\\ipykernel_7668\\1122006098.py:5: FutureWarning: Setting an item of incompatible dtype is deprecated and will raise an error in a future version of pandas. Value 'Half-Century' has dtype incompatible with int64, please explicitly cast to a compatible dtype first.\n",
      "  datapart.iloc[mask]=\"Half-Century\"\n"
     ]
    }
   ],
   "source": [
    "# Boolean indexing update\n",
    "mask=(datapart>=50)\n",
    "mask1=(datapart>=100)\n",
    "\n",
    "datapart.iloc[mask]=\"Half-Century\"\n",
    "datapart.iloc[mask1 ]=\"Century\"\n",
    "print(datapart)"
   ]
  },
  {
   "cell_type": "code",
   "execution_count": 44,
   "id": "83ecd019",
   "metadata": {},
   "outputs": [
    {
     "data": {
      "text/plain": [
       "match_no\n",
       "1      Half-Century\n",
       "2                 1\n",
       "3           Century\n",
       "4           Century\n",
       "5                 1\n",
       "100               5\n",
       "Name: runs, dtype: object"
      ]
     },
     "execution_count": 44,
     "metadata": {},
     "output_type": "execute_result"
    }
   ],
   "source": [
    "# if Index Not Exist , and we are trying to Change it \n",
    "# this creates new ELement in Series \n",
    "# not any Error\n",
    "datapart[100]=5\n",
    "# 100 Not exist Earlier But now it is Created\n",
    "datapart\n"
   ]
  },
  {
   "cell_type": "code",
   "execution_count": 45,
   "id": "7c8394a1",
   "metadata": {},
   "outputs": [
    {
     "name": "stdout",
     "output_type": "stream",
     "text": [
      "match_no\n",
      "1          100\n",
      "2           90\n",
      "3           80\n",
      "4      Century\n",
      "5            1\n",
      "100          5\n",
      "Name: runs, dtype: object\n"
     ]
    }
   ],
   "source": [
    "# changing with Fancy INdexing : Lables Are USed IN Fancy Indexing\n",
    "datapart[[1,2,3]]=[100,90,80]\n",
    "print(datapart)"
   ]
  },
  {
   "cell_type": "markdown",
   "id": "eacf9bd6",
   "metadata": {},
   "source": [
    "[__DAY2__](Day2PandasSeries.ipynb)"
   ]
  }
 ],
 "metadata": {
  "kernelspec": {
   "display_name": "Python 3",
   "language": "python",
   "name": "python3"
  },
  "language_info": {
   "codemirror_mode": {
    "name": "ipython",
    "version": 3
   },
   "file_extension": ".py",
   "mimetype": "text/x-python",
   "name": "python",
   "nbconvert_exporter": "python",
   "pygments_lexer": "ipython3",
   "version": "3.13.5"
  }
 },
 "nbformat": 4,
 "nbformat_minor": 5
}
