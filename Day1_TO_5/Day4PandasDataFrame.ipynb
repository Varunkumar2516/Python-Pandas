{
 "cells": [
  {
   "cell_type": "markdown",
   "id": "79f6f9a1",
   "metadata": {},
   "source": [
    "# day 4 Important Dataframe Functions"
   ]
  },
  {
   "cell_type": "markdown",
   "id": "d17d255c",
   "metadata": {},
   "source": [
    "click Below :\n",
    "\n",
    "[__Pandas_important_Functions__](zDataframeFunctions.pdf)"
   ]
  },
  {
   "cell_type": "code",
   "execution_count": 516,
   "id": "2a4e3b43",
   "metadata": {},
   "outputs": [],
   "source": [
    "import pandas as pd\n",
    "import numpy as np"
   ]
  },
  {
   "cell_type": "markdown",
   "id": "0c47f47b",
   "metadata": {},
   "source": [
    "# Importing data to practice"
   ]
  },
  {
   "cell_type": "code",
   "execution_count": 517,
   "id": "a292f9fc",
   "metadata": {},
   "outputs": [],
   "source": [
    "df1=pd.read_csv(\"DATASETS/DAY3/ipl-matches.csv\")\n",
    "df2=pd.read_csv(\"DATASETS/DAY3/movies.csv\")"
   ]
  },
  {
   "cell_type": "code",
   "execution_count": 518,
   "id": "9afe417f",
   "metadata": {},
   "outputs": [
    {
     "data": {
      "text/html": [
       "<div>\n",
       "<style scoped>\n",
       "    .dataframe tbody tr th:only-of-type {\n",
       "        vertical-align: middle;\n",
       "    }\n",
       "\n",
       "    .dataframe tbody tr th {\n",
       "        vertical-align: top;\n",
       "    }\n",
       "\n",
       "    .dataframe thead th {\n",
       "        text-align: right;\n",
       "    }\n",
       "</style>\n",
       "<table border=\"1\" class=\"dataframe\">\n",
       "  <thead>\n",
       "    <tr style=\"text-align: right;\">\n",
       "      <th></th>\n",
       "      <th>ID</th>\n",
       "      <th>City</th>\n",
       "      <th>Date</th>\n",
       "      <th>Season</th>\n",
       "      <th>MatchNumber</th>\n",
       "      <th>Team1</th>\n",
       "      <th>Team2</th>\n",
       "      <th>Venue</th>\n",
       "      <th>TossWinner</th>\n",
       "      <th>TossDecision</th>\n",
       "      <th>SuperOver</th>\n",
       "      <th>WinningTeam</th>\n",
       "      <th>WonBy</th>\n",
       "      <th>Margin</th>\n",
       "      <th>method</th>\n",
       "      <th>Player_of_Match</th>\n",
       "      <th>Team1Players</th>\n",
       "      <th>Team2Players</th>\n",
       "      <th>Umpire1</th>\n",
       "      <th>Umpire2</th>\n",
       "    </tr>\n",
       "  </thead>\n",
       "  <tbody>\n",
       "    <tr>\n",
       "      <th>0</th>\n",
       "      <td>1312200</td>\n",
       "      <td>Ahmedabad</td>\n",
       "      <td>2022-05-29</td>\n",
       "      <td>2022</td>\n",
       "      <td>Final</td>\n",
       "      <td>Rajasthan Royals</td>\n",
       "      <td>Gujarat Titans</td>\n",
       "      <td>Narendra Modi Stadium, Ahmedabad</td>\n",
       "      <td>Rajasthan Royals</td>\n",
       "      <td>bat</td>\n",
       "      <td>N</td>\n",
       "      <td>Gujarat Titans</td>\n",
       "      <td>Wickets</td>\n",
       "      <td>7.0</td>\n",
       "      <td>NaN</td>\n",
       "      <td>HH Pandya</td>\n",
       "      <td>['YBK Jaiswal', 'JC Buttler', 'SV Samson', 'D ...</td>\n",
       "      <td>['WP Saha', 'Shubman Gill', 'MS Wade', 'HH Pan...</td>\n",
       "      <td>CB Gaffaney</td>\n",
       "      <td>Nitin Menon</td>\n",
       "    </tr>\n",
       "  </tbody>\n",
       "</table>\n",
       "</div>"
      ],
      "text/plain": [
       "        ID       City        Date Season MatchNumber             Team1  \\\n",
       "0  1312200  Ahmedabad  2022-05-29   2022       Final  Rajasthan Royals   \n",
       "\n",
       "            Team2                             Venue        TossWinner  \\\n",
       "0  Gujarat Titans  Narendra Modi Stadium, Ahmedabad  Rajasthan Royals   \n",
       "\n",
       "  TossDecision SuperOver     WinningTeam    WonBy  Margin method  \\\n",
       "0          bat         N  Gujarat Titans  Wickets     7.0    NaN   \n",
       "\n",
       "  Player_of_Match                                       Team1Players  \\\n",
       "0       HH Pandya  ['YBK Jaiswal', 'JC Buttler', 'SV Samson', 'D ...   \n",
       "\n",
       "                                        Team2Players      Umpire1      Umpire2  \n",
       "0  ['WP Saha', 'Shubman Gill', 'MS Wade', 'HH Pan...  CB Gaffaney  Nitin Menon  "
      ]
     },
     "execution_count": 518,
     "metadata": {},
     "output_type": "execute_result"
    }
   ],
   "source": [
    "df1.head(1)"
   ]
  },
  {
   "cell_type": "code",
   "execution_count": 519,
   "id": "9e996217",
   "metadata": {},
   "outputs": [
    {
     "data": {
      "text/html": [
       "<div>\n",
       "<style scoped>\n",
       "    .dataframe tbody tr th:only-of-type {\n",
       "        vertical-align: middle;\n",
       "    }\n",
       "\n",
       "    .dataframe tbody tr th {\n",
       "        vertical-align: top;\n",
       "    }\n",
       "\n",
       "    .dataframe thead th {\n",
       "        text-align: right;\n",
       "    }\n",
       "</style>\n",
       "<table border=\"1\" class=\"dataframe\">\n",
       "  <thead>\n",
       "    <tr style=\"text-align: right;\">\n",
       "      <th></th>\n",
       "      <th>title_x</th>\n",
       "      <th>imdb_id</th>\n",
       "      <th>poster_path</th>\n",
       "      <th>wiki_link</th>\n",
       "      <th>title_y</th>\n",
       "      <th>original_title</th>\n",
       "      <th>is_adult</th>\n",
       "      <th>year_of_release</th>\n",
       "      <th>runtime</th>\n",
       "      <th>genres</th>\n",
       "      <th>imdb_rating</th>\n",
       "      <th>imdb_votes</th>\n",
       "      <th>story</th>\n",
       "      <th>summary</th>\n",
       "      <th>tagline</th>\n",
       "      <th>actors</th>\n",
       "      <th>wins_nominations</th>\n",
       "      <th>release_date</th>\n",
       "    </tr>\n",
       "  </thead>\n",
       "  <tbody>\n",
       "    <tr>\n",
       "      <th>0</th>\n",
       "      <td>Uri: The Surgical Strike</td>\n",
       "      <td>tt8291224</td>\n",
       "      <td>https://upload.wikimedia.org/wikipedia/en/thum...</td>\n",
       "      <td>https://en.wikipedia.org/wiki/Uri:_The_Surgica...</td>\n",
       "      <td>Uri: The Surgical Strike</td>\n",
       "      <td>Uri: The Surgical Strike</td>\n",
       "      <td>0</td>\n",
       "      <td>2019</td>\n",
       "      <td>138</td>\n",
       "      <td>Action|Drama|War</td>\n",
       "      <td>8.4</td>\n",
       "      <td>35112</td>\n",
       "      <td>Divided over five chapters  the film chronicle...</td>\n",
       "      <td>Indian army special forces execute a covert op...</td>\n",
       "      <td>NaN</td>\n",
       "      <td>Vicky Kaushal|Paresh Rawal|Mohit Raina|Yami Ga...</td>\n",
       "      <td>4 wins</td>\n",
       "      <td>11 January 2019 (USA)</td>\n",
       "    </tr>\n",
       "  </tbody>\n",
       "</table>\n",
       "</div>"
      ],
      "text/plain": [
       "                    title_x    imdb_id  \\\n",
       "0  Uri: The Surgical Strike  tt8291224   \n",
       "\n",
       "                                         poster_path  \\\n",
       "0  https://upload.wikimedia.org/wikipedia/en/thum...   \n",
       "\n",
       "                                           wiki_link  \\\n",
       "0  https://en.wikipedia.org/wiki/Uri:_The_Surgica...   \n",
       "\n",
       "                    title_y            original_title  is_adult  \\\n",
       "0  Uri: The Surgical Strike  Uri: The Surgical Strike         0   \n",
       "\n",
       "   year_of_release runtime            genres  imdb_rating  imdb_votes  \\\n",
       "0             2019     138  Action|Drama|War          8.4       35112   \n",
       "\n",
       "                                               story  \\\n",
       "0  Divided over five chapters  the film chronicle...   \n",
       "\n",
       "                                             summary tagline  \\\n",
       "0  Indian army special forces execute a covert op...     NaN   \n",
       "\n",
       "                                              actors wins_nominations  \\\n",
       "0  Vicky Kaushal|Paresh Rawal|Mohit Raina|Yami Ga...           4 wins   \n",
       "\n",
       "            release_date  \n",
       "0  11 January 2019 (USA)  "
      ]
     },
     "execution_count": 519,
     "metadata": {},
     "output_type": "execute_result"
    }
   ],
   "source": [
    "df2.head(1)"
   ]
  },
  {
   "cell_type": "markdown",
   "id": "09173e7a",
   "metadata": {},
   "source": [
    "# Methods"
   ]
  },
  {
   "cell_type": "code",
   "execution_count": null,
   "id": "cffafa87",
   "metadata": {},
   "outputs": [],
   "source": [
    "\"\"\"\n",
    "Important Methods\n",
    "\n",
    "1. value_counts():Used with a Series to get frequency counts.\n",
    "\n",
    "2. sort_values()\n",
    "\n",
    "3. rank()\n",
    "\n",
    "4. sort_index()\n",
    "\n",
    "5. set_index()\n",
    "\n",
    "6. rename(columns={\"oldname\":\"Newname\"})\n",
    "\n",
    "7.reset_index\n",
    "\n",
    "8. unique()\n",
    "\n",
    "\n",
    "9. unique()\n",
    "\n",
    "10. isnull()/notnull()/hasnana()\n",
    "\n",
    "\n",
    "11. dropna()\n",
    "\n",
    "12. fillna()\n",
    "\n",
    "14. drop_duplicates\n",
    "\n",
    "15. drop()\n",
    "\n",
    "16. apply()\n",
    "\n",
    "18. isin\n",
    "\n",
    "\n",
    "19. corr()\n",
    "\n",
    "20. nlargest() \n",
    "\n",
    "21. nsmallest()\n",
    "\n",
    "\n",
    "22. insert()\n",
    "\n",
    "23. copy()\n",
    "\"\"\""
   ]
  },
  {
   "cell_type": "markdown",
   "id": "fa17d0af",
   "metadata": {},
   "source": [
    "__1. value_counts(): series and dataframe applicable__"
   ]
  },
  {
   "cell_type": "code",
   "execution_count": 521,
   "id": "0dcdfa80",
   "metadata": {},
   "outputs": [],
   "source": [
    "marks=pd.DataFrame([\n",
    "    [100,80,10],\n",
    "    [90,70,7],\n",
    "    [120,100,14],\n",
    "    [80,70,14],\n",
    "    [80,70,14]\n",
    "],columns=['iq','marks','package'])"
   ]
  },
  {
   "cell_type": "code",
   "execution_count": 522,
   "id": "24e461b2",
   "metadata": {},
   "outputs": [
    {
     "data": {
      "text/html": [
       "<div>\n",
       "<style scoped>\n",
       "    .dataframe tbody tr th:only-of-type {\n",
       "        vertical-align: middle;\n",
       "    }\n",
       "\n",
       "    .dataframe tbody tr th {\n",
       "        vertical-align: top;\n",
       "    }\n",
       "\n",
       "    .dataframe thead th {\n",
       "        text-align: right;\n",
       "    }\n",
       "</style>\n",
       "<table border=\"1\" class=\"dataframe\">\n",
       "  <thead>\n",
       "    <tr style=\"text-align: right;\">\n",
       "      <th></th>\n",
       "      <th>iq</th>\n",
       "      <th>marks</th>\n",
       "      <th>package</th>\n",
       "    </tr>\n",
       "  </thead>\n",
       "  <tbody>\n",
       "    <tr>\n",
       "      <th>0</th>\n",
       "      <td>100</td>\n",
       "      <td>80</td>\n",
       "      <td>10</td>\n",
       "    </tr>\n",
       "    <tr>\n",
       "      <th>1</th>\n",
       "      <td>90</td>\n",
       "      <td>70</td>\n",
       "      <td>7</td>\n",
       "    </tr>\n",
       "    <tr>\n",
       "      <th>2</th>\n",
       "      <td>120</td>\n",
       "      <td>100</td>\n",
       "      <td>14</td>\n",
       "    </tr>\n",
       "    <tr>\n",
       "      <th>3</th>\n",
       "      <td>80</td>\n",
       "      <td>70</td>\n",
       "      <td>14</td>\n",
       "    </tr>\n",
       "    <tr>\n",
       "      <th>4</th>\n",
       "      <td>80</td>\n",
       "      <td>70</td>\n",
       "      <td>14</td>\n",
       "    </tr>\n",
       "  </tbody>\n",
       "</table>\n",
       "</div>"
      ],
      "text/plain": [
       "    iq  marks  package\n",
       "0  100     80       10\n",
       "1   90     70        7\n",
       "2  120    100       14\n",
       "3   80     70       14\n",
       "4   80     70       14"
      ]
     },
     "execution_count": 522,
     "metadata": {},
     "output_type": "execute_result"
    }
   ],
   "source": [
    "marks"
   ]
  },
  {
   "cell_type": "code",
   "execution_count": 523,
   "id": "6d2f9438",
   "metadata": {},
   "outputs": [
    {
     "data": {
      "text/plain": [
       "iq\n",
       "80     2\n",
       "100    1\n",
       "90     1\n",
       "120    1\n",
       "Name: count, dtype: int64"
      ]
     },
     "execution_count": 523,
     "metadata": {},
     "output_type": "execute_result"
    }
   ],
   "source": [
    "\"On Series\"\n",
    "marks['iq'].value_counts()"
   ]
  },
  {
   "cell_type": "code",
   "execution_count": 524,
   "id": "58b6dbf3",
   "metadata": {},
   "outputs": [
    {
     "data": {
      "text/plain": [
       "iq   marks  package\n",
       "80   70     14         2\n",
       "90   70     7          1\n",
       "100  80     10         1\n",
       "120  100    14         1\n",
       "Name: count, dtype: int64"
      ]
     },
     "execution_count": 524,
     "metadata": {},
     "output_type": "execute_result"
    }
   ],
   "source": [
    "\"On dataFrame ; It tells the Frequency of the Rows\"\n",
    "marks.value_counts()"
   ]
  },
  {
   "cell_type": "markdown",
   "id": "111f06fd",
   "metadata": {},
   "source": [
    "# Practice on Data \n",
    "\n",
    "- 1.  __Find which Player has won most man of match in finals and Qualifiers__\n",
    "\n",
    "- 2.  __Find Toss Decision Plot__\n",
    "\n",
    "- 3.  __How many Matches each Team Played__"
   ]
  },
  {
   "cell_type": "code",
   "execution_count": 525,
   "id": "1798a739",
   "metadata": {},
   "outputs": [
    {
     "data": {
      "text/html": [
       "<div>\n",
       "<style scoped>\n",
       "    .dataframe tbody tr th:only-of-type {\n",
       "        vertical-align: middle;\n",
       "    }\n",
       "\n",
       "    .dataframe tbody tr th {\n",
       "        vertical-align: top;\n",
       "    }\n",
       "\n",
       "    .dataframe thead th {\n",
       "        text-align: right;\n",
       "    }\n",
       "</style>\n",
       "<table border=\"1\" class=\"dataframe\">\n",
       "  <thead>\n",
       "    <tr style=\"text-align: right;\">\n",
       "      <th></th>\n",
       "      <th>ID</th>\n",
       "      <th>City</th>\n",
       "      <th>Date</th>\n",
       "      <th>Season</th>\n",
       "      <th>MatchNumber</th>\n",
       "      <th>Team1</th>\n",
       "      <th>Team2</th>\n",
       "      <th>Venue</th>\n",
       "      <th>TossWinner</th>\n",
       "      <th>TossDecision</th>\n",
       "      <th>SuperOver</th>\n",
       "      <th>WinningTeam</th>\n",
       "      <th>WonBy</th>\n",
       "      <th>Margin</th>\n",
       "      <th>method</th>\n",
       "      <th>Player_of_Match</th>\n",
       "      <th>Team1Players</th>\n",
       "      <th>Team2Players</th>\n",
       "      <th>Umpire1</th>\n",
       "      <th>Umpire2</th>\n",
       "    </tr>\n",
       "  </thead>\n",
       "  <tbody>\n",
       "    <tr>\n",
       "      <th>0</th>\n",
       "      <td>1312200</td>\n",
       "      <td>Ahmedabad</td>\n",
       "      <td>2022-05-29</td>\n",
       "      <td>2022</td>\n",
       "      <td>Final</td>\n",
       "      <td>Rajasthan Royals</td>\n",
       "      <td>Gujarat Titans</td>\n",
       "      <td>Narendra Modi Stadium, Ahmedabad</td>\n",
       "      <td>Rajasthan Royals</td>\n",
       "      <td>bat</td>\n",
       "      <td>N</td>\n",
       "      <td>Gujarat Titans</td>\n",
       "      <td>Wickets</td>\n",
       "      <td>7.0</td>\n",
       "      <td>NaN</td>\n",
       "      <td>HH Pandya</td>\n",
       "      <td>['YBK Jaiswal', 'JC Buttler', 'SV Samson', 'D ...</td>\n",
       "      <td>['WP Saha', 'Shubman Gill', 'MS Wade', 'HH Pan...</td>\n",
       "      <td>CB Gaffaney</td>\n",
       "      <td>Nitin Menon</td>\n",
       "    </tr>\n",
       "    <tr>\n",
       "      <th>1</th>\n",
       "      <td>1312199</td>\n",
       "      <td>Ahmedabad</td>\n",
       "      <td>2022-05-27</td>\n",
       "      <td>2022</td>\n",
       "      <td>Qualifier 2</td>\n",
       "      <td>Royal Challengers Bangalore</td>\n",
       "      <td>Rajasthan Royals</td>\n",
       "      <td>Narendra Modi Stadium, Ahmedabad</td>\n",
       "      <td>Rajasthan Royals</td>\n",
       "      <td>field</td>\n",
       "      <td>N</td>\n",
       "      <td>Rajasthan Royals</td>\n",
       "      <td>Wickets</td>\n",
       "      <td>7.0</td>\n",
       "      <td>NaN</td>\n",
       "      <td>JC Buttler</td>\n",
       "      <td>['V Kohli', 'F du Plessis', 'RM Patidar', 'GJ ...</td>\n",
       "      <td>['YBK Jaiswal', 'JC Buttler', 'SV Samson', 'D ...</td>\n",
       "      <td>CB Gaffaney</td>\n",
       "      <td>Nitin Menon</td>\n",
       "    </tr>\n",
       "  </tbody>\n",
       "</table>\n",
       "</div>"
      ],
      "text/plain": [
       "        ID       City        Date Season  MatchNumber  \\\n",
       "0  1312200  Ahmedabad  2022-05-29   2022        Final   \n",
       "1  1312199  Ahmedabad  2022-05-27   2022  Qualifier 2   \n",
       "\n",
       "                         Team1             Team2  \\\n",
       "0             Rajasthan Royals    Gujarat Titans   \n",
       "1  Royal Challengers Bangalore  Rajasthan Royals   \n",
       "\n",
       "                              Venue        TossWinner TossDecision SuperOver  \\\n",
       "0  Narendra Modi Stadium, Ahmedabad  Rajasthan Royals          bat         N   \n",
       "1  Narendra Modi Stadium, Ahmedabad  Rajasthan Royals        field         N   \n",
       "\n",
       "        WinningTeam    WonBy  Margin method Player_of_Match  \\\n",
       "0    Gujarat Titans  Wickets     7.0    NaN       HH Pandya   \n",
       "1  Rajasthan Royals  Wickets     7.0    NaN      JC Buttler   \n",
       "\n",
       "                                        Team1Players  \\\n",
       "0  ['YBK Jaiswal', 'JC Buttler', 'SV Samson', 'D ...   \n",
       "1  ['V Kohli', 'F du Plessis', 'RM Patidar', 'GJ ...   \n",
       "\n",
       "                                        Team2Players      Umpire1      Umpire2  \n",
       "0  ['WP Saha', 'Shubman Gill', 'MS Wade', 'HH Pan...  CB Gaffaney  Nitin Menon  \n",
       "1  ['YBK Jaiswal', 'JC Buttler', 'SV Samson', 'D ...  CB Gaffaney  Nitin Menon  "
      ]
     },
     "execution_count": 525,
     "metadata": {},
     "output_type": "execute_result"
    }
   ],
   "source": [
    "\"1.    \"\n",
    "\n",
    "df1.head(2)"
   ]
  },
  {
   "cell_type": "code",
   "execution_count": 526,
   "id": "a7907b7e",
   "metadata": {},
   "outputs": [
    {
     "data": {
      "text/plain": [
       "Player_of_Match\n",
       "F du Plessis      3\n",
       "SK Raina          3\n",
       "KA Pollard        3\n",
       "JJ Bumrah         2\n",
       "AB de Villiers    2\n",
       "MK Pandey         2\n",
       "M Vijay           2\n",
       "A Kumble          2\n",
       "YK Pathan         2\n",
       "SR Watson         2\n",
       "Name: count, dtype: int64"
      ]
     },
     "execution_count": 526,
     "metadata": {},
     "output_type": "execute_result"
    }
   ],
   "source": [
    "\n",
    "df1[~(df1[\"MatchNumber\"].str.isdigit())][\"Player_of_Match\"].value_counts().head(10)"
   ]
  },
  {
   "cell_type": "code",
   "execution_count": 527,
   "id": "bd959ffe",
   "metadata": {},
   "outputs": [
    {
     "data": {
      "text/html": [
       "<div>\n",
       "<style scoped>\n",
       "    .dataframe tbody tr th:only-of-type {\n",
       "        vertical-align: middle;\n",
       "    }\n",
       "\n",
       "    .dataframe tbody tr th {\n",
       "        vertical-align: top;\n",
       "    }\n",
       "\n",
       "    .dataframe thead th {\n",
       "        text-align: right;\n",
       "    }\n",
       "</style>\n",
       "<table border=\"1\" class=\"dataframe\">\n",
       "  <thead>\n",
       "    <tr style=\"text-align: right;\">\n",
       "      <th></th>\n",
       "      <th>ID</th>\n",
       "      <th>City</th>\n",
       "      <th>Date</th>\n",
       "      <th>Season</th>\n",
       "      <th>MatchNumber</th>\n",
       "      <th>Team1</th>\n",
       "      <th>Team2</th>\n",
       "      <th>Venue</th>\n",
       "      <th>TossWinner</th>\n",
       "      <th>TossDecision</th>\n",
       "      <th>SuperOver</th>\n",
       "      <th>WinningTeam</th>\n",
       "      <th>WonBy</th>\n",
       "      <th>Margin</th>\n",
       "      <th>method</th>\n",
       "      <th>Player_of_Match</th>\n",
       "      <th>Team1Players</th>\n",
       "      <th>Team2Players</th>\n",
       "      <th>Umpire1</th>\n",
       "      <th>Umpire2</th>\n",
       "    </tr>\n",
       "  </thead>\n",
       "  <tbody>\n",
       "    <tr>\n",
       "      <th>0</th>\n",
       "      <td>1312200</td>\n",
       "      <td>Ahmedabad</td>\n",
       "      <td>2022-05-29</td>\n",
       "      <td>2022</td>\n",
       "      <td>Final</td>\n",
       "      <td>Rajasthan Royals</td>\n",
       "      <td>Gujarat Titans</td>\n",
       "      <td>Narendra Modi Stadium, Ahmedabad</td>\n",
       "      <td>Rajasthan Royals</td>\n",
       "      <td>bat</td>\n",
       "      <td>N</td>\n",
       "      <td>Gujarat Titans</td>\n",
       "      <td>Wickets</td>\n",
       "      <td>7.0</td>\n",
       "      <td>NaN</td>\n",
       "      <td>HH Pandya</td>\n",
       "      <td>['YBK Jaiswal', 'JC Buttler', 'SV Samson', 'D ...</td>\n",
       "      <td>['WP Saha', 'Shubman Gill', 'MS Wade', 'HH Pan...</td>\n",
       "      <td>CB Gaffaney</td>\n",
       "      <td>Nitin Menon</td>\n",
       "    </tr>\n",
       "  </tbody>\n",
       "</table>\n",
       "</div>"
      ],
      "text/plain": [
       "        ID       City        Date Season MatchNumber             Team1  \\\n",
       "0  1312200  Ahmedabad  2022-05-29   2022       Final  Rajasthan Royals   \n",
       "\n",
       "            Team2                             Venue        TossWinner  \\\n",
       "0  Gujarat Titans  Narendra Modi Stadium, Ahmedabad  Rajasthan Royals   \n",
       "\n",
       "  TossDecision SuperOver     WinningTeam    WonBy  Margin method  \\\n",
       "0          bat         N  Gujarat Titans  Wickets     7.0    NaN   \n",
       "\n",
       "  Player_of_Match                                       Team1Players  \\\n",
       "0       HH Pandya  ['YBK Jaiswal', 'JC Buttler', 'SV Samson', 'D ...   \n",
       "\n",
       "                                        Team2Players      Umpire1      Umpire2  \n",
       "0  ['WP Saha', 'Shubman Gill', 'MS Wade', 'HH Pan...  CB Gaffaney  Nitin Menon  "
      ]
     },
     "execution_count": 527,
     "metadata": {},
     "output_type": "execute_result"
    }
   ],
   "source": [
    "\n",
    "\"2.    \"\n",
    "df1.head(1)"
   ]
  },
  {
   "cell_type": "code",
   "execution_count": 528,
   "id": "00389591",
   "metadata": {},
   "outputs": [
    {
     "name": "stdout",
     "output_type": "stream",
     "text": [
      "TossDecision\n",
      "field    599\n",
      "bat      351\n",
      "Name: count, dtype: int64\n"
     ]
    },
    {
     "data": {
      "text/plain": [
       "<Axes: ylabel='count'>"
      ]
     },
     "execution_count": 528,
     "metadata": {},
     "output_type": "execute_result"
    },
    {
     "data": {
      "image/png": "[encoded data removed]",
      "text/plain": [
       "<Figure size 640x480 with 1 Axes>"
      ]
     },
     "metadata": {},
     "output_type": "display_data"
    }
   ],
   "source": [
    "\n",
    "print(df1[\"TossDecision\"].value_counts())\n",
    "df1[\"TossDecision\"].value_counts().plot(kind='pie',autopct='%1.1f%%')"
   ]
  },
  {
   "cell_type": "code",
   "execution_count": 529,
   "id": "43439b3e",
   "metadata": {},
   "outputs": [
    {
     "data": {
      "text/html": [
       "<div>\n",
       "<style scoped>\n",
       "    .dataframe tbody tr th:only-of-type {\n",
       "        vertical-align: middle;\n",
       "    }\n",
       "\n",
       "    .dataframe tbody tr th {\n",
       "        vertical-align: top;\n",
       "    }\n",
       "\n",
       "    .dataframe thead th {\n",
       "        text-align: right;\n",
       "    }\n",
       "</style>\n",
       "<table border=\"1\" class=\"dataframe\">\n",
       "  <thead>\n",
       "    <tr style=\"text-align: right;\">\n",
       "      <th></th>\n",
       "      <th>ID</th>\n",
       "      <th>City</th>\n",
       "      <th>Date</th>\n",
       "      <th>Season</th>\n",
       "      <th>MatchNumber</th>\n",
       "      <th>Team1</th>\n",
       "      <th>Team2</th>\n",
       "      <th>Venue</th>\n",
       "      <th>TossWinner</th>\n",
       "      <th>TossDecision</th>\n",
       "      <th>SuperOver</th>\n",
       "      <th>WinningTeam</th>\n",
       "      <th>WonBy</th>\n",
       "      <th>Margin</th>\n",
       "      <th>method</th>\n",
       "      <th>Player_of_Match</th>\n",
       "      <th>Team1Players</th>\n",
       "      <th>Team2Players</th>\n",
       "      <th>Umpire1</th>\n",
       "      <th>Umpire2</th>\n",
       "    </tr>\n",
       "  </thead>\n",
       "  <tbody>\n",
       "    <tr>\n",
       "      <th>0</th>\n",
       "      <td>1312200</td>\n",
       "      <td>Ahmedabad</td>\n",
       "      <td>2022-05-29</td>\n",
       "      <td>2022</td>\n",
       "      <td>Final</td>\n",
       "      <td>Rajasthan Royals</td>\n",
       "      <td>Gujarat Titans</td>\n",
       "      <td>Narendra Modi Stadium, Ahmedabad</td>\n",
       "      <td>Rajasthan Royals</td>\n",
       "      <td>bat</td>\n",
       "      <td>N</td>\n",
       "      <td>Gujarat Titans</td>\n",
       "      <td>Wickets</td>\n",
       "      <td>7.0</td>\n",
       "      <td>NaN</td>\n",
       "      <td>HH Pandya</td>\n",
       "      <td>['YBK Jaiswal', 'JC Buttler', 'SV Samson', 'D ...</td>\n",
       "      <td>['WP Saha', 'Shubman Gill', 'MS Wade', 'HH Pan...</td>\n",
       "      <td>CB Gaffaney</td>\n",
       "      <td>Nitin Menon</td>\n",
       "    </tr>\n",
       "    <tr>\n",
       "      <th>1</th>\n",
       "      <td>1312199</td>\n",
       "      <td>Ahmedabad</td>\n",
       "      <td>2022-05-27</td>\n",
       "      <td>2022</td>\n",
       "      <td>Qualifier 2</td>\n",
       "      <td>Royal Challengers Bangalore</td>\n",
       "      <td>Rajasthan Royals</td>\n",
       "      <td>Narendra Modi Stadium, Ahmedabad</td>\n",
       "      <td>Rajasthan Royals</td>\n",
       "      <td>field</td>\n",
       "      <td>N</td>\n",
       "      <td>Rajasthan Royals</td>\n",
       "      <td>Wickets</td>\n",
       "      <td>7.0</td>\n",
       "      <td>NaN</td>\n",
       "      <td>JC Buttler</td>\n",
       "      <td>['V Kohli', 'F du Plessis', 'RM Patidar', 'GJ ...</td>\n",
       "      <td>['YBK Jaiswal', 'JC Buttler', 'SV Samson', 'D ...</td>\n",
       "      <td>CB Gaffaney</td>\n",
       "      <td>Nitin Menon</td>\n",
       "    </tr>\n",
       "  </tbody>\n",
       "</table>\n",
       "</div>"
      ],
      "text/plain": [
       "        ID       City        Date Season  MatchNumber  \\\n",
       "0  1312200  Ahmedabad  2022-05-29   2022        Final   \n",
       "1  1312199  Ahmedabad  2022-05-27   2022  Qualifier 2   \n",
       "\n",
       "                         Team1             Team2  \\\n",
       "0             Rajasthan Royals    Gujarat Titans   \n",
       "1  Royal Challengers Bangalore  Rajasthan Royals   \n",
       "\n",
       "                              Venue        TossWinner TossDecision SuperOver  \\\n",
       "0  Narendra Modi Stadium, Ahmedabad  Rajasthan Royals          bat         N   \n",
       "1  Narendra Modi Stadium, Ahmedabad  Rajasthan Royals        field         N   \n",
       "\n",
       "        WinningTeam    WonBy  Margin method Player_of_Match  \\\n",
       "0    Gujarat Titans  Wickets     7.0    NaN       HH Pandya   \n",
       "1  Rajasthan Royals  Wickets     7.0    NaN      JC Buttler   \n",
       "\n",
       "                                        Team1Players  \\\n",
       "0  ['YBK Jaiswal', 'JC Buttler', 'SV Samson', 'D ...   \n",
       "1  ['V Kohli', 'F du Plessis', 'RM Patidar', 'GJ ...   \n",
       "\n",
       "                                        Team2Players      Umpire1      Umpire2  \n",
       "0  ['WP Saha', 'Shubman Gill', 'MS Wade', 'HH Pan...  CB Gaffaney  Nitin Menon  \n",
       "1  ['YBK Jaiswal', 'JC Buttler', 'SV Samson', 'D ...  CB Gaffaney  Nitin Menon  "
      ]
     },
     "execution_count": 529,
     "metadata": {},
     "output_type": "execute_result"
    }
   ],
   "source": [
    "\"3.   \"\n",
    "\n",
    "df1.head(2)"
   ]
  },
  {
   "cell_type": "code",
   "execution_count": 530,
   "id": "8edf79e7",
   "metadata": {},
   "outputs": [
    {
     "data": {
      "text/plain": [
       "Team1\n",
       "Royal Challengers Bangalore    126\n",
       "Mumbai Indians                 112\n",
       "Chennai Super Kings            111\n",
       "Kolkata Knight Riders          105\n",
       "Kings XI Punjab                 92\n",
       "Rajasthan Royals                89\n",
       "Delhi Daredevils                85\n",
       "Sunrisers Hyderabad             69\n",
       "Deccan Chargers                 39\n",
       "Delhi Capitals                  29\n",
       "Pune Warriors                   23\n",
       "Punjab Kings                    18\n",
       "Gujarat Lions                   16\n",
       "Lucknow Super Giants             8\n",
       "Gujarat Titans                   7\n",
       "Rising Pune Supergiant           7\n",
       "Rising Pune Supergiants          7\n",
       "Kochi Tuskers Kerala             7\n",
       "Name: count, dtype: int64"
      ]
     },
     "execution_count": 530,
     "metadata": {},
     "output_type": "execute_result"
    }
   ],
   "source": [
    "x=df1[\"Team1\"].value_counts()\n",
    "x"
   ]
  },
  {
   "cell_type": "code",
   "execution_count": 531,
   "id": "ce8bd219",
   "metadata": {},
   "outputs": [
    {
     "data": {
      "text/plain": [
       "Team2\n",
       "Mumbai Indians                 119\n",
       "Kolkata Knight Riders          118\n",
       "Rajasthan Royals               103\n",
       "Royal Challengers Bangalore    100\n",
       "Kings XI Punjab                 98\n",
       "Chennai Super Kings             97\n",
       "Sunrisers Hyderabad             83\n",
       "Delhi Daredevils                76\n",
       "Deccan Chargers                 36\n",
       "Delhi Capitals                  34\n",
       "Pune Warriors                   23\n",
       "Gujarat Lions                   14\n",
       "Punjab Kings                    10\n",
       "Gujarat Titans                   9\n",
       "Rising Pune Supergiant           9\n",
       "Lucknow Super Giants             7\n",
       "Rising Pune Supergiants          7\n",
       "Kochi Tuskers Kerala             7\n",
       "Name: count, dtype: int64"
      ]
     },
     "execution_count": 531,
     "metadata": {},
     "output_type": "execute_result"
    }
   ],
   "source": [
    "y=df1[\"Team2\"].value_counts()\n",
    "y"
   ]
  },
  {
   "cell_type": "code",
   "execution_count": 532,
   "id": "90f114b0",
   "metadata": {},
   "outputs": [],
   "source": [
    "MatchNumber_Series=(x+y).sort_values(ascending=False)"
   ]
  },
  {
   "cell_type": "code",
   "execution_count": 533,
   "id": "1745a445",
   "metadata": {},
   "outputs": [
    {
     "data": {
      "text/plain": [
       "Mumbai Indians                 231\n",
       "Royal Challengers Bangalore    226\n",
       "Kolkata Knight Riders          223\n",
       "Chennai Super Kings            208\n",
       "Rajasthan Royals               192\n",
       "Kings XI Punjab                190\n",
       "Delhi Daredevils               161\n",
       "Sunrisers Hyderabad            152\n",
       "Deccan Chargers                 75\n",
       "Delhi Capitals                  63\n",
       "Pune Warriors                   46\n",
       "Gujarat Lions                   30\n",
       "Punjab Kings                    28\n",
       "Gujarat Titans                  16\n",
       "Rising Pune Supergiant          16\n",
       "Lucknow Super Giants            15\n",
       "Kochi Tuskers Kerala            14\n",
       "Rising Pune Supergiants         14\n",
       "Name: count, dtype: int64"
      ]
     },
     "execution_count": 533,
     "metadata": {},
     "output_type": "execute_result"
    }
   ],
   "source": [
    "MatchNumber_Series"
   ]
  },
  {
   "cell_type": "code",
   "execution_count": 534,
   "id": "4de85191",
   "metadata": {},
   "outputs": [
    {
     "data": {
      "image/png": "[encoded data removed]",
      "text/plain": [
       "<Figure size 640x480 with 1 Axes>"
      ]
     },
     "metadata": {},
     "output_type": "display_data"
    }
   ],
   "source": [
    "ax = MatchNumber_Series.head().plot(kind='bar', grid=True)\n",
    "\n",
    "for i, val in enumerate(MatchNumber_Series.head()):\n",
    "    ax.text( i-0.1,val+5 , str(val), va='center')\n"
   ]
  },
  {
   "cell_type": "markdown",
   "id": "b8105dd1",
   "metadata": {},
   "source": [
    "__2. sort_values()__\n",
    "\n",
    "__This method sorts a DataFrame or Series by the values in one or more columns.__"
   ]
  },
  {
   "cell_type": "code",
   "execution_count": null,
   "id": "99d49963",
   "metadata": {},
   "outputs": [],
   "source": [
    "\"\"\"\n",
    "\n",
    "To apply this on DataFrame use by=\"ColName\" \n",
    "by\t             Column name or list of column names to sort by. (Required)\n",
    "axis\t         0 for sorting rows (default), 1 for sorting columns.\n",
    "ascending\t     Sort ascending vs. descending. Can be bool or list of bools.\n",
    "inplace       \tIf True, modifies the original DataFrame. Default is False.\n",
    "kind\t        Sorting algorithm: 'quicksort', 'mergesort', 'heapsort', 'stable'.\n",
    "na_position  \tPlace NaNs 'first' or 'last'. Default is 'last'.\n",
    "ignore_index\tIf True, resets index in the result.\n",
    "key\t            Function to apply before sorting (like str.lower). New in Pandas 1.1.0+\"\"\""
   ]
  },
  {
   "cell_type": "code",
   "execution_count": 536,
   "id": "9661d3de",
   "metadata": {},
   "outputs": [
    {
     "data": {
      "text/html": [
       "<div>\n",
       "<style scoped>\n",
       "    .dataframe tbody tr th:only-of-type {\n",
       "        vertical-align: middle;\n",
       "    }\n",
       "\n",
       "    .dataframe tbody tr th {\n",
       "        vertical-align: top;\n",
       "    }\n",
       "\n",
       "    .dataframe thead th {\n",
       "        text-align: right;\n",
       "    }\n",
       "</style>\n",
       "<table border=\"1\" class=\"dataframe\">\n",
       "  <thead>\n",
       "    <tr style=\"text-align: right;\">\n",
       "      <th></th>\n",
       "      <th>ID</th>\n",
       "      <th>City</th>\n",
       "      <th>Date</th>\n",
       "      <th>Season</th>\n",
       "      <th>MatchNumber</th>\n",
       "      <th>Team1</th>\n",
       "      <th>Team2</th>\n",
       "      <th>Venue</th>\n",
       "      <th>TossWinner</th>\n",
       "      <th>TossDecision</th>\n",
       "      <th>SuperOver</th>\n",
       "      <th>WinningTeam</th>\n",
       "      <th>WonBy</th>\n",
       "      <th>Margin</th>\n",
       "      <th>method</th>\n",
       "      <th>Player_of_Match</th>\n",
       "      <th>Team1Players</th>\n",
       "      <th>Team2Players</th>\n",
       "      <th>Umpire1</th>\n",
       "      <th>Umpire2</th>\n",
       "    </tr>\n",
       "  </thead>\n",
       "  <tbody>\n",
       "    <tr>\n",
       "      <th>329</th>\n",
       "      <td>1082635</td>\n",
       "      <td>Delhi</td>\n",
       "      <td>2017-05-06</td>\n",
       "      <td>2017</td>\n",
       "      <td>45</td>\n",
       "      <td>Delhi Daredevils</td>\n",
       "      <td>Mumbai Indians</td>\n",
       "      <td>Feroz Shah Kotla</td>\n",
       "      <td>Delhi Daredevils</td>\n",
       "      <td>field</td>\n",
       "      <td>N</td>\n",
       "      <td>Mumbai Indians</td>\n",
       "      <td>Runs</td>\n",
       "      <td>146.0</td>\n",
       "      <td>NaN</td>\n",
       "      <td>LMP Simmons</td>\n",
       "      <td>['SV Samson', 'KK Nair', 'SS Iyer', 'RR Pant',...</td>\n",
       "      <td>['LMP Simmons', 'PA Patel', 'KA Pollard', 'RG ...</td>\n",
       "      <td>Nitin Menon</td>\n",
       "      <td>CK Nandan</td>\n",
       "    </tr>\n",
       "    <tr>\n",
       "      <th>388</th>\n",
       "      <td>980987</td>\n",
       "      <td>Bangalore</td>\n",
       "      <td>2016-05-14</td>\n",
       "      <td>2016</td>\n",
       "      <td>44</td>\n",
       "      <td>Royal Challengers Bangalore</td>\n",
       "      <td>Gujarat Lions</td>\n",
       "      <td>M Chinnaswamy Stadium</td>\n",
       "      <td>Gujarat Lions</td>\n",
       "      <td>field</td>\n",
       "      <td>N</td>\n",
       "      <td>Royal Challengers Bangalore</td>\n",
       "      <td>Runs</td>\n",
       "      <td>144.0</td>\n",
       "      <td>NaN</td>\n",
       "      <td>AB de Villiers</td>\n",
       "      <td>['CH Gayle', 'V Kohli', 'AB de Villiers', 'SR ...</td>\n",
       "      <td>['DR Smith', 'BB McCullum', 'RA Jadeja', 'KD K...</td>\n",
       "      <td>AY Dandekar</td>\n",
       "      <td>VK Sharma</td>\n",
       "    </tr>\n",
       "    <tr>\n",
       "      <th>949</th>\n",
       "      <td>335982</td>\n",
       "      <td>Bangalore</td>\n",
       "      <td>2008-04-18</td>\n",
       "      <td>2007/08</td>\n",
       "      <td>1</td>\n",
       "      <td>Royal Challengers Bangalore</td>\n",
       "      <td>Kolkata Knight Riders</td>\n",
       "      <td>M Chinnaswamy Stadium</td>\n",
       "      <td>Royal Challengers Bangalore</td>\n",
       "      <td>field</td>\n",
       "      <td>N</td>\n",
       "      <td>Kolkata Knight Riders</td>\n",
       "      <td>Runs</td>\n",
       "      <td>140.0</td>\n",
       "      <td>NaN</td>\n",
       "      <td>BB McCullum</td>\n",
       "      <td>['R Dravid', 'W Jaffer', 'V Kohli', 'JH Kallis...</td>\n",
       "      <td>['SC Ganguly', 'BB McCullum', 'RT Ponting', 'D...</td>\n",
       "      <td>Asad Rauf</td>\n",
       "      <td>RE Koertzen</td>\n",
       "    </tr>\n",
       "  </tbody>\n",
       "</table>\n",
       "</div>"
      ],
      "text/plain": [
       "          ID       City        Date   Season MatchNumber  \\\n",
       "329  1082635      Delhi  2017-05-06     2017          45   \n",
       "388   980987  Bangalore  2016-05-14     2016          44   \n",
       "949   335982  Bangalore  2008-04-18  2007/08           1   \n",
       "\n",
       "                           Team1                  Team2  \\\n",
       "329             Delhi Daredevils         Mumbai Indians   \n",
       "388  Royal Challengers Bangalore          Gujarat Lions   \n",
       "949  Royal Challengers Bangalore  Kolkata Knight Riders   \n",
       "\n",
       "                     Venue                   TossWinner TossDecision  \\\n",
       "329       Feroz Shah Kotla             Delhi Daredevils        field   \n",
       "388  M Chinnaswamy Stadium                Gujarat Lions        field   \n",
       "949  M Chinnaswamy Stadium  Royal Challengers Bangalore        field   \n",
       "\n",
       "    SuperOver                  WinningTeam WonBy  Margin method  \\\n",
       "329         N               Mumbai Indians  Runs   146.0    NaN   \n",
       "388         N  Royal Challengers Bangalore  Runs   144.0    NaN   \n",
       "949         N        Kolkata Knight Riders  Runs   140.0    NaN   \n",
       "\n",
       "    Player_of_Match                                       Team1Players  \\\n",
       "329     LMP Simmons  ['SV Samson', 'KK Nair', 'SS Iyer', 'RR Pant',...   \n",
       "388  AB de Villiers  ['CH Gayle', 'V Kohli', 'AB de Villiers', 'SR ...   \n",
       "949     BB McCullum  ['R Dravid', 'W Jaffer', 'V Kohli', 'JH Kallis...   \n",
       "\n",
       "                                          Team2Players      Umpire1  \\\n",
       "329  ['LMP Simmons', 'PA Patel', 'KA Pollard', 'RG ...  Nitin Menon   \n",
       "388  ['DR Smith', 'BB McCullum', 'RA Jadeja', 'KD K...  AY Dandekar   \n",
       "949  ['SC Ganguly', 'BB McCullum', 'RT Ponting', 'D...    Asad Rauf   \n",
       "\n",
       "         Umpire2  \n",
       "329    CK Nandan  \n",
       "388    VK Sharma  \n",
       "949  RE Koertzen  "
      ]
     },
     "execution_count": 536,
     "metadata": {},
     "output_type": "execute_result"
    }
   ],
   "source": [
    "# by USing THis Function WE Can SOrt any Column .. it will also Rearrange\n",
    "# whole Dataframe (if We Use by=\"Colname\")\n",
    "df1.sort_values(by='Margin',ascending=False).head(3)\n",
    "\n",
    "# we can also Pass this without using (by) but it is best practice to like this\n",
    "df1.sort_values('Margin',ascending=False).head(3)"
   ]
  },
  {
   "cell_type": "code",
   "execution_count": 537,
   "id": "a9938f9f",
   "metadata": {},
   "outputs": [
    {
     "data": {
      "text/html": [
       "<div>\n",
       "<style scoped>\n",
       "    .dataframe tbody tr th:only-of-type {\n",
       "        vertical-align: middle;\n",
       "    }\n",
       "\n",
       "    .dataframe tbody tr th {\n",
       "        vertical-align: top;\n",
       "    }\n",
       "\n",
       "    .dataframe thead th {\n",
       "        text-align: right;\n",
       "    }\n",
       "</style>\n",
       "<table border=\"1\" class=\"dataframe\">\n",
       "  <thead>\n",
       "    <tr style=\"text-align: right;\">\n",
       "      <th></th>\n",
       "      <th>title_x</th>\n",
       "      <th>imdb_id</th>\n",
       "      <th>poster_path</th>\n",
       "      <th>wiki_link</th>\n",
       "      <th>title_y</th>\n",
       "      <th>original_title</th>\n",
       "      <th>is_adult</th>\n",
       "      <th>year_of_release</th>\n",
       "      <th>runtime</th>\n",
       "      <th>genres</th>\n",
       "      <th>imdb_rating</th>\n",
       "      <th>imdb_votes</th>\n",
       "      <th>story</th>\n",
       "      <th>summary</th>\n",
       "      <th>tagline</th>\n",
       "      <th>actors</th>\n",
       "      <th>wins_nominations</th>\n",
       "      <th>release_date</th>\n",
       "    </tr>\n",
       "  </thead>\n",
       "  <tbody>\n",
       "    <tr>\n",
       "      <th>0</th>\n",
       "      <td>Uri: The Surgical Strike</td>\n",
       "      <td>tt8291224</td>\n",
       "      <td>https://upload.wikimedia.org/wikipedia/en/thum...</td>\n",
       "      <td>https://en.wikipedia.org/wiki/Uri:_The_Surgica...</td>\n",
       "      <td>Uri: The Surgical Strike</td>\n",
       "      <td>Uri: The Surgical Strike</td>\n",
       "      <td>0</td>\n",
       "      <td>2019</td>\n",
       "      <td>138</td>\n",
       "      <td>Action|Drama|War</td>\n",
       "      <td>8.4</td>\n",
       "      <td>35112</td>\n",
       "      <td>Divided over five chapters  the film chronicle...</td>\n",
       "      <td>Indian army special forces execute a covert op...</td>\n",
       "      <td>NaN</td>\n",
       "      <td>Vicky Kaushal|Paresh Rawal|Mohit Raina|Yami Ga...</td>\n",
       "      <td>4 wins</td>\n",
       "      <td>11 January 2019 (USA)</td>\n",
       "    </tr>\n",
       "    <tr>\n",
       "      <th>1</th>\n",
       "      <td>Battalion 609</td>\n",
       "      <td>tt9472208</td>\n",
       "      <td>NaN</td>\n",
       "      <td>https://en.wikipedia.org/wiki/Battalion_609</td>\n",
       "      <td>Battalion 609</td>\n",
       "      <td>Battalion 609</td>\n",
       "      <td>0</td>\n",
       "      <td>2019</td>\n",
       "      <td>131</td>\n",
       "      <td>War</td>\n",
       "      <td>4.1</td>\n",
       "      <td>73</td>\n",
       "      <td>The story revolves around a cricket match betw...</td>\n",
       "      <td>The story of Battalion 609 revolves around a c...</td>\n",
       "      <td>NaN</td>\n",
       "      <td>Vicky Ahuja|Shoaib Ibrahim|Shrikant Kamat|Elen...</td>\n",
       "      <td>NaN</td>\n",
       "      <td>11 January 2019 (India)</td>\n",
       "    </tr>\n",
       "  </tbody>\n",
       "</table>\n",
       "</div>"
      ],
      "text/plain": [
       "                    title_x    imdb_id  \\\n",
       "0  Uri: The Surgical Strike  tt8291224   \n",
       "1             Battalion 609  tt9472208   \n",
       "\n",
       "                                         poster_path  \\\n",
       "0  https://upload.wikimedia.org/wikipedia/en/thum...   \n",
       "1                                                NaN   \n",
       "\n",
       "                                           wiki_link  \\\n",
       "0  https://en.wikipedia.org/wiki/Uri:_The_Surgica...   \n",
       "1        https://en.wikipedia.org/wiki/Battalion_609   \n",
       "\n",
       "                    title_y            original_title  is_adult  \\\n",
       "0  Uri: The Surgical Strike  Uri: The Surgical Strike         0   \n",
       "1             Battalion 609             Battalion 609         0   \n",
       "\n",
       "   year_of_release runtime            genres  imdb_rating  imdb_votes  \\\n",
       "0             2019     138  Action|Drama|War          8.4       35112   \n",
       "1             2019     131               War          4.1          73   \n",
       "\n",
       "                                               story  \\\n",
       "0  Divided over five chapters  the film chronicle...   \n",
       "1  The story revolves around a cricket match betw...   \n",
       "\n",
       "                                             summary tagline  \\\n",
       "0  Indian army special forces execute a covert op...     NaN   \n",
       "1  The story of Battalion 609 revolves around a c...     NaN   \n",
       "\n",
       "                                              actors wins_nominations  \\\n",
       "0  Vicky Kaushal|Paresh Rawal|Mohit Raina|Yami Ga...           4 wins   \n",
       "1  Vicky Ahuja|Shoaib Ibrahim|Shrikant Kamat|Elen...              NaN   \n",
       "\n",
       "              release_date  \n",
       "0    11 January 2019 (USA)  \n",
       "1  11 January 2019 (India)  "
      ]
     },
     "execution_count": 537,
     "metadata": {},
     "output_type": "execute_result"
    }
   ],
   "source": [
    "\"\"\"Multiple Columns At Once\"\"\"\n",
    "# sort the movies data according to \"title_x and year_of_release\"\n",
    "df2.head(2)"
   ]
  },
  {
   "cell_type": "code",
   "execution_count": 538,
   "id": "d8ac9633",
   "metadata": {},
   "outputs": [
    {
     "data": {
      "text/html": [
       "<div>\n",
       "<style scoped>\n",
       "    .dataframe tbody tr th:only-of-type {\n",
       "        vertical-align: middle;\n",
       "    }\n",
       "\n",
       "    .dataframe tbody tr th {\n",
       "        vertical-align: top;\n",
       "    }\n",
       "\n",
       "    .dataframe thead th {\n",
       "        text-align: right;\n",
       "    }\n",
       "</style>\n",
       "<table border=\"1\" class=\"dataframe\">\n",
       "  <thead>\n",
       "    <tr style=\"text-align: right;\">\n",
       "      <th></th>\n",
       "      <th>year_of_release</th>\n",
       "      <th>title_x</th>\n",
       "    </tr>\n",
       "  </thead>\n",
       "  <tbody>\n",
       "    <tr>\n",
       "      <th>1575</th>\n",
       "      <td>2001</td>\n",
       "      <td>Aalavandhan</td>\n",
       "    </tr>\n",
       "    <tr>\n",
       "      <th>1576</th>\n",
       "      <td>2001</td>\n",
       "      <td>Aamdani Atthanni Kharcha Rupaiya</td>\n",
       "    </tr>\n",
       "    <tr>\n",
       "      <th>1577</th>\n",
       "      <td>2001</td>\n",
       "      <td>Aashiq (2001 film)</td>\n",
       "    </tr>\n",
       "    <tr>\n",
       "      <th>1579</th>\n",
       "      <td>2001</td>\n",
       "      <td>Ajnabee (2001 film)</td>\n",
       "    </tr>\n",
       "    <tr>\n",
       "      <th>1578</th>\n",
       "      <td>2001</td>\n",
       "      <td>Aks (2001 film)</td>\n",
       "    </tr>\n",
       "    <tr>\n",
       "      <th>1582</th>\n",
       "      <td>2001</td>\n",
       "      <td>Albela (2001 film)</td>\n",
       "    </tr>\n",
       "    <tr>\n",
       "      <th>1581</th>\n",
       "      <td>2001</td>\n",
       "      <td>Aśoka (film)</td>\n",
       "    </tr>\n",
       "    <tr>\n",
       "      <th>1512</th>\n",
       "      <td>2001</td>\n",
       "      <td>Baaja</td>\n",
       "    </tr>\n",
       "    <tr>\n",
       "      <th>1583</th>\n",
       "      <td>2001</td>\n",
       "      <td>Bas Itna Sa Khwaab Hai</td>\n",
       "    </tr>\n",
       "    <tr>\n",
       "      <th>1586</th>\n",
       "      <td>2001</td>\n",
       "      <td>Bengal Tiger (2001 film)</td>\n",
       "    </tr>\n",
       "  </tbody>\n",
       "</table>\n",
       "</div>"
      ],
      "text/plain": [
       "      year_of_release                           title_x\n",
       "1575             2001                       Aalavandhan\n",
       "1576             2001  Aamdani Atthanni Kharcha Rupaiya\n",
       "1577             2001                Aashiq (2001 film)\n",
       "1579             2001               Ajnabee (2001 film)\n",
       "1578             2001                   Aks (2001 film)\n",
       "1582             2001                Albela (2001 film)\n",
       "1581             2001                      Aśoka (film)\n",
       "1512             2001                             Baaja\n",
       "1583             2001            Bas Itna Sa Khwaab Hai\n",
       "1586             2001          Bengal Tiger (2001 film)"
      ]
     },
     "execution_count": 538,
     "metadata": {},
     "output_type": "execute_result"
    }
   ],
   "source": [
    "\n",
    "\"first it checks year and then sort it in Alphabatically  \"\n",
    "\"both are in ascending order\"\n",
    "df2.sort_values(by=[\"year_of_release\",\"title_x\"],ascending=[True,True]).loc[:,[\"year_of_release\",\"title_x\",]].head(10)\n"
   ]
  },
  {
   "cell_type": "code",
   "execution_count": 539,
   "id": "857f4f33",
   "metadata": {},
   "outputs": [
    {
     "data": {
      "text/html": [
       "<div>\n",
       "<style scoped>\n",
       "    .dataframe tbody tr th:only-of-type {\n",
       "        vertical-align: middle;\n",
       "    }\n",
       "\n",
       "    .dataframe tbody tr th {\n",
       "        vertical-align: top;\n",
       "    }\n",
       "\n",
       "    .dataframe thead th {\n",
       "        text-align: right;\n",
       "    }\n",
       "</style>\n",
       "<table border=\"1\" class=\"dataframe\">\n",
       "  <thead>\n",
       "    <tr style=\"text-align: right;\">\n",
       "      <th></th>\n",
       "      <th>year_of_release</th>\n",
       "      <th>title_x</th>\n",
       "    </tr>\n",
       "  </thead>\n",
       "  <tbody>\n",
       "    <tr>\n",
       "      <th>1623</th>\n",
       "      <td>2001</td>\n",
       "      <td>Zubeidaa</td>\n",
       "    </tr>\n",
       "    <tr>\n",
       "      <th>1625</th>\n",
       "      <td>2001</td>\n",
       "      <td>Yeh Zindagi Ka Safar</td>\n",
       "    </tr>\n",
       "    <tr>\n",
       "      <th>1622</th>\n",
       "      <td>2001</td>\n",
       "      <td>Yeh Teraa Ghar Yeh Meraa Ghar</td>\n",
       "    </tr>\n",
       "    <tr>\n",
       "      <th>1620</th>\n",
       "      <td>2001</td>\n",
       "      <td>Yeh Raaste Hain Pyaar Ke</td>\n",
       "    </tr>\n",
       "    <tr>\n",
       "      <th>1573</th>\n",
       "      <td>2001</td>\n",
       "      <td>Yaadein (2001 film)</td>\n",
       "    </tr>\n",
       "    <tr>\n",
       "      <th>1621</th>\n",
       "      <td>2001</td>\n",
       "      <td>Tum Bin</td>\n",
       "    </tr>\n",
       "    <tr>\n",
       "      <th>1624</th>\n",
       "      <td>2001</td>\n",
       "      <td>Tera Mera Saath Rahen</td>\n",
       "    </tr>\n",
       "    <tr>\n",
       "      <th>1615</th>\n",
       "      <td>2001</td>\n",
       "      <td>Style (2001 film)</td>\n",
       "    </tr>\n",
       "    <tr>\n",
       "      <th>1616</th>\n",
       "      <td>2001</td>\n",
       "      <td>Rehnaa Hai Terre Dil Mein</td>\n",
       "    </tr>\n",
       "    <tr>\n",
       "      <th>1618</th>\n",
       "      <td>2001</td>\n",
       "      <td>Rahul (film)</td>\n",
       "    </tr>\n",
       "  </tbody>\n",
       "</table>\n",
       "</div>"
      ],
      "text/plain": [
       "      year_of_release                        title_x\n",
       "1623             2001                       Zubeidaa\n",
       "1625             2001           Yeh Zindagi Ka Safar\n",
       "1622             2001  Yeh Teraa Ghar Yeh Meraa Ghar\n",
       "1620             2001       Yeh Raaste Hain Pyaar Ke\n",
       "1573             2001            Yaadein (2001 film)\n",
       "1621             2001                        Tum Bin\n",
       "1624             2001          Tera Mera Saath Rahen\n",
       "1615             2001              Style (2001 film)\n",
       "1616             2001      Rehnaa Hai Terre Dil Mein\n",
       "1618             2001                   Rahul (film)"
      ]
     },
     "execution_count": 539,
     "metadata": {},
     "output_type": "execute_result"
    }
   ],
   "source": [
    "\n",
    "\"first it checks year and then sort it in Alphabatically  \"\n",
    "\"year is in Ascending and title is in Descending Order \"\n",
    "\"means in 2001 we get first from z name \"\n",
    "df2.sort_values(by=[\"year_of_release\",\"title_x\"],ascending=[True,False]).loc[:,[\"year_of_release\",\"title_x\",]].head(10)\n"
   ]
  },
  {
   "cell_type": "code",
   "execution_count": null,
   "id": "b07bc326",
   "metadata": {},
   "outputs": [],
   "source": [
    "\"\"\"Nan Values During Sort_values By default are at last \n",
    "na_position ='last'    by default\n",
    "na_position ='first'    at first \n",
    "\"\"\""
   ]
  },
  {
   "cell_type": "markdown",
   "id": "4048dae4",
   "metadata": {},
   "source": [
    "__3. rank()__ \n",
    "\n",
    "\n",
    "__The .rank() method assigns ranks to elements in a Series or DataFrame, with ties handled in various ways.__\n",
    "\n",
    "__It’s especially useful in scoring, leaderboards, and percentile analysis.__"
   ]
  },
  {
   "cell_type": "code",
   "execution_count": null,
   "id": "7e862e3a",
   "metadata": {},
   "outputs": [],
   "source": [
    "\"\"\"\n",
    "\n",
    "DataFrame.rank(\n",
    "    axis=0,\n",
    "    method='average',\n",
    "    numeric_only=None,\n",
    "    na_option='keep',\n",
    "    ascending=True, \n",
    "    pct=False\n",
    ")\n",
    "\n",
    "by default its assign values according to ascending order 0-> rank 1 and so on\n",
    "True (low = rank 1), False (high = rank 1)\n",
    "\n",
    "\n",
    "same values are assigned same rank\n",
    "\n",
    "method_ options\n",
    "average\t Average rank of the group (default)\n",
    "min\t     Lowest possible rank for all ties\n",
    "max\t     Highest possible rank for all ties\n",
    "first\t Order of appearance\n",
    "dense\t Like min, but no gaps in rank sequence\n",
    "\n",
    "\"\"\""
   ]
  },
  {
   "cell_type": "markdown",
   "id": "dbd4764c",
   "metadata": {},
   "source": [
    "__Using this FUnction on data__"
   ]
  },
  {
   "cell_type": "code",
   "execution_count": 542,
   "id": "32b7df30",
   "metadata": {},
   "outputs": [],
   "source": [
    "# new Data\n",
    "df3=pd.read_csv(\"DATASETS/Practice/batsman_runs_series.csv\")"
   ]
  },
  {
   "cell_type": "code",
   "execution_count": 543,
   "id": "3371c305",
   "metadata": {},
   "outputs": [
    {
     "data": {
      "text/html": [
       "<div>\n",
       "<style scoped>\n",
       "    .dataframe tbody tr th:only-of-type {\n",
       "        vertical-align: middle;\n",
       "    }\n",
       "\n",
       "    .dataframe tbody tr th {\n",
       "        vertical-align: top;\n",
       "    }\n",
       "\n",
       "    .dataframe thead th {\n",
       "        text-align: right;\n",
       "    }\n",
       "</style>\n",
       "<table border=\"1\" class=\"dataframe\">\n",
       "  <thead>\n",
       "    <tr style=\"text-align: right;\">\n",
       "      <th></th>\n",
       "      <th>batter</th>\n",
       "      <th>batsman_run</th>\n",
       "    </tr>\n",
       "  </thead>\n",
       "  <tbody>\n",
       "    <tr>\n",
       "      <th>0</th>\n",
       "      <td>A Ashish Reddy</td>\n",
       "      <td>280</td>\n",
       "    </tr>\n",
       "    <tr>\n",
       "      <th>1</th>\n",
       "      <td>A Badoni</td>\n",
       "      <td>161</td>\n",
       "    </tr>\n",
       "    <tr>\n",
       "      <th>2</th>\n",
       "      <td>A Chandila</td>\n",
       "      <td>4</td>\n",
       "    </tr>\n",
       "    <tr>\n",
       "      <th>3</th>\n",
       "      <td>A Chopra</td>\n",
       "      <td>53</td>\n",
       "    </tr>\n",
       "    <tr>\n",
       "      <th>4</th>\n",
       "      <td>A Choudhary</td>\n",
       "      <td>25</td>\n",
       "    </tr>\n",
       "    <tr>\n",
       "      <th>...</th>\n",
       "      <td>...</td>\n",
       "      <td>...</td>\n",
       "    </tr>\n",
       "    <tr>\n",
       "      <th>600</th>\n",
       "      <td>Yash Dayal</td>\n",
       "      <td>0</td>\n",
       "    </tr>\n",
       "    <tr>\n",
       "      <th>601</th>\n",
       "      <td>Yashpal Singh</td>\n",
       "      <td>47</td>\n",
       "    </tr>\n",
       "    <tr>\n",
       "      <th>602</th>\n",
       "      <td>Younis Khan</td>\n",
       "      <td>3</td>\n",
       "    </tr>\n",
       "    <tr>\n",
       "      <th>603</th>\n",
       "      <td>Yuvraj Singh</td>\n",
       "      <td>2754</td>\n",
       "    </tr>\n",
       "    <tr>\n",
       "      <th>604</th>\n",
       "      <td>Z Khan</td>\n",
       "      <td>117</td>\n",
       "    </tr>\n",
       "  </tbody>\n",
       "</table>\n",
       "<p>605 rows × 2 columns</p>\n",
       "</div>"
      ],
      "text/plain": [
       "             batter  batsman_run\n",
       "0    A Ashish Reddy          280\n",
       "1          A Badoni          161\n",
       "2        A Chandila            4\n",
       "3          A Chopra           53\n",
       "4       A Choudhary           25\n",
       "..              ...          ...\n",
       "600      Yash Dayal            0\n",
       "601   Yashpal Singh           47\n",
       "602     Younis Khan            3\n",
       "603    Yuvraj Singh         2754\n",
       "604          Z Khan          117\n",
       "\n",
       "[605 rows x 2 columns]"
      ]
     },
     "execution_count": 543,
     "metadata": {},
     "output_type": "execute_result"
    }
   ],
   "source": [
    "df3"
   ]
  },
  {
   "cell_type": "markdown",
   "id": "974bf981",
   "metadata": {},
   "source": [
    "__Now For Every Batsman We have TO assign rank for Batsman according to there Runs , to do this we can use the rank()__"
   ]
  },
  {
   "cell_type": "code",
   "execution_count": 544,
   "id": "1bcf97bb",
   "metadata": {},
   "outputs": [
    {
     "data": {
      "text/html": [
       "<div>\n",
       "<style scoped>\n",
       "    .dataframe tbody tr th:only-of-type {\n",
       "        vertical-align: middle;\n",
       "    }\n",
       "\n",
       "    .dataframe tbody tr th {\n",
       "        vertical-align: top;\n",
       "    }\n",
       "\n",
       "    .dataframe thead th {\n",
       "        text-align: right;\n",
       "    }\n",
       "</style>\n",
       "<table border=\"1\" class=\"dataframe\">\n",
       "  <thead>\n",
       "    <tr style=\"text-align: right;\">\n",
       "      <th></th>\n",
       "      <th>batter</th>\n",
       "      <th>batsman_run</th>\n",
       "    </tr>\n",
       "  </thead>\n",
       "  <tbody>\n",
       "    <tr>\n",
       "      <th>569</th>\n",
       "      <td>V Kohli</td>\n",
       "      <td>6634</td>\n",
       "    </tr>\n",
       "    <tr>\n",
       "      <th>462</th>\n",
       "      <td>S Dhawan</td>\n",
       "      <td>6244</td>\n",
       "    </tr>\n",
       "    <tr>\n",
       "      <th>130</th>\n",
       "      <td>DA Warner</td>\n",
       "      <td>5883</td>\n",
       "    </tr>\n",
       "    <tr>\n",
       "      <th>430</th>\n",
       "      <td>RG Sharma</td>\n",
       "      <td>5881</td>\n",
       "    </tr>\n",
       "    <tr>\n",
       "      <th>493</th>\n",
       "      <td>SK Raina</td>\n",
       "      <td>5536</td>\n",
       "    </tr>\n",
       "    <tr>\n",
       "      <th>...</th>\n",
       "      <td>...</td>\n",
       "      <td>...</td>\n",
       "    </tr>\n",
       "    <tr>\n",
       "      <th>512</th>\n",
       "      <td>SS Cottrell</td>\n",
       "      <td>0</td>\n",
       "    </tr>\n",
       "    <tr>\n",
       "      <th>63</th>\n",
       "      <td>Abdur Razzak</td>\n",
       "      <td>0</td>\n",
       "    </tr>\n",
       "    <tr>\n",
       "      <th>65</th>\n",
       "      <td>Akash Deep</td>\n",
       "      <td>0</td>\n",
       "    </tr>\n",
       "    <tr>\n",
       "      <th>562</th>\n",
       "      <td>U Kaul</td>\n",
       "      <td>0</td>\n",
       "    </tr>\n",
       "    <tr>\n",
       "      <th>600</th>\n",
       "      <td>Yash Dayal</td>\n",
       "      <td>0</td>\n",
       "    </tr>\n",
       "  </tbody>\n",
       "</table>\n",
       "<p>605 rows × 2 columns</p>\n",
       "</div>"
      ],
      "text/plain": [
       "           batter  batsman_run\n",
       "569       V Kohli         6634\n",
       "462      S Dhawan         6244\n",
       "130     DA Warner         5883\n",
       "430     RG Sharma         5881\n",
       "493      SK Raina         5536\n",
       "..            ...          ...\n",
       "512   SS Cottrell            0\n",
       "63   Abdur Razzak            0\n",
       "65     Akash Deep            0\n",
       "562        U Kaul            0\n",
       "600    Yash Dayal            0\n",
       "\n",
       "[605 rows x 2 columns]"
      ]
     },
     "execution_count": 544,
     "metadata": {},
     "output_type": "execute_result"
    }
   ],
   "source": [
    "df3.sort_values(by='batsman_run',ascending=False)"
   ]
  },
  {
   "cell_type": "code",
   "execution_count": 545,
   "id": "b425ac5d",
   "metadata": {},
   "outputs": [
    {
     "data": {
      "text/plain": [
       "0      439.5\n",
       "1      380.0\n",
       "2       71.0\n",
       "3      277.0\n",
       "4      203.5\n",
       "       ...  \n",
       "600     12.0\n",
       "601    263.0\n",
       "602     58.5\n",
       "603    579.0\n",
       "604    350.0\n",
       "Name: batsman_run, Length: 605, dtype: float64"
      ]
     },
     "execution_count": 545,
     "metadata": {},
     "output_type": "execute_result"
    }
   ],
   "source": [
    "# by default it ranking is according to Ascending order 0-> rank 1   , 1-> rank 2\n",
    "df3['batsman_run'].rank()"
   ]
  },
  {
   "cell_type": "code",
   "execution_count": 546,
   "id": "51659b24",
   "metadata": {},
   "outputs": [
    {
     "data": {
      "text/plain": [
       "0      166.5\n",
       "1      226.0\n",
       "2      535.0\n",
       "3      329.0\n",
       "4      402.5\n",
       "       ...  \n",
       "600    594.0\n",
       "601    343.0\n",
       "602    547.5\n",
       "603     27.0\n",
       "604    256.0\n",
       "Name: batsman_run, Length: 605, dtype: float64"
      ]
     },
     "execution_count": 546,
     "metadata": {},
     "output_type": "execute_result"
    }
   ],
   "source": [
    "# to rank according to Descending order we use ascending=False\n",
    "df3['batsman_run'].rank(ascending=False)"
   ]
  },
  {
   "cell_type": "code",
   "execution_count": 547,
   "id": "753ccfbc",
   "metadata": {},
   "outputs": [
    {
     "name": "stdout",
     "output_type": "stream",
     "text": [
      "0    1.0\n",
      "1    2.5\n",
      "2    2.5\n",
      "3    4.0\n",
      "4    5.0\n",
      "dtype: float64\n",
      "0    5.0\n",
      "1    3.5\n",
      "2    3.5\n",
      "3    2.0\n",
      "4    1.0\n",
      "dtype: float64\n"
     ]
    },
    {
     "data": {
      "text/plain": [
       "'\\n0    4.0\\n1    3.0\\n2    2.0\\n3    1.0\\n'"
      ]
     },
     "execution_count": 547,
     "metadata": {},
     "output_type": "execute_result"
    }
   ],
   "source": [
    "# Difference \n",
    "print(pd.Series([15,16,16,17,18]).rank())\n",
    "\"\"\"\n",
    "0    4.0\n",
    "1    3.0\n",
    "2    2.0\n",
    "3    1.0\n",
    "\"\"\"\n",
    "\n",
    "print(pd.Series([15,16,16,17,18]).rank(ascending=False))\n",
    "\"\"\"\n",
    "0    4.0\n",
    "1    3.0\n",
    "2    2.0\n",
    "3    1.0\n",
    "\"\"\""
   ]
  },
  {
   "cell_type": "markdown",
   "id": "e6a811ac",
   "metadata": {},
   "source": [
    "4. __sort_index()__"
   ]
  },
  {
   "cell_type": "markdown",
   "id": "f78920d5",
   "metadata": {},
   "source": [
    "__The .sort_index() method sorts a DataFrame or Series by its index (row or column labels).__"
   ]
  },
  {
   "cell_type": "code",
   "execution_count": null,
   "id": "a32713ce",
   "metadata": {},
   "outputs": [],
   "source": [
    "\"\"\"\n",
    "DataFrame.sort_index(\n",
    "    axis=0,\n",
    "    level=None,\n",
    "    ascending=True,\n",
    "    inplace=False,\n",
    "    kind='quicksort',\n",
    "    na_position='last',\n",
    "    sort_remaining=True,\n",
    "    ignore_index=False,\n",
    "    key=None\n",
    ")\n",
    "\n",
    "Just a way to Sort index Similar to sort values\n",
    "\"\"\""
   ]
  },
  {
   "cell_type": "code",
   "execution_count": 549,
   "id": "36d68cac",
   "metadata": {},
   "outputs": [
    {
     "data": {
      "text/html": [
       "<div>\n",
       "<style scoped>\n",
       "    .dataframe tbody tr th:only-of-type {\n",
       "        vertical-align: middle;\n",
       "    }\n",
       "\n",
       "    .dataframe tbody tr th {\n",
       "        vertical-align: top;\n",
       "    }\n",
       "\n",
       "    .dataframe thead th {\n",
       "        text-align: right;\n",
       "    }\n",
       "</style>\n",
       "<table border=\"1\" class=\"dataframe\">\n",
       "  <thead>\n",
       "    <tr style=\"text-align: right;\">\n",
       "      <th></th>\n",
       "      <th>batter</th>\n",
       "      <th>batsman_run</th>\n",
       "    </tr>\n",
       "  </thead>\n",
       "  <tbody>\n",
       "    <tr>\n",
       "      <th>604</th>\n",
       "      <td>Z Khan</td>\n",
       "      <td>117</td>\n",
       "    </tr>\n",
       "    <tr>\n",
       "      <th>603</th>\n",
       "      <td>Yuvraj Singh</td>\n",
       "      <td>2754</td>\n",
       "    </tr>\n",
       "    <tr>\n",
       "      <th>602</th>\n",
       "      <td>Younis Khan</td>\n",
       "      <td>3</td>\n",
       "    </tr>\n",
       "    <tr>\n",
       "      <th>601</th>\n",
       "      <td>Yashpal Singh</td>\n",
       "      <td>47</td>\n",
       "    </tr>\n",
       "    <tr>\n",
       "      <th>600</th>\n",
       "      <td>Yash Dayal</td>\n",
       "      <td>0</td>\n",
       "    </tr>\n",
       "    <tr>\n",
       "      <th>...</th>\n",
       "      <td>...</td>\n",
       "      <td>...</td>\n",
       "    </tr>\n",
       "    <tr>\n",
       "      <th>4</th>\n",
       "      <td>A Choudhary</td>\n",
       "      <td>25</td>\n",
       "    </tr>\n",
       "    <tr>\n",
       "      <th>3</th>\n",
       "      <td>A Chopra</td>\n",
       "      <td>53</td>\n",
       "    </tr>\n",
       "    <tr>\n",
       "      <th>2</th>\n",
       "      <td>A Chandila</td>\n",
       "      <td>4</td>\n",
       "    </tr>\n",
       "    <tr>\n",
       "      <th>1</th>\n",
       "      <td>A Badoni</td>\n",
       "      <td>161</td>\n",
       "    </tr>\n",
       "    <tr>\n",
       "      <th>0</th>\n",
       "      <td>A Ashish Reddy</td>\n",
       "      <td>280</td>\n",
       "    </tr>\n",
       "  </tbody>\n",
       "</table>\n",
       "<p>605 rows × 2 columns</p>\n",
       "</div>"
      ],
      "text/plain": [
       "             batter  batsman_run\n",
       "604          Z Khan          117\n",
       "603    Yuvraj Singh         2754\n",
       "602     Younis Khan            3\n",
       "601   Yashpal Singh           47\n",
       "600      Yash Dayal            0\n",
       "..              ...          ...\n",
       "4       A Choudhary           25\n",
       "3          A Chopra           53\n",
       "2        A Chandila            4\n",
       "1          A Badoni          161\n",
       "0    A Ashish Reddy          280\n",
       "\n",
       "[605 rows x 2 columns]"
      ]
     },
     "execution_count": 549,
     "metadata": {},
     "output_type": "execute_result"
    }
   ],
   "source": [
    "df3.sort_index(ascending=False)"
   ]
  },
  {
   "cell_type": "code",
   "execution_count": 550,
   "id": "4baa4eab",
   "metadata": {},
   "outputs": [
    {
     "data": {
      "text/plain": [
       "a      1\n",
       "ab     2\n",
       "abc    3\n",
       "dtype: int64"
      ]
     },
     "execution_count": 550,
     "metadata": {},
     "output_type": "execute_result"
    }
   ],
   "source": [
    "# according to some pattern key = .str.len()\n",
    "Series=pd.Series({'a':1,'ab':2,'abc':3})\n",
    "Series.sort_index( key=lambda x: x.str.len()  )"
   ]
  },
  {
   "cell_type": "markdown",
   "id": "6b07f654",
   "metadata": {},
   "source": [
    "__5 .set_index()__\n",
    "\n",
    "__The .set_index() method is used to set one or more columns as the index of a DataFrame. This helps to organize your data better and enables advanced indexing and selection.__"
   ]
  },
  {
   "cell_type": "code",
   "execution_count": null,
   "id": "115b907b",
   "metadata": {},
   "outputs": [],
   "source": [
    "\"\"\"\n",
    "DataFrame.set_index(\n",
    "    keys,\n",
    "    drop=True,\n",
    "    append=False,\n",
    "    inplace=False,\n",
    "    verify_integrity=False\n",
    ")\n",
    "\"\"\""
   ]
  },
  {
   "cell_type": "code",
   "execution_count": 552,
   "id": "a8dd84a3",
   "metadata": {},
   "outputs": [
    {
     "data": {
      "text/html": [
       "<div>\n",
       "<style scoped>\n",
       "    .dataframe tbody tr th:only-of-type {\n",
       "        vertical-align: middle;\n",
       "    }\n",
       "\n",
       "    .dataframe tbody tr th {\n",
       "        vertical-align: top;\n",
       "    }\n",
       "\n",
       "    .dataframe thead th {\n",
       "        text-align: right;\n",
       "    }\n",
       "</style>\n",
       "<table border=\"1\" class=\"dataframe\">\n",
       "  <thead>\n",
       "    <tr style=\"text-align: right;\">\n",
       "      <th></th>\n",
       "      <th>ID</th>\n",
       "      <th>Name</th>\n",
       "      <th>Score</th>\n",
       "    </tr>\n",
       "  </thead>\n",
       "  <tbody>\n",
       "    <tr>\n",
       "      <th>0</th>\n",
       "      <td>101</td>\n",
       "      <td>Alice</td>\n",
       "      <td>85</td>\n",
       "    </tr>\n",
       "    <tr>\n",
       "      <th>1</th>\n",
       "      <td>102</td>\n",
       "      <td>Bob</td>\n",
       "      <td>90</td>\n",
       "    </tr>\n",
       "    <tr>\n",
       "      <th>2</th>\n",
       "      <td>103</td>\n",
       "      <td>Charlie</td>\n",
       "      <td>88</td>\n",
       "    </tr>\n",
       "  </tbody>\n",
       "</table>\n",
       "</div>"
      ],
      "text/plain": [
       "    ID     Name  Score\n",
       "0  101    Alice     85\n",
       "1  102      Bob     90\n",
       "2  103  Charlie     88"
      ]
     },
     "execution_count": 552,
     "metadata": {},
     "output_type": "execute_result"
    }
   ],
   "source": [
    "\n",
    "temp = pd.DataFrame({\n",
    "    'ID': [101, 102, 103],\n",
    "    'Name': ['Alice', 'Bob', 'Charlie'],\n",
    "    'Score': [85, 90, 88]\n",
    "})\n",
    "temp"
   ]
  },
  {
   "cell_type": "code",
   "execution_count": 553,
   "id": "8c266de8",
   "metadata": {},
   "outputs": [
    {
     "data": {
      "text/html": [
       "<div>\n",
       "<style scoped>\n",
       "    .dataframe tbody tr th:only-of-type {\n",
       "        vertical-align: middle;\n",
       "    }\n",
       "\n",
       "    .dataframe tbody tr th {\n",
       "        vertical-align: top;\n",
       "    }\n",
       "\n",
       "    .dataframe thead th {\n",
       "        text-align: right;\n",
       "    }\n",
       "</style>\n",
       "<table border=\"1\" class=\"dataframe\">\n",
       "  <thead>\n",
       "    <tr style=\"text-align: right;\">\n",
       "      <th></th>\n",
       "      <th>Name</th>\n",
       "      <th>Score</th>\n",
       "    </tr>\n",
       "    <tr>\n",
       "      <th>ID</th>\n",
       "      <th></th>\n",
       "      <th></th>\n",
       "    </tr>\n",
       "  </thead>\n",
       "  <tbody>\n",
       "    <tr>\n",
       "      <th>101</th>\n",
       "      <td>Alice</td>\n",
       "      <td>85</td>\n",
       "    </tr>\n",
       "    <tr>\n",
       "      <th>102</th>\n",
       "      <td>Bob</td>\n",
       "      <td>90</td>\n",
       "    </tr>\n",
       "    <tr>\n",
       "      <th>103</th>\n",
       "      <td>Charlie</td>\n",
       "      <td>88</td>\n",
       "    </tr>\n",
       "  </tbody>\n",
       "</table>\n",
       "</div>"
      ],
      "text/plain": [
       "        Name  Score\n",
       "ID                 \n",
       "101    Alice     85\n",
       "102      Bob     90\n",
       "103  Charlie     88"
      ]
     },
     "execution_count": 553,
     "metadata": {},
     "output_type": "execute_result"
    }
   ],
   "source": [
    "temp.set_index(\"ID\")"
   ]
  },
  {
   "cell_type": "code",
   "execution_count": 554,
   "id": "9f5ed199",
   "metadata": {},
   "outputs": [
    {
     "data": {
      "text/html": [
       "<div>\n",
       "<style scoped>\n",
       "    .dataframe tbody tr th:only-of-type {\n",
       "        vertical-align: middle;\n",
       "    }\n",
       "\n",
       "    .dataframe tbody tr th {\n",
       "        vertical-align: top;\n",
       "    }\n",
       "\n",
       "    .dataframe thead th {\n",
       "        text-align: right;\n",
       "    }\n",
       "</style>\n",
       "<table border=\"1\" class=\"dataframe\">\n",
       "  <thead>\n",
       "    <tr style=\"text-align: right;\">\n",
       "      <th></th>\n",
       "      <th></th>\n",
       "      <th>Name</th>\n",
       "    </tr>\n",
       "    <tr>\n",
       "      <th>ID</th>\n",
       "      <th>Score</th>\n",
       "      <th></th>\n",
       "    </tr>\n",
       "  </thead>\n",
       "  <tbody>\n",
       "    <tr>\n",
       "      <th>101</th>\n",
       "      <th>85</th>\n",
       "      <td>Alice</td>\n",
       "    </tr>\n",
       "    <tr>\n",
       "      <th>102</th>\n",
       "      <th>90</th>\n",
       "      <td>Bob</td>\n",
       "    </tr>\n",
       "    <tr>\n",
       "      <th>103</th>\n",
       "      <th>88</th>\n",
       "      <td>Charlie</td>\n",
       "    </tr>\n",
       "  </tbody>\n",
       "</table>\n",
       "</div>"
      ],
      "text/plain": [
       "              Name\n",
       "ID  Score         \n",
       "101 85       Alice\n",
       "102 90         Bob\n",
       "103 88     Charlie"
      ]
     },
     "execution_count": 554,
     "metadata": {},
     "output_type": "execute_result"
    }
   ],
   "source": [
    "# Multi_index Series with more than One Index\n",
    "temp.set_index([\"ID\",\"Score\"])"
   ]
  },
  {
   "cell_type": "markdown",
   "id": "e2e4a4cc",
   "metadata": {},
   "source": [
    "__6 .reset_index()__\n",
    "\n",
    "__The .reset_index() method resets the index of a DataFrame to the default integer index, and optionally moves the current index back to columns.__\n"
   ]
  },
  {
   "cell_type": "code",
   "execution_count": null,
   "id": "7570ea48",
   "metadata": {},
   "outputs": [],
   "source": [
    "\"\"\"\n",
    "\n",
    "DataFrame.reset_index(\n",
    "    level=None,\n",
    "    drop=False,\n",
    "    inplace=False,\n",
    "    col_level=0,\n",
    "    col_fill=''\n",
    ")\n",
    "| Parameter   | Description                                                        |\n",
    "| ----------- | ------------------------------------------------------------------ |\n",
    "| `level`     | If the index is a MultiIndex, this specifies which levels to reset |\n",
    "| `drop`      | If `True`, **do not add index back as a column** (just remove it)  |\n",
    "| `inplace`   | Modify the original DataFrame or return a new one                  |\n",
    "| `col_level` | For nested columns, which level to place the index labels          |\n",
    "| `col_fill`  | If column names are missing, use this as placeholder               |\n",
    "\n",
    "\"\"\""
   ]
  },
  {
   "cell_type": "code",
   "execution_count": 556,
   "id": "85ae3f8e",
   "metadata": {},
   "outputs": [
    {
     "data": {
      "text/html": [
       "<div>\n",
       "<style scoped>\n",
       "    .dataframe tbody tr th:only-of-type {\n",
       "        vertical-align: middle;\n",
       "    }\n",
       "\n",
       "    .dataframe tbody tr th {\n",
       "        vertical-align: top;\n",
       "    }\n",
       "\n",
       "    .dataframe thead th {\n",
       "        text-align: right;\n",
       "    }\n",
       "</style>\n",
       "<table border=\"1\" class=\"dataframe\">\n",
       "  <thead>\n",
       "    <tr style=\"text-align: right;\">\n",
       "      <th></th>\n",
       "      <th>Name</th>\n",
       "      <th>Score</th>\n",
       "    </tr>\n",
       "  </thead>\n",
       "  <tbody>\n",
       "    <tr>\n",
       "      <th>101</th>\n",
       "      <td>Alice</td>\n",
       "      <td>85</td>\n",
       "    </tr>\n",
       "    <tr>\n",
       "      <th>102</th>\n",
       "      <td>Bob</td>\n",
       "      <td>90</td>\n",
       "    </tr>\n",
       "    <tr>\n",
       "      <th>103</th>\n",
       "      <td>Charlie</td>\n",
       "      <td>88</td>\n",
       "    </tr>\n",
       "  </tbody>\n",
       "</table>\n",
       "</div>"
      ],
      "text/plain": [
       "        Name  Score\n",
       "101    Alice     85\n",
       "102      Bob     90\n",
       "103  Charlie     88"
      ]
     },
     "execution_count": 556,
     "metadata": {},
     "output_type": "execute_result"
    }
   ],
   "source": [
    "\n",
    "temp2 = pd.DataFrame({\n",
    "    'Name': ['Alice', 'Bob', 'Charlie'],\n",
    "    'Score': [85, 90, 88]\n",
    "}, index=[101, 102, 103])\n",
    "temp2\n"
   ]
  },
  {
   "cell_type": "code",
   "execution_count": 557,
   "id": "15604c49",
   "metadata": {},
   "outputs": [
    {
     "data": {
      "text/html": [
       "<div>\n",
       "<style scoped>\n",
       "    .dataframe tbody tr th:only-of-type {\n",
       "        vertical-align: middle;\n",
       "    }\n",
       "\n",
       "    .dataframe tbody tr th {\n",
       "        vertical-align: top;\n",
       "    }\n",
       "\n",
       "    .dataframe thead th {\n",
       "        text-align: right;\n",
       "    }\n",
       "</style>\n",
       "<table border=\"1\" class=\"dataframe\">\n",
       "  <thead>\n",
       "    <tr style=\"text-align: right;\">\n",
       "      <th></th>\n",
       "      <th>index</th>\n",
       "      <th>Name</th>\n",
       "      <th>Score</th>\n",
       "    </tr>\n",
       "  </thead>\n",
       "  <tbody>\n",
       "    <tr>\n",
       "      <th>0</th>\n",
       "      <td>101</td>\n",
       "      <td>Alice</td>\n",
       "      <td>85</td>\n",
       "    </tr>\n",
       "    <tr>\n",
       "      <th>1</th>\n",
       "      <td>102</td>\n",
       "      <td>Bob</td>\n",
       "      <td>90</td>\n",
       "    </tr>\n",
       "    <tr>\n",
       "      <th>2</th>\n",
       "      <td>103</td>\n",
       "      <td>Charlie</td>\n",
       "      <td>88</td>\n",
       "    </tr>\n",
       "  </tbody>\n",
       "</table>\n",
       "</div>"
      ],
      "text/plain": [
       "   index     Name  Score\n",
       "0    101    Alice     85\n",
       "1    102      Bob     90\n",
       "2    103  Charlie     88"
      ]
     },
     "execution_count": 557,
     "metadata": {},
     "output_type": "execute_result"
    }
   ],
   "source": [
    "temp2.reset_index()"
   ]
  },
  {
   "cell_type": "code",
   "execution_count": 558,
   "id": "9b09ab9e",
   "metadata": {},
   "outputs": [
    {
     "data": {
      "text/html": [
       "<div>\n",
       "<style scoped>\n",
       "    .dataframe tbody tr th:only-of-type {\n",
       "        vertical-align: middle;\n",
       "    }\n",
       "\n",
       "    .dataframe tbody tr th {\n",
       "        vertical-align: top;\n",
       "    }\n",
       "\n",
       "    .dataframe thead th {\n",
       "        text-align: right;\n",
       "    }\n",
       "</style>\n",
       "<table border=\"1\" class=\"dataframe\">\n",
       "  <thead>\n",
       "    <tr style=\"text-align: right;\">\n",
       "      <th></th>\n",
       "      <th>Score</th>\n",
       "      <th>Name</th>\n",
       "    </tr>\n",
       "    <tr>\n",
       "      <th>ID</th>\n",
       "      <th></th>\n",
       "      <th></th>\n",
       "    </tr>\n",
       "  </thead>\n",
       "  <tbody>\n",
       "    <tr>\n",
       "      <th>101</th>\n",
       "      <td>85</td>\n",
       "      <td>Alice</td>\n",
       "    </tr>\n",
       "    <tr>\n",
       "      <th>102</th>\n",
       "      <td>90</td>\n",
       "      <td>Bob</td>\n",
       "    </tr>\n",
       "    <tr>\n",
       "      <th>103</th>\n",
       "      <td>88</td>\n",
       "      <td>Charlie</td>\n",
       "    </tr>\n",
       "  </tbody>\n",
       "</table>\n",
       "</div>"
      ],
      "text/plain": [
       "     Score     Name\n",
       "ID                 \n",
       "101     85    Alice\n",
       "102     90      Bob\n",
       "103     88  Charlie"
      ]
     },
     "execution_count": 558,
     "metadata": {},
     "output_type": "execute_result"
    }
   ],
   "source": [
    "temp.set_index([\"ID\",\"Score\"]).reset_index(level='Score')"
   ]
  },
  {
   "cell_type": "code",
   "execution_count": 559,
   "id": "8c3bf9ce",
   "metadata": {},
   "outputs": [],
   "source": [
    "df3['rank']=df3['batsman_run'].rank(ascending=False,method='min')"
   ]
  },
  {
   "cell_type": "code",
   "execution_count": 560,
   "id": "1a9bd082",
   "metadata": {},
   "outputs": [
    {
     "data": {
      "text/html": [
       "<div>\n",
       "<style scoped>\n",
       "    .dataframe tbody tr th:only-of-type {\n",
       "        vertical-align: middle;\n",
       "    }\n",
       "\n",
       "    .dataframe tbody tr th {\n",
       "        vertical-align: top;\n",
       "    }\n",
       "\n",
       "    .dataframe thead th {\n",
       "        text-align: right;\n",
       "    }\n",
       "</style>\n",
       "<table border=\"1\" class=\"dataframe\">\n",
       "  <thead>\n",
       "    <tr style=\"text-align: right;\">\n",
       "      <th></th>\n",
       "      <th>batter</th>\n",
       "      <th>batsman_run</th>\n",
       "    </tr>\n",
       "    <tr>\n",
       "      <th>rank</th>\n",
       "      <th></th>\n",
       "      <th></th>\n",
       "    </tr>\n",
       "  </thead>\n",
       "  <tbody>\n",
       "    <tr>\n",
       "      <th>166.0</th>\n",
       "      <td>A Ashish Reddy</td>\n",
       "      <td>280</td>\n",
       "    </tr>\n",
       "    <tr>\n",
       "      <th>225.0</th>\n",
       "      <td>A Badoni</td>\n",
       "      <td>161</td>\n",
       "    </tr>\n",
       "    <tr>\n",
       "      <th>529.0</th>\n",
       "      <td>A Chandila</td>\n",
       "      <td>4</td>\n",
       "    </tr>\n",
       "    <tr>\n",
       "      <th>328.0</th>\n",
       "      <td>A Chopra</td>\n",
       "      <td>53</td>\n",
       "    </tr>\n",
       "    <tr>\n",
       "      <th>402.0</th>\n",
       "      <td>A Choudhary</td>\n",
       "      <td>25</td>\n",
       "    </tr>\n",
       "    <tr>\n",
       "      <th>...</th>\n",
       "      <td>...</td>\n",
       "      <td>...</td>\n",
       "    </tr>\n",
       "    <tr>\n",
       "      <th>583.0</th>\n",
       "      <td>Yash Dayal</td>\n",
       "      <td>0</td>\n",
       "    </tr>\n",
       "    <tr>\n",
       "      <th>343.0</th>\n",
       "      <td>Yashpal Singh</td>\n",
       "      <td>47</td>\n",
       "    </tr>\n",
       "    <tr>\n",
       "      <th>542.0</th>\n",
       "      <td>Younis Khan</td>\n",
       "      <td>3</td>\n",
       "    </tr>\n",
       "    <tr>\n",
       "      <th>27.0</th>\n",
       "      <td>Yuvraj Singh</td>\n",
       "      <td>2754</td>\n",
       "    </tr>\n",
       "    <tr>\n",
       "      <th>255.0</th>\n",
       "      <td>Z Khan</td>\n",
       "      <td>117</td>\n",
       "    </tr>\n",
       "  </tbody>\n",
       "</table>\n",
       "<p>605 rows × 2 columns</p>\n",
       "</div>"
      ],
      "text/plain": [
       "               batter  batsman_run\n",
       "rank                              \n",
       "166.0  A Ashish Reddy          280\n",
       "225.0        A Badoni          161\n",
       "529.0      A Chandila            4\n",
       "328.0        A Chopra           53\n",
       "402.0     A Choudhary           25\n",
       "...               ...          ...\n",
       "583.0      Yash Dayal            0\n",
       "343.0   Yashpal Singh           47\n",
       "542.0     Younis Khan            3\n",
       "27.0     Yuvraj Singh         2754\n",
       "255.0          Z Khan          117\n",
       "\n",
       "[605 rows x 2 columns]"
      ]
     },
     "execution_count": 560,
     "metadata": {},
     "output_type": "execute_result"
    }
   ],
   "source": [
    "df3=df3.set_index(\"rank\")\n",
    "df3"
   ]
  },
  {
   "cell_type": "code",
   "execution_count": 561,
   "id": "26af6f89",
   "metadata": {},
   "outputs": [
    {
     "data": {
      "text/html": [
       "<div>\n",
       "<style scoped>\n",
       "    .dataframe tbody tr th:only-of-type {\n",
       "        vertical-align: middle;\n",
       "    }\n",
       "\n",
       "    .dataframe tbody tr th {\n",
       "        vertical-align: top;\n",
       "    }\n",
       "\n",
       "    .dataframe thead th {\n",
       "        text-align: right;\n",
       "    }\n",
       "</style>\n",
       "<table border=\"1\" class=\"dataframe\">\n",
       "  <thead>\n",
       "    <tr style=\"text-align: right;\">\n",
       "      <th></th>\n",
       "      <th>rank</th>\n",
       "      <th>batsman_run</th>\n",
       "    </tr>\n",
       "    <tr>\n",
       "      <th>batter</th>\n",
       "      <th></th>\n",
       "      <th></th>\n",
       "    </tr>\n",
       "  </thead>\n",
       "  <tbody>\n",
       "    <tr>\n",
       "      <th>A Ashish Reddy</th>\n",
       "      <td>166.0</td>\n",
       "      <td>280</td>\n",
       "    </tr>\n",
       "    <tr>\n",
       "      <th>A Badoni</th>\n",
       "      <td>225.0</td>\n",
       "      <td>161</td>\n",
       "    </tr>\n",
       "    <tr>\n",
       "      <th>A Chandila</th>\n",
       "      <td>529.0</td>\n",
       "      <td>4</td>\n",
       "    </tr>\n",
       "    <tr>\n",
       "      <th>A Chopra</th>\n",
       "      <td>328.0</td>\n",
       "      <td>53</td>\n",
       "    </tr>\n",
       "    <tr>\n",
       "      <th>A Choudhary</th>\n",
       "      <td>402.0</td>\n",
       "      <td>25</td>\n",
       "    </tr>\n",
       "    <tr>\n",
       "      <th>...</th>\n",
       "      <td>...</td>\n",
       "      <td>...</td>\n",
       "    </tr>\n",
       "    <tr>\n",
       "      <th>Yash Dayal</th>\n",
       "      <td>583.0</td>\n",
       "      <td>0</td>\n",
       "    </tr>\n",
       "    <tr>\n",
       "      <th>Yashpal Singh</th>\n",
       "      <td>343.0</td>\n",
       "      <td>47</td>\n",
       "    </tr>\n",
       "    <tr>\n",
       "      <th>Younis Khan</th>\n",
       "      <td>542.0</td>\n",
       "      <td>3</td>\n",
       "    </tr>\n",
       "    <tr>\n",
       "      <th>Yuvraj Singh</th>\n",
       "      <td>27.0</td>\n",
       "      <td>2754</td>\n",
       "    </tr>\n",
       "    <tr>\n",
       "      <th>Z Khan</th>\n",
       "      <td>255.0</td>\n",
       "      <td>117</td>\n",
       "    </tr>\n",
       "  </tbody>\n",
       "</table>\n",
       "<p>605 rows × 2 columns</p>\n",
       "</div>"
      ],
      "text/plain": [
       "                 rank  batsman_run\n",
       "batter                            \n",
       "A Ashish Reddy  166.0          280\n",
       "A Badoni        225.0          161\n",
       "A Chandila      529.0            4\n",
       "A Chopra        328.0           53\n",
       "A Choudhary     402.0           25\n",
       "...               ...          ...\n",
       "Yash Dayal      583.0            0\n",
       "Yashpal Singh   343.0           47\n",
       "Younis Khan     542.0            3\n",
       "Yuvraj Singh     27.0         2754\n",
       "Z Khan          255.0          117\n",
       "\n",
       "[605 rows x 2 columns]"
      ]
     },
     "execution_count": 561,
     "metadata": {},
     "output_type": "execute_result"
    }
   ],
   "source": [
    "# now we have rank column as index , but lets suppose we have requirement\n",
    "# to change the index again to batter ,so if we use set_index() this will lose the \n",
    "# existing index (rank) ---> here the rank column will be removed \n",
    "# so to overcome this we can do reset_index() first then set other index\n",
    "df3.reset_index().set_index(\"batter\")\n",
    "# we save our rank column "
   ]
  },
  {
   "cell_type": "code",
   "execution_count": 562,
   "id": "b031042d",
   "metadata": {},
   "outputs": [
    {
     "data": {
      "text/plain": [
       "0      Alice\n",
       "1        Bob\n",
       "2    Charlie\n",
       "dtype: object"
      ]
     },
     "execution_count": 562,
     "metadata": {},
     "output_type": "execute_result"
    }
   ],
   "source": [
    "# using reset_index() with Series -> we get the Dataframe\n",
    "temp3 = pd.Series(\n",
    "    ['Alice', 'Bob', 'Charlie']\n",
    ")\n",
    "temp3"
   ]
  },
  {
   "cell_type": "code",
   "execution_count": 563,
   "id": "f77b572a",
   "metadata": {},
   "outputs": [
    {
     "data": {
      "text/html": [
       "<div>\n",
       "<style scoped>\n",
       "    .dataframe tbody tr th:only-of-type {\n",
       "        vertical-align: middle;\n",
       "    }\n",
       "\n",
       "    .dataframe tbody tr th {\n",
       "        vertical-align: top;\n",
       "    }\n",
       "\n",
       "    .dataframe thead th {\n",
       "        text-align: right;\n",
       "    }\n",
       "</style>\n",
       "<table border=\"1\" class=\"dataframe\">\n",
       "  <thead>\n",
       "    <tr style=\"text-align: right;\">\n",
       "      <th></th>\n",
       "      <th>index</th>\n",
       "      <th>0</th>\n",
       "    </tr>\n",
       "  </thead>\n",
       "  <tbody>\n",
       "    <tr>\n",
       "      <th>0</th>\n",
       "      <td>0</td>\n",
       "      <td>Alice</td>\n",
       "    </tr>\n",
       "    <tr>\n",
       "      <th>1</th>\n",
       "      <td>1</td>\n",
       "      <td>Bob</td>\n",
       "    </tr>\n",
       "    <tr>\n",
       "      <th>2</th>\n",
       "      <td>2</td>\n",
       "      <td>Charlie</td>\n",
       "    </tr>\n",
       "  </tbody>\n",
       "</table>\n",
       "</div>"
      ],
      "text/plain": [
       "   index        0\n",
       "0      0    Alice\n",
       "1      1      Bob\n",
       "2      2  Charlie"
      ]
     },
     "execution_count": 563,
     "metadata": {},
     "output_type": "execute_result"
    }
   ],
   "source": [
    "temp3.reset_index()"
   ]
  },
  {
   "cell_type": "markdown",
   "id": "4934eeb2",
   "metadata": {},
   "source": [
    "7. __.rename()__\n",
    "\n",
    " __The .rename() method is used to rename columns, index labels, or both, either by a mapping (dict) or a function.__"
   ]
  },
  {
   "cell_type": "code",
   "execution_count": null,
   "id": "bd10d1dd",
   "metadata": {},
   "outputs": [],
   "source": [
    "\"\"\"\n",
    "DataFrame.rename(\n",
    "    mapper=None,\n",
    "    index=None,\n",
    "    columns=None,\n",
    "    axis=None,\n",
    "    inplace=False,\n",
    "    errors='ignore'\n",
    ")\n",
    "\"\"\""
   ]
  },
  {
   "cell_type": "code",
   "execution_count": 565,
   "id": "f59b5595",
   "metadata": {},
   "outputs": [
    {
     "data": {
      "text/html": [
       "<div>\n",
       "<style scoped>\n",
       "    .dataframe tbody tr th:only-of-type {\n",
       "        vertical-align: middle;\n",
       "    }\n",
       "\n",
       "    .dataframe tbody tr th {\n",
       "        vertical-align: top;\n",
       "    }\n",
       "\n",
       "    .dataframe thead th {\n",
       "        text-align: right;\n",
       "    }\n",
       "</style>\n",
       "<table border=\"1\" class=\"dataframe\">\n",
       "  <thead>\n",
       "    <tr style=\"text-align: right;\">\n",
       "      <th></th>\n",
       "      <th>title_x</th>\n",
       "      <th>imdb_id</th>\n",
       "      <th>poster_path</th>\n",
       "      <th>wiki_link</th>\n",
       "      <th>title_y</th>\n",
       "      <th>original_title</th>\n",
       "      <th>is_adult</th>\n",
       "      <th>year_of_release</th>\n",
       "      <th>runtime</th>\n",
       "      <th>genres</th>\n",
       "      <th>imdb_rating</th>\n",
       "      <th>imdb_votes</th>\n",
       "      <th>story</th>\n",
       "      <th>summary</th>\n",
       "      <th>tagline</th>\n",
       "      <th>actors</th>\n",
       "      <th>wins_nominations</th>\n",
       "      <th>release_date</th>\n",
       "    </tr>\n",
       "  </thead>\n",
       "  <tbody>\n",
       "    <tr>\n",
       "      <th>0</th>\n",
       "      <td>Uri: The Surgical Strike</td>\n",
       "      <td>tt8291224</td>\n",
       "      <td>https://upload.wikimedia.org/wikipedia/en/thum...</td>\n",
       "      <td>https://en.wikipedia.org/wiki/Uri:_The_Surgica...</td>\n",
       "      <td>Uri: The Surgical Strike</td>\n",
       "      <td>Uri: The Surgical Strike</td>\n",
       "      <td>0</td>\n",
       "      <td>2019</td>\n",
       "      <td>138</td>\n",
       "      <td>Action|Drama|War</td>\n",
       "      <td>8.4</td>\n",
       "      <td>35112</td>\n",
       "      <td>Divided over five chapters  the film chronicle...</td>\n",
       "      <td>Indian army special forces execute a covert op...</td>\n",
       "      <td>NaN</td>\n",
       "      <td>Vicky Kaushal|Paresh Rawal|Mohit Raina|Yami Ga...</td>\n",
       "      <td>4 wins</td>\n",
       "      <td>11 January 2019 (USA)</td>\n",
       "    </tr>\n",
       "    <tr>\n",
       "      <th>1</th>\n",
       "      <td>Battalion 609</td>\n",
       "      <td>tt9472208</td>\n",
       "      <td>NaN</td>\n",
       "      <td>https://en.wikipedia.org/wiki/Battalion_609</td>\n",
       "      <td>Battalion 609</td>\n",
       "      <td>Battalion 609</td>\n",
       "      <td>0</td>\n",
       "      <td>2019</td>\n",
       "      <td>131</td>\n",
       "      <td>War</td>\n",
       "      <td>4.1</td>\n",
       "      <td>73</td>\n",
       "      <td>The story revolves around a cricket match betw...</td>\n",
       "      <td>The story of Battalion 609 revolves around a c...</td>\n",
       "      <td>NaN</td>\n",
       "      <td>Vicky Ahuja|Shoaib Ibrahim|Shrikant Kamat|Elen...</td>\n",
       "      <td>NaN</td>\n",
       "      <td>11 January 2019 (India)</td>\n",
       "    </tr>\n",
       "  </tbody>\n",
       "</table>\n",
       "</div>"
      ],
      "text/plain": [
       "                    title_x    imdb_id  \\\n",
       "0  Uri: The Surgical Strike  tt8291224   \n",
       "1             Battalion 609  tt9472208   \n",
       "\n",
       "                                         poster_path  \\\n",
       "0  https://upload.wikimedia.org/wikipedia/en/thum...   \n",
       "1                                                NaN   \n",
       "\n",
       "                                           wiki_link  \\\n",
       "0  https://en.wikipedia.org/wiki/Uri:_The_Surgica...   \n",
       "1        https://en.wikipedia.org/wiki/Battalion_609   \n",
       "\n",
       "                    title_y            original_title  is_adult  \\\n",
       "0  Uri: The Surgical Strike  Uri: The Surgical Strike         0   \n",
       "1             Battalion 609             Battalion 609         0   \n",
       "\n",
       "   year_of_release runtime            genres  imdb_rating  imdb_votes  \\\n",
       "0             2019     138  Action|Drama|War          8.4       35112   \n",
       "1             2019     131               War          4.1          73   \n",
       "\n",
       "                                               story  \\\n",
       "0  Divided over five chapters  the film chronicle...   \n",
       "1  The story revolves around a cricket match betw...   \n",
       "\n",
       "                                             summary tagline  \\\n",
       "0  Indian army special forces execute a covert op...     NaN   \n",
       "1  The story of Battalion 609 revolves around a c...     NaN   \n",
       "\n",
       "                                              actors wins_nominations  \\\n",
       "0  Vicky Kaushal|Paresh Rawal|Mohit Raina|Yami Ga...           4 wins   \n",
       "1  Vicky Ahuja|Shoaib Ibrahim|Shrikant Kamat|Elen...              NaN   \n",
       "\n",
       "              release_date  \n",
       "0    11 January 2019 (USA)  \n",
       "1  11 January 2019 (India)  "
      ]
     },
     "execution_count": 565,
     "metadata": {},
     "output_type": "execute_result"
    }
   ],
   "source": [
    "df2.head(2)"
   ]
  },
  {
   "cell_type": "code",
   "execution_count": 566,
   "id": "b0f178cd",
   "metadata": {},
   "outputs": [
    {
     "data": {
      "text/html": [
       "<div>\n",
       "<style scoped>\n",
       "    .dataframe tbody tr th:only-of-type {\n",
       "        vertical-align: middle;\n",
       "    }\n",
       "\n",
       "    .dataframe tbody tr th {\n",
       "        vertical-align: top;\n",
       "    }\n",
       "\n",
       "    .dataframe thead th {\n",
       "        text-align: right;\n",
       "    }\n",
       "</style>\n",
       "<table border=\"1\" class=\"dataframe\">\n",
       "  <thead>\n",
       "    <tr style=\"text-align: right;\">\n",
       "      <th></th>\n",
       "      <th>title_x</th>\n",
       "      <th>imdb_id</th>\n",
       "      <th>Link</th>\n",
       "      <th>wiki_link</th>\n",
       "      <th>title_y</th>\n",
       "      <th>original_title</th>\n",
       "      <th>is_adult</th>\n",
       "      <th>year_of_release</th>\n",
       "      <th>runtime</th>\n",
       "      <th>genres</th>\n",
       "      <th>imdb_rating</th>\n",
       "      <th>imdb_votes</th>\n",
       "      <th>story</th>\n",
       "      <th>summary</th>\n",
       "      <th>tagline</th>\n",
       "      <th>actors</th>\n",
       "      <th>wins_nominations</th>\n",
       "      <th>release_date</th>\n",
       "    </tr>\n",
       "  </thead>\n",
       "  <tbody>\n",
       "    <tr>\n",
       "      <th>0</th>\n",
       "      <td>Uri: The Surgical Strike</td>\n",
       "      <td>tt8291224</td>\n",
       "      <td>https://upload.wikimedia.org/wikipedia/en/thum...</td>\n",
       "      <td>https://en.wikipedia.org/wiki/Uri:_The_Surgica...</td>\n",
       "      <td>Uri: The Surgical Strike</td>\n",
       "      <td>Uri: The Surgical Strike</td>\n",
       "      <td>0</td>\n",
       "      <td>2019</td>\n",
       "      <td>138</td>\n",
       "      <td>Action|Drama|War</td>\n",
       "      <td>8.4</td>\n",
       "      <td>35112</td>\n",
       "      <td>Divided over five chapters  the film chronicle...</td>\n",
       "      <td>Indian army special forces execute a covert op...</td>\n",
       "      <td>NaN</td>\n",
       "      <td>Vicky Kaushal|Paresh Rawal|Mohit Raina|Yami Ga...</td>\n",
       "      <td>4 wins</td>\n",
       "      <td>11 January 2019 (USA)</td>\n",
       "    </tr>\n",
       "  </tbody>\n",
       "</table>\n",
       "</div>"
      ],
      "text/plain": [
       "                    title_x    imdb_id  \\\n",
       "0  Uri: The Surgical Strike  tt8291224   \n",
       "\n",
       "                                                Link  \\\n",
       "0  https://upload.wikimedia.org/wikipedia/en/thum...   \n",
       "\n",
       "                                           wiki_link  \\\n",
       "0  https://en.wikipedia.org/wiki/Uri:_The_Surgica...   \n",
       "\n",
       "                    title_y            original_title  is_adult  \\\n",
       "0  Uri: The Surgical Strike  Uri: The Surgical Strike         0   \n",
       "\n",
       "   year_of_release runtime            genres  imdb_rating  imdb_votes  \\\n",
       "0             2019     138  Action|Drama|War          8.4       35112   \n",
       "\n",
       "                                               story  \\\n",
       "0  Divided over five chapters  the film chronicle...   \n",
       "\n",
       "                                             summary tagline  \\\n",
       "0  Indian army special forces execute a covert op...     NaN   \n",
       "\n",
       "                                              actors wins_nominations  \\\n",
       "0  Vicky Kaushal|Paresh Rawal|Mohit Raina|Yami Ga...           4 wins   \n",
       "\n",
       "            release_date  \n",
       "0  11 January 2019 (USA)  "
      ]
     },
     "execution_count": 566,
     "metadata": {},
     "output_type": "execute_result"
    }
   ],
   "source": [
    "df2.rename(columns={\"poster_path\":\"Link\"}).head(1)"
   ]
  },
  {
   "cell_type": "markdown",
   "id": "2a62e206",
   "metadata": {},
   "source": [
    "8. __unique()__\n",
    "\n",
    "__The .unique() method returns the unique/distinct values in a pandas Series (or column in a DataFrame).__\n",
    "\n",
    " __It only works on a Series — not on a full DataFrame directly.__\n",
    "\n",
    "- __by default it COunts the Nan One times in Series__"
   ]
  },
  {
   "cell_type": "code",
   "execution_count": 567,
   "id": "2b3ea3e8",
   "metadata": {},
   "outputs": [
    {
     "data": {
      "text/plain": [
       "[1.0, 2.0, 3.0, nan]"
      ]
     },
     "execution_count": 567,
     "metadata": {},
     "output_type": "execute_result"
    }
   ],
   "source": [
    "s = pd.Series([1, 2, 2, 3, 1,np.nan,np.nan,np.nan])\n",
    "s.unique().tolist()\n"
   ]
  },
  {
   "cell_type": "markdown",
   "id": "be3a9acd",
   "metadata": {},
   "source": [
    "9. __nunique()__ \n",
    "\n",
    "-  __The .nunique() method returns the number of unique values in a Series or across DataFrame columns.__\n",
    "\n",
    "- __By Default it exclude nan(null) values__"
   ]
  },
  {
   "cell_type": "code",
   "execution_count": null,
   "id": "0c41b4a0",
   "metadata": {},
   "outputs": [],
   "source": [
    "\n",
    "\"\"\"Parameter\tDescription\n",
    "dropna\t     If True (default), ignores NaNs while counting\n",
    "axis\t     For DataFrames: 0 = columns (default), 1 = rows\"\"\""
   ]
  },
  {
   "cell_type": "code",
   "execution_count": 569,
   "id": "a8bd04db",
   "metadata": {},
   "outputs": [
    {
     "data": {
      "text/plain": [
       "3"
      ]
     },
     "execution_count": 569,
     "metadata": {},
     "output_type": "execute_result"
    }
   ],
   "source": [
    "s.nunique()"
   ]
  },
  {
   "cell_type": "code",
   "execution_count": 570,
   "id": "58a533eb",
   "metadata": {},
   "outputs": [
    {
     "data": {
      "text/plain": [
       "4"
      ]
     },
     "execution_count": 570,
     "metadata": {},
     "output_type": "execute_result"
    }
   ],
   "source": [
    "s.nunique(dropna=False)"
   ]
  },
  {
   "cell_type": "markdown",
   "id": "68ff89fc",
   "metadata": {},
   "source": [
    "10. __.isnull()__\n",
    "\n",
    "__The .isnull() method is used to identify missing (null/NaN) values in a DataFrame or Series.__\n",
    "__It returns a boolean structure of the same shape, marking each value as True if it's missing, and False otherwise.__"
   ]
  },
  {
   "cell_type": "code",
   "execution_count": 571,
   "id": "bcda4099",
   "metadata": {},
   "outputs": [],
   "source": [
    "\n",
    "s = pd.Series([1, 2, 2, 3, 1,np.nan,np.nan,np.nan])"
   ]
  },
  {
   "cell_type": "code",
   "execution_count": 572,
   "id": "772d555a",
   "metadata": {},
   "outputs": [
    {
     "data": {
      "text/plain": [
       "5   NaN\n",
       "6   NaN\n",
       "7   NaN\n",
       "dtype: float64"
      ]
     },
     "execution_count": 572,
     "metadata": {},
     "output_type": "execute_result"
    }
   ],
   "source": [
    "s[s.isnull()]"
   ]
  },
  {
   "cell_type": "code",
   "execution_count": 573,
   "id": "b8ac0f34",
   "metadata": {},
   "outputs": [
    {
     "data": {
      "text/plain": [
       "ID                   0\n",
       "City                51\n",
       "Date                 0\n",
       "Season               0\n",
       "MatchNumber          0\n",
       "Team1                0\n",
       "Team2                0\n",
       "Venue                0\n",
       "TossWinner           0\n",
       "TossDecision         0\n",
       "SuperOver            4\n",
       "WinningTeam          4\n",
       "WonBy                0\n",
       "Margin              18\n",
       "method             931\n",
       "Player_of_Match      4\n",
       "Team1Players         0\n",
       "Team2Players         0\n",
       "Umpire1              0\n",
       "Umpire2              0\n",
       "dtype: int64"
      ]
     },
     "execution_count": 573,
     "metadata": {},
     "output_type": "execute_result"
    }
   ],
   "source": [
    "df1.isnull().sum()"
   ]
  },
  {
   "cell_type": "code",
   "execution_count": 574,
   "id": "6071ae7a",
   "metadata": {},
   "outputs": [
    {
     "data": {
      "text/html": [
       "<div>\n",
       "<style scoped>\n",
       "    .dataframe tbody tr th:only-of-type {\n",
       "        vertical-align: middle;\n",
       "    }\n",
       "\n",
       "    .dataframe tbody tr th {\n",
       "        vertical-align: top;\n",
       "    }\n",
       "\n",
       "    .dataframe thead th {\n",
       "        text-align: right;\n",
       "    }\n",
       "</style>\n",
       "<table border=\"1\" class=\"dataframe\">\n",
       "  <thead>\n",
       "    <tr style=\"text-align: right;\">\n",
       "      <th></th>\n",
       "      <th>ID</th>\n",
       "      <th>City</th>\n",
       "      <th>Date</th>\n",
       "      <th>Season</th>\n",
       "      <th>MatchNumber</th>\n",
       "      <th>Team1</th>\n",
       "      <th>Team2</th>\n",
       "      <th>Venue</th>\n",
       "      <th>TossWinner</th>\n",
       "      <th>TossDecision</th>\n",
       "      <th>SuperOver</th>\n",
       "      <th>WinningTeam</th>\n",
       "      <th>WonBy</th>\n",
       "      <th>Margin</th>\n",
       "      <th>method</th>\n",
       "      <th>Player_of_Match</th>\n",
       "      <th>Team1Players</th>\n",
       "      <th>Team2Players</th>\n",
       "      <th>Umpire1</th>\n",
       "      <th>Umpire2</th>\n",
       "    </tr>\n",
       "  </thead>\n",
       "  <tbody>\n",
       "    <tr>\n",
       "      <th>205</th>\n",
       "      <td>1178424</td>\n",
       "      <td>Bengaluru</td>\n",
       "      <td>2019-04-30</td>\n",
       "      <td>2019</td>\n",
       "      <td>49</td>\n",
       "      <td>Royal Challengers Bangalore</td>\n",
       "      <td>Rajasthan Royals</td>\n",
       "      <td>M.Chinnaswamy Stadium</td>\n",
       "      <td>Rajasthan Royals</td>\n",
       "      <td>field</td>\n",
       "      <td>NaN</td>\n",
       "      <td>NaN</td>\n",
       "      <td>NoResults</td>\n",
       "      <td>NaN</td>\n",
       "      <td>NaN</td>\n",
       "      <td>NaN</td>\n",
       "      <td>['V Kohli', 'AB de Villiers', 'MP Stoinis', 'H...</td>\n",
       "      <td>['SV Samson', 'LS Livingstone', 'AM Rahane', '...</td>\n",
       "      <td>NJ Llong</td>\n",
       "      <td>UV Gandhe</td>\n",
       "    </tr>\n",
       "    <tr>\n",
       "      <th>437</th>\n",
       "      <td>829813</td>\n",
       "      <td>Bangalore</td>\n",
       "      <td>2015-05-17</td>\n",
       "      <td>2015</td>\n",
       "      <td>55</td>\n",
       "      <td>Royal Challengers Bangalore</td>\n",
       "      <td>Delhi Daredevils</td>\n",
       "      <td>M Chinnaswamy Stadium</td>\n",
       "      <td>Royal Challengers Bangalore</td>\n",
       "      <td>field</td>\n",
       "      <td>NaN</td>\n",
       "      <td>NaN</td>\n",
       "      <td>NoResults</td>\n",
       "      <td>NaN</td>\n",
       "      <td>NaN</td>\n",
       "      <td>NaN</td>\n",
       "      <td>['V Kohli', 'CH Gayle', 'AB de Villiers', 'Man...</td>\n",
       "      <td>['Q de Kock', 'SS Iyer', 'JP Duminy', 'Yuvraj ...</td>\n",
       "      <td>HDPK Dharmasena</td>\n",
       "      <td>K Srinivasan</td>\n",
       "    </tr>\n",
       "    <tr>\n",
       "      <th>464</th>\n",
       "      <td>829763</td>\n",
       "      <td>Bangalore</td>\n",
       "      <td>2015-04-29</td>\n",
       "      <td>2015</td>\n",
       "      <td>29</td>\n",
       "      <td>Royal Challengers Bangalore</td>\n",
       "      <td>Rajasthan Royals</td>\n",
       "      <td>M Chinnaswamy Stadium</td>\n",
       "      <td>Rajasthan Royals</td>\n",
       "      <td>field</td>\n",
       "      <td>NaN</td>\n",
       "      <td>NaN</td>\n",
       "      <td>NoResults</td>\n",
       "      <td>NaN</td>\n",
       "      <td>NaN</td>\n",
       "      <td>NaN</td>\n",
       "      <td>['CH Gayle', 'V Kohli', 'AB de Villiers', 'Man...</td>\n",
       "      <td>['AM Rahane', 'SR Watson', 'SPD Smith', 'KK Na...</td>\n",
       "      <td>JD Cloete</td>\n",
       "      <td>PG Pathak</td>\n",
       "    </tr>\n",
       "    <tr>\n",
       "      <th>708</th>\n",
       "      <td>501265</td>\n",
       "      <td>Delhi</td>\n",
       "      <td>2011-05-21</td>\n",
       "      <td>2011</td>\n",
       "      <td>68</td>\n",
       "      <td>Delhi Daredevils</td>\n",
       "      <td>Pune Warriors</td>\n",
       "      <td>Feroz Shah Kotla</td>\n",
       "      <td>Delhi Daredevils</td>\n",
       "      <td>bat</td>\n",
       "      <td>NaN</td>\n",
       "      <td>NaN</td>\n",
       "      <td>NoResults</td>\n",
       "      <td>NaN</td>\n",
       "      <td>NaN</td>\n",
       "      <td>NaN</td>\n",
       "      <td>['NV Ojha', 'DA Warner', 'MS Wade', 'CA Ingram...</td>\n",
       "      <td>['MK Pandey', 'JP Faulkner', 'SC Ganguly', 'RV...</td>\n",
       "      <td>SS Hazare</td>\n",
       "      <td>RJ Tucker</td>\n",
       "    </tr>\n",
       "  </tbody>\n",
       "</table>\n",
       "</div>"
      ],
      "text/plain": [
       "          ID       City        Date Season MatchNumber  \\\n",
       "205  1178424  Bengaluru  2019-04-30   2019          49   \n",
       "437   829813  Bangalore  2015-05-17   2015          55   \n",
       "464   829763  Bangalore  2015-04-29   2015          29   \n",
       "708   501265      Delhi  2011-05-21   2011          68   \n",
       "\n",
       "                           Team1             Team2                  Venue  \\\n",
       "205  Royal Challengers Bangalore  Rajasthan Royals  M.Chinnaswamy Stadium   \n",
       "437  Royal Challengers Bangalore  Delhi Daredevils  M Chinnaswamy Stadium   \n",
       "464  Royal Challengers Bangalore  Rajasthan Royals  M Chinnaswamy Stadium   \n",
       "708             Delhi Daredevils     Pune Warriors       Feroz Shah Kotla   \n",
       "\n",
       "                      TossWinner TossDecision SuperOver WinningTeam  \\\n",
       "205             Rajasthan Royals        field       NaN         NaN   \n",
       "437  Royal Challengers Bangalore        field       NaN         NaN   \n",
       "464             Rajasthan Royals        field       NaN         NaN   \n",
       "708             Delhi Daredevils          bat       NaN         NaN   \n",
       "\n",
       "         WonBy  Margin method Player_of_Match  \\\n",
       "205  NoResults     NaN    NaN             NaN   \n",
       "437  NoResults     NaN    NaN             NaN   \n",
       "464  NoResults     NaN    NaN             NaN   \n",
       "708  NoResults     NaN    NaN             NaN   \n",
       "\n",
       "                                          Team1Players  \\\n",
       "205  ['V Kohli', 'AB de Villiers', 'MP Stoinis', 'H...   \n",
       "437  ['V Kohli', 'CH Gayle', 'AB de Villiers', 'Man...   \n",
       "464  ['CH Gayle', 'V Kohli', 'AB de Villiers', 'Man...   \n",
       "708  ['NV Ojha', 'DA Warner', 'MS Wade', 'CA Ingram...   \n",
       "\n",
       "                                          Team2Players          Umpire1  \\\n",
       "205  ['SV Samson', 'LS Livingstone', 'AM Rahane', '...         NJ Llong   \n",
       "437  ['Q de Kock', 'SS Iyer', 'JP Duminy', 'Yuvraj ...  HDPK Dharmasena   \n",
       "464  ['AM Rahane', 'SR Watson', 'SPD Smith', 'KK Na...        JD Cloete   \n",
       "708  ['MK Pandey', 'JP Faulkner', 'SC Ganguly', 'RV...        SS Hazare   \n",
       "\n",
       "          Umpire2  \n",
       "205     UV Gandhe  \n",
       "437  K Srinivasan  \n",
       "464     PG Pathak  \n",
       "708     RJ Tucker  "
      ]
     },
     "execution_count": 574,
     "metadata": {},
     "output_type": "execute_result"
    }
   ],
   "source": [
    "df1[df1['SuperOver'].isnull()]"
   ]
  },
  {
   "cell_type": "markdown",
   "id": "a0c916ad",
   "metadata": {},
   "source": [
    "11. __There are also related methods:__\n",
    "\n",
    "__notnull() → inverse of isnull()__\n",
    "\n",
    "__hasnans → attribute (for Series) that returns True if any NaNs exist__"
   ]
  },
  {
   "cell_type": "code",
   "execution_count": 575,
   "id": "d20a7e8c",
   "metadata": {},
   "outputs": [
    {
     "data": {
      "text/plain": [
       "0    1.0\n",
       "1    2.0\n",
       "2    2.0\n",
       "3    3.0\n",
       "4    1.0\n",
       "dtype: float64"
      ]
     },
     "execution_count": 575,
     "metadata": {},
     "output_type": "execute_result"
    }
   ],
   "source": [
    "s[s.notnull()]"
   ]
  },
  {
   "cell_type": "code",
   "execution_count": 576,
   "id": "1a5930ed",
   "metadata": {},
   "outputs": [
    {
     "data": {
      "text/plain": [
       "True"
      ]
     },
     "execution_count": 576,
     "metadata": {},
     "output_type": "execute_result"
    }
   ],
   "source": [
    "s.hasnans"
   ]
  },
  {
   "cell_type": "code",
   "execution_count": 577,
   "id": "2ff6e78a",
   "metadata": {},
   "outputs": [
    {
     "data": {
      "text/plain": [
       "True"
      ]
     },
     "execution_count": 577,
     "metadata": {},
     "output_type": "execute_result"
    }
   ],
   "source": [
    "df1['City'].hasnans"
   ]
  },
  {
   "cell_type": "markdown",
   "id": "7d30076c",
   "metadata": {},
   "source": [
    "11. __dropna()__\n",
    "\n",
    "\n",
    "__The .dropna() method removes rows or columns that contain NaN (null/missing) values.__"
   ]
  },
  {
   "cell_type": "code",
   "execution_count": null,
   "id": "dfb84eec",
   "metadata": {},
   "outputs": [],
   "source": [
    "\n",
    "\"\"\"\n",
    "DataFrame.dropna(\n",
    "    axis=0,\n",
    "    how='any',\n",
    "    thresh=None,\n",
    "    subset=None,\n",
    "    inplace=False\n",
    ")\n",
    "\n",
    "axis\t      0 = drop rows (default), 1 = drop columns\n",
    "how\t         'any' = drop if any NaN (By default),      'all' = drop if all values are NaN\n",
    "thresh\t      Keep row/column if it has at least this many non-NaN values\n",
    "subset\t      List of columns to consider when checking for NaNs (subset=['Score', 'Grade'])(Only removes rows where NaN is found in specified columns.)\n",
    "inplace\t      Whether to modify original DataFrame\n",
    "\"\"\"\n"
   ]
  },
  {
   "cell_type": "code",
   "execution_count": 579,
   "id": "25658845",
   "metadata": {},
   "outputs": [
    {
     "data": {
      "text/plain": [
       "0    1.0\n",
       "1    2.0\n",
       "2    2.0\n",
       "3    3.0\n",
       "4    1.0\n",
       "5    NaN\n",
       "6    NaN\n",
       "7    NaN\n",
       "dtype: float64"
      ]
     },
     "execution_count": 579,
     "metadata": {},
     "output_type": "execute_result"
    }
   ],
   "source": [
    "s"
   ]
  },
  {
   "cell_type": "code",
   "execution_count": 580,
   "id": "3e74218c",
   "metadata": {},
   "outputs": [
    {
     "data": {
      "text/plain": [
       "0    1.0\n",
       "1    2.0\n",
       "2    2.0\n",
       "3    3.0\n",
       "4    1.0\n",
       "dtype: float64"
      ]
     },
     "execution_count": 580,
     "metadata": {},
     "output_type": "execute_result"
    }
   ],
   "source": [
    "# on Series It drops the whole Rows Where the nan is found\n",
    "s.dropna()"
   ]
  },
  {
   "cell_type": "markdown",
   "id": "d6fe8a44",
   "metadata": {},
   "source": [
    "__Using dropna On Dataframe__"
   ]
  },
  {
   "cell_type": "markdown",
   "id": "3e889d27",
   "metadata": {},
   "source": [
    "__Way to CHange the Elements Of Columns of Dataframe__\n",
    "\n",
    "__BY DEFAULT how='any' ,so even single nan is present any col whole row is droped__\n",
    "\n",
    "__So we can change how='all' drop row if and only if all the values are nan in all columns__\n"
   ]
  },
  {
   "cell_type": "code",
   "execution_count": 581,
   "id": "6ac03fb3",
   "metadata": {},
   "outputs": [],
   "source": [
    "df1.dropna(how='all',inplace=True)"
   ]
  },
  {
   "cell_type": "code",
   "execution_count": 582,
   "id": "e39cb7a0",
   "metadata": {},
   "outputs": [
    {
     "data": {
      "text/html": [
       "<div>\n",
       "<style scoped>\n",
       "    .dataframe tbody tr th:only-of-type {\n",
       "        vertical-align: middle;\n",
       "    }\n",
       "\n",
       "    .dataframe tbody tr th {\n",
       "        vertical-align: top;\n",
       "    }\n",
       "\n",
       "    .dataframe thead th {\n",
       "        text-align: right;\n",
       "    }\n",
       "</style>\n",
       "<table border=\"1\" class=\"dataframe\">\n",
       "  <thead>\n",
       "    <tr style=\"text-align: right;\">\n",
       "      <th></th>\n",
       "      <th>ID</th>\n",
       "      <th>City</th>\n",
       "      <th>Date</th>\n",
       "      <th>Season</th>\n",
       "      <th>MatchNumber</th>\n",
       "      <th>Team1</th>\n",
       "      <th>Team2</th>\n",
       "      <th>Venue</th>\n",
       "      <th>TossWinner</th>\n",
       "      <th>TossDecision</th>\n",
       "      <th>SuperOver</th>\n",
       "      <th>WinningTeam</th>\n",
       "      <th>WonBy</th>\n",
       "      <th>Margin</th>\n",
       "      <th>method</th>\n",
       "      <th>Player_of_Match</th>\n",
       "      <th>Team1Players</th>\n",
       "      <th>Team2Players</th>\n",
       "      <th>Umpire1</th>\n",
       "      <th>Umpire2</th>\n",
       "    </tr>\n",
       "  </thead>\n",
       "  <tbody>\n",
       "    <tr>\n",
       "      <th>0</th>\n",
       "      <td>1312200</td>\n",
       "      <td>Ahmedabad</td>\n",
       "      <td>2022-05-29</td>\n",
       "      <td>2022</td>\n",
       "      <td>Final</td>\n",
       "      <td>Rajasthan Royals</td>\n",
       "      <td>Gujarat Titans</td>\n",
       "      <td>Narendra Modi Stadium, Ahmedabad</td>\n",
       "      <td>Rajasthan Royals</td>\n",
       "      <td>bat</td>\n",
       "      <td>N</td>\n",
       "      <td>Gujarat Titans</td>\n",
       "      <td>Wickets</td>\n",
       "      <td>7.0</td>\n",
       "      <td>NaN</td>\n",
       "      <td>HH Pandya</td>\n",
       "      <td>['YBK Jaiswal', 'JC Buttler', 'SV Samson', 'D ...</td>\n",
       "      <td>['WP Saha', 'Shubman Gill', 'MS Wade', 'HH Pan...</td>\n",
       "      <td>CB Gaffaney</td>\n",
       "      <td>Nitin Menon</td>\n",
       "    </tr>\n",
       "    <tr>\n",
       "      <th>1</th>\n",
       "      <td>1312199</td>\n",
       "      <td>Ahmedabad</td>\n",
       "      <td>2022-05-27</td>\n",
       "      <td>2022</td>\n",
       "      <td>Qualifier 2</td>\n",
       "      <td>Royal Challengers Bangalore</td>\n",
       "      <td>Rajasthan Royals</td>\n",
       "      <td>Narendra Modi Stadium, Ahmedabad</td>\n",
       "      <td>Rajasthan Royals</td>\n",
       "      <td>field</td>\n",
       "      <td>N</td>\n",
       "      <td>Rajasthan Royals</td>\n",
       "      <td>Wickets</td>\n",
       "      <td>7.0</td>\n",
       "      <td>NaN</td>\n",
       "      <td>JC Buttler</td>\n",
       "      <td>['V Kohli', 'F du Plessis', 'RM Patidar', 'GJ ...</td>\n",
       "      <td>['YBK Jaiswal', 'JC Buttler', 'SV Samson', 'D ...</td>\n",
       "      <td>CB Gaffaney</td>\n",
       "      <td>Nitin Menon</td>\n",
       "    </tr>\n",
       "    <tr>\n",
       "      <th>2</th>\n",
       "      <td>1312198</td>\n",
       "      <td>Kolkata</td>\n",
       "      <td>2022-05-25</td>\n",
       "      <td>2022</td>\n",
       "      <td>Eliminator</td>\n",
       "      <td>Royal Challengers Bangalore</td>\n",
       "      <td>Lucknow Super Giants</td>\n",
       "      <td>Eden Gardens, Kolkata</td>\n",
       "      <td>Lucknow Super Giants</td>\n",
       "      <td>field</td>\n",
       "      <td>N</td>\n",
       "      <td>Royal Challengers Bangalore</td>\n",
       "      <td>Runs</td>\n",
       "      <td>14.0</td>\n",
       "      <td>NaN</td>\n",
       "      <td>RM Patidar</td>\n",
       "      <td>['V Kohli', 'F du Plessis', 'RM Patidar', 'GJ ...</td>\n",
       "      <td>['Q de Kock', 'KL Rahul', 'M Vohra', 'DJ Hooda...</td>\n",
       "      <td>J Madanagopal</td>\n",
       "      <td>MA Gough</td>\n",
       "    </tr>\n",
       "    <tr>\n",
       "      <th>3</th>\n",
       "      <td>1312197</td>\n",
       "      <td>Kolkata</td>\n",
       "      <td>2022-05-24</td>\n",
       "      <td>2022</td>\n",
       "      <td>Qualifier 1</td>\n",
       "      <td>Rajasthan Royals</td>\n",
       "      <td>Gujarat Titans</td>\n",
       "      <td>Eden Gardens, Kolkata</td>\n",
       "      <td>Gujarat Titans</td>\n",
       "      <td>field</td>\n",
       "      <td>N</td>\n",
       "      <td>Gujarat Titans</td>\n",
       "      <td>Wickets</td>\n",
       "      <td>7.0</td>\n",
       "      <td>NaN</td>\n",
       "      <td>DA Miller</td>\n",
       "      <td>['YBK Jaiswal', 'JC Buttler', 'SV Samson', 'D ...</td>\n",
       "      <td>['WP Saha', 'Shubman Gill', 'MS Wade', 'HH Pan...</td>\n",
       "      <td>BNJ Oxenford</td>\n",
       "      <td>VK Sharma</td>\n",
       "    </tr>\n",
       "    <tr>\n",
       "      <th>4</th>\n",
       "      <td>1304116</td>\n",
       "      <td>Mumbai</td>\n",
       "      <td>2022-05-22</td>\n",
       "      <td>2022</td>\n",
       "      <td>70</td>\n",
       "      <td>Sunrisers Hyderabad</td>\n",
       "      <td>Punjab Kings</td>\n",
       "      <td>Wankhede Stadium, Mumbai</td>\n",
       "      <td>Sunrisers Hyderabad</td>\n",
       "      <td>bat</td>\n",
       "      <td>N</td>\n",
       "      <td>Punjab Kings</td>\n",
       "      <td>Wickets</td>\n",
       "      <td>5.0</td>\n",
       "      <td>NaN</td>\n",
       "      <td>Harpreet Brar</td>\n",
       "      <td>['PK Garg', 'Abhishek Sharma', 'RA Tripathi', ...</td>\n",
       "      <td>['JM Bairstow', 'S Dhawan', 'M Shahrukh Khan',...</td>\n",
       "      <td>AK Chaudhary</td>\n",
       "      <td>NA Patwardhan</td>\n",
       "    </tr>\n",
       "  </tbody>\n",
       "</table>\n",
       "</div>"
      ],
      "text/plain": [
       "        ID       City        Date Season  MatchNumber  \\\n",
       "0  1312200  Ahmedabad  2022-05-29   2022        Final   \n",
       "1  1312199  Ahmedabad  2022-05-27   2022  Qualifier 2   \n",
       "2  1312198    Kolkata  2022-05-25   2022   Eliminator   \n",
       "3  1312197    Kolkata  2022-05-24   2022  Qualifier 1   \n",
       "4  1304116     Mumbai  2022-05-22   2022           70   \n",
       "\n",
       "                         Team1                 Team2  \\\n",
       "0             Rajasthan Royals        Gujarat Titans   \n",
       "1  Royal Challengers Bangalore      Rajasthan Royals   \n",
       "2  Royal Challengers Bangalore  Lucknow Super Giants   \n",
       "3             Rajasthan Royals        Gujarat Titans   \n",
       "4          Sunrisers Hyderabad          Punjab Kings   \n",
       "\n",
       "                              Venue            TossWinner TossDecision  \\\n",
       "0  Narendra Modi Stadium, Ahmedabad      Rajasthan Royals          bat   \n",
       "1  Narendra Modi Stadium, Ahmedabad      Rajasthan Royals        field   \n",
       "2             Eden Gardens, Kolkata  Lucknow Super Giants        field   \n",
       "3             Eden Gardens, Kolkata        Gujarat Titans        field   \n",
       "4          Wankhede Stadium, Mumbai   Sunrisers Hyderabad          bat   \n",
       "\n",
       "  SuperOver                  WinningTeam    WonBy  Margin method  \\\n",
       "0         N               Gujarat Titans  Wickets     7.0    NaN   \n",
       "1         N             Rajasthan Royals  Wickets     7.0    NaN   \n",
       "2         N  Royal Challengers Bangalore     Runs    14.0    NaN   \n",
       "3         N               Gujarat Titans  Wickets     7.0    NaN   \n",
       "4         N                 Punjab Kings  Wickets     5.0    NaN   \n",
       "\n",
       "  Player_of_Match                                       Team1Players  \\\n",
       "0       HH Pandya  ['YBK Jaiswal', 'JC Buttler', 'SV Samson', 'D ...   \n",
       "1      JC Buttler  ['V Kohli', 'F du Plessis', 'RM Patidar', 'GJ ...   \n",
       "2      RM Patidar  ['V Kohli', 'F du Plessis', 'RM Patidar', 'GJ ...   \n",
       "3       DA Miller  ['YBK Jaiswal', 'JC Buttler', 'SV Samson', 'D ...   \n",
       "4   Harpreet Brar  ['PK Garg', 'Abhishek Sharma', 'RA Tripathi', ...   \n",
       "\n",
       "                                        Team2Players        Umpire1  \\\n",
       "0  ['WP Saha', 'Shubman Gill', 'MS Wade', 'HH Pan...    CB Gaffaney   \n",
       "1  ['YBK Jaiswal', 'JC Buttler', 'SV Samson', 'D ...    CB Gaffaney   \n",
       "2  ['Q de Kock', 'KL Rahul', 'M Vohra', 'DJ Hooda...  J Madanagopal   \n",
       "3  ['WP Saha', 'Shubman Gill', 'MS Wade', 'HH Pan...   BNJ Oxenford   \n",
       "4  ['JM Bairstow', 'S Dhawan', 'M Shahrukh Khan',...   AK Chaudhary   \n",
       "\n",
       "         Umpire2  \n",
       "0    Nitin Menon  \n",
       "1    Nitin Menon  \n",
       "2       MA Gough  \n",
       "3      VK Sharma  \n",
       "4  NA Patwardhan  "
      ]
     },
     "execution_count": 582,
     "metadata": {},
     "output_type": "execute_result"
    }
   ],
   "source": [
    "\"Similarly there is subset=[] to drop on basis of some columns \"\n",
    "df1.dropna(subset=['WinningTeam']).head()"
   ]
  },
  {
   "cell_type": "markdown",
   "id": "638259be",
   "metadata": {},
   "source": [
    "__lets see how we can change the Null values__\n",
    "\n",
    "- __manually__\n",
    "\n",
    "- __fillna()__"
   ]
  },
  {
   "cell_type": "code",
   "execution_count": 583,
   "id": "ead3a6e7",
   "metadata": {},
   "outputs": [
    {
     "data": {
      "text/plain": [
       "205    NaN\n",
       "437    NaN\n",
       "464    NaN\n",
       "708    NaN\n",
       "Name: WinningTeam, dtype: object"
      ]
     },
     "execution_count": 583,
     "metadata": {},
     "output_type": "execute_result"
    }
   ],
   "source": [
    "# manually\n",
    "df1[\"WinningTeam\"][df1['WinningTeam'].isnull()]"
   ]
  },
  {
   "cell_type": "code",
   "execution_count": 584,
   "id": "e3da2bb1",
   "metadata": {},
   "outputs": [],
   "source": [
    "# TO Change Nan Values we can Use Fillna but manually we have to use such code below\n",
    "\n",
    "\"Code 1 : While value Assigning in Dataframe \"\n",
    "\"  this code is not generally used because df['colname']['row_index']=val this is not used may provide unpredectable Results\"\n",
    "\"\"\"\n",
    "df['colname']['row_index']=val\n",
    "it is called Chained indexing:\n",
    "\n",
    "= df['colname'] returns a Series\n",
    "= Then ['row_index'] is applied to that Series\n",
    "= This creates an intermediate copy, not a view, which may not modify the original DataFrame\n",
    "= It may not give a warning or error, but the change might silently fail\"\"\"\n",
    "\"instead we have to use df.iloc['rowindex','col_name']\"\n",
    "# df1[\"WinningTeam\"][df1['WinningTeam'].isnull()]='Match_Cancelled'\n",
    "\n",
    "\"Code 2 : instead above we use df.loc['rowindex','colname']\"\n",
    "\"df.loc[] is label Based Access\"\n",
    "# df1.loc[df1['WinningTeam'].isnull(),'WinningTeam']='Match_Cancelled'\n",
    "\n",
    "df1.loc[df1['WinningTeam'].isnull(),'WinningTeam']=\"Match_Cancelled\"\n",
    "\n",
    "# Mostly we dont use these values to fill null values we use .fillna()\n",
    "# this is used if we haveto change values using some condition or any boolean mask"
   ]
  },
  {
   "cell_type": "code",
   "execution_count": 585,
   "id": "5ee64d2d",
   "metadata": {},
   "outputs": [
    {
     "data": {
      "text/plain": [
       "Series([], Name: WinningTeam, dtype: object)"
      ]
     },
     "execution_count": 585,
     "metadata": {},
     "output_type": "execute_result"
    }
   ],
   "source": [
    "df1[\"WinningTeam\"][df1['WinningTeam'].isnull()]"
   ]
  },
  {
   "cell_type": "markdown",
   "id": "f3cbc1a6",
   "metadata": {},
   "source": [
    "__12. fillna()__\n",
    "\n",
    "__The .fillna() method is used to replace NaN (missing) values in a Series or DataFrame with a specified value or method.__"
   ]
  },
  {
   "cell_type": "code",
   "execution_count": null,
   "id": "e163c045",
   "metadata": {},
   "outputs": [],
   "source": [
    "\"\"\"\n",
    "df.fillna(\n",
    "value=None,\n",
    "method=None,\n",
    "axis=None,\n",
    "inplace=False,\n",
    "limit=None)\n",
    "\n",
    "value\tScalar, dict, Series, or DataFrame to replace NaNs\n",
    "method\tFill using 'ffill' (forward fill) or 'bfill' (backward fill)\n",
    "this is generally used to fill in forward and backward way\n",
    "axis\t0 (rows, default), 1 (columns)\n",
    "inplace\tWhether to modify the original DataFrame\n",
    "limit\tMax numbe\n",
    "\"\"\""
   ]
  },
  {
   "cell_type": "code",
   "execution_count": 587,
   "id": "73262bc0",
   "metadata": {},
   "outputs": [
    {
     "data": {
      "text/plain": [
       "205    NaN\n",
       "437    NaN\n",
       "464    NaN\n",
       "708    NaN\n",
       "Name: SuperOver, dtype: object"
      ]
     },
     "execution_count": 587,
     "metadata": {},
     "output_type": "execute_result"
    }
   ],
   "source": [
    "# first checking those null values in col\n",
    "df1['SuperOver'][df1['SuperOver'].isnull()]"
   ]
  },
  {
   "cell_type": "code",
   "execution_count": 588,
   "id": "b10ac06d",
   "metadata": {},
   "outputs": [],
   "source": [
    "# then using fillna to fill with no data\n",
    "df1['SuperOver']=df1['SuperOver'].fillna('No Data')"
   ]
  },
  {
   "cell_type": "code",
   "execution_count": 589,
   "id": "69beb613",
   "metadata": {},
   "outputs": [
    {
     "data": {
      "text/plain": [
       "np.int64(0)"
      ]
     },
     "execution_count": 589,
     "metadata": {},
     "output_type": "execute_result"
    }
   ],
   "source": [
    "# then using isnull again to check \n",
    "df1['SuperOver'].isnull().sum()\n"
   ]
  },
  {
   "cell_type": "code",
   "execution_count": 590,
   "id": "e87c1593",
   "metadata": {},
   "outputs": [
    {
     "data": {
      "text/plain": [
       "205    No Data\n",
       "437    No Data\n",
       "464    No Data\n",
       "708    No Data\n",
       "Name: SuperOver, dtype: object"
      ]
     },
     "execution_count": 590,
     "metadata": {},
     "output_type": "execute_result"
    }
   ],
   "source": [
    "# checking is they are changed or not\n",
    "df1['SuperOver'][df1['SuperOver']=='No Data']"
   ]
  },
  {
   "cell_type": "markdown",
   "id": "093a36a5",
   "metadata": {},
   "source": [
    "12. __.duplicated()__\n",
    "\n",
    "The .duplicated() method returns a Boolean Series — telling you which rows are duplicates of earlier ones."
   ]
  },
  {
   "cell_type": "code",
   "execution_count": 591,
   "id": "fd4ce0e4",
   "metadata": {},
   "outputs": [],
   "source": [
    "\"df.duplicated(subset=None, keep='first')\"\n",
    "\"\"\"subset\tColumn(s) to check for duplicates (default: all columns)\n",
    "keep\t'first' (default): marks later duplicates as True\n",
    "'last': marks earlier duplicates\n",
    "False: marks all duplicates as True\"\"\"\n",
    "\n",
    "temp3 = pd.DataFrame({\n",
    "    'Name': ['Alice', 'Bob', 'Alice', 'David', 'Bob'],\n",
    "    'Score': [90, 85, 90, 95, 85]\n",
    "})\n"
   ]
  },
  {
   "cell_type": "code",
   "execution_count": 592,
   "id": "295a1644",
   "metadata": {},
   "outputs": [
    {
     "data": {
      "text/html": [
       "<div>\n",
       "<style scoped>\n",
       "    .dataframe tbody tr th:only-of-type {\n",
       "        vertical-align: middle;\n",
       "    }\n",
       "\n",
       "    .dataframe tbody tr th {\n",
       "        vertical-align: top;\n",
       "    }\n",
       "\n",
       "    .dataframe thead th {\n",
       "        text-align: right;\n",
       "    }\n",
       "</style>\n",
       "<table border=\"1\" class=\"dataframe\">\n",
       "  <thead>\n",
       "    <tr style=\"text-align: right;\">\n",
       "      <th></th>\n",
       "      <th>Name</th>\n",
       "      <th>Score</th>\n",
       "    </tr>\n",
       "  </thead>\n",
       "  <tbody>\n",
       "    <tr>\n",
       "      <th>0</th>\n",
       "      <td>Alice</td>\n",
       "      <td>90</td>\n",
       "    </tr>\n",
       "    <tr>\n",
       "      <th>1</th>\n",
       "      <td>Bob</td>\n",
       "      <td>85</td>\n",
       "    </tr>\n",
       "    <tr>\n",
       "      <th>2</th>\n",
       "      <td>Alice</td>\n",
       "      <td>90</td>\n",
       "    </tr>\n",
       "    <tr>\n",
       "      <th>3</th>\n",
       "      <td>David</td>\n",
       "      <td>95</td>\n",
       "    </tr>\n",
       "    <tr>\n",
       "      <th>4</th>\n",
       "      <td>Bob</td>\n",
       "      <td>85</td>\n",
       "    </tr>\n",
       "  </tbody>\n",
       "</table>\n",
       "</div>"
      ],
      "text/plain": [
       "    Name  Score\n",
       "0  Alice     90\n",
       "1    Bob     85\n",
       "2  Alice     90\n",
       "3  David     95\n",
       "4    Bob     85"
      ]
     },
     "execution_count": 592,
     "metadata": {},
     "output_type": "execute_result"
    }
   ],
   "source": [
    "temp3"
   ]
  },
  {
   "cell_type": "code",
   "execution_count": 593,
   "id": "f4e11108",
   "metadata": {},
   "outputs": [
    {
     "data": {
      "text/plain": [
       "0    False\n",
       "1    False\n",
       "2     True\n",
       "3    False\n",
       "4     True\n",
       "dtype: bool"
      ]
     },
     "execution_count": 593,
     "metadata": {},
     "output_type": "execute_result"
    }
   ],
   "source": [
    "temp3.duplicated()"
   ]
  },
  {
   "cell_type": "code",
   "execution_count": 594,
   "id": "a4dcbe72",
   "metadata": {},
   "outputs": [
    {
     "data": {
      "text/html": [
       "<div>\n",
       "<style scoped>\n",
       "    .dataframe tbody tr th:only-of-type {\n",
       "        vertical-align: middle;\n",
       "    }\n",
       "\n",
       "    .dataframe tbody tr th {\n",
       "        vertical-align: top;\n",
       "    }\n",
       "\n",
       "    .dataframe thead th {\n",
       "        text-align: right;\n",
       "    }\n",
       "</style>\n",
       "<table border=\"1\" class=\"dataframe\">\n",
       "  <thead>\n",
       "    <tr style=\"text-align: right;\">\n",
       "      <th></th>\n",
       "      <th>Name</th>\n",
       "      <th>Score</th>\n",
       "    </tr>\n",
       "  </thead>\n",
       "  <tbody>\n",
       "    <tr>\n",
       "      <th>2</th>\n",
       "      <td>Alice</td>\n",
       "      <td>90</td>\n",
       "    </tr>\n",
       "    <tr>\n",
       "      <th>4</th>\n",
       "      <td>Bob</td>\n",
       "      <td>85</td>\n",
       "    </tr>\n",
       "  </tbody>\n",
       "</table>\n",
       "</div>"
      ],
      "text/plain": [
       "    Name  Score\n",
       "2  Alice     90\n",
       "4    Bob     85"
      ]
     },
     "execution_count": 594,
     "metadata": {},
     "output_type": "execute_result"
    }
   ],
   "source": [
    "temp3[temp3.duplicated()]\n"
   ]
  },
  {
   "cell_type": "markdown",
   "id": "40c10ae5",
   "metadata": {},
   "source": [
    "13. __.drop_duplicates()__\n",
    "\n",
    "__Removes duplicate rows (or based on selected columns) from a DataFrame.__"
   ]
  },
  {
   "cell_type": "code",
   "execution_count": null,
   "id": "2f379f30",
   "metadata": {},
   "outputs": [],
   "source": [
    "\"\"\"\n",
    "df.drop_duplicates(\n",
    "    subset=None,\n",
    "    keep='first',\n",
    "    inplace=False,\n",
    "    ignore_index=False\n",
    ")\n",
    "\n",
    "\n",
    "subset\tColumn(s) to check for duplicates (default is all columns)\n",
    "\n",
    "keep\t'first' (default): keep first occurrence\n",
    "'last': keep last\n",
    "False: drop all duplicates\n",
    "\n",
    "inplace\tIf True, modifies the original DataFrame\n",
    "\n",
    "\n",
    "ignore_index\tIf True, resets the index in the result\n",
    "\"\"\""
   ]
  },
  {
   "cell_type": "code",
   "execution_count": 596,
   "id": "70c4e8cf",
   "metadata": {},
   "outputs": [
    {
     "data": {
      "text/html": [
       "<div>\n",
       "<style scoped>\n",
       "    .dataframe tbody tr th:only-of-type {\n",
       "        vertical-align: middle;\n",
       "    }\n",
       "\n",
       "    .dataframe tbody tr th {\n",
       "        vertical-align: top;\n",
       "    }\n",
       "\n",
       "    .dataframe thead th {\n",
       "        text-align: right;\n",
       "    }\n",
       "</style>\n",
       "<table border=\"1\" class=\"dataframe\">\n",
       "  <thead>\n",
       "    <tr style=\"text-align: right;\">\n",
       "      <th></th>\n",
       "      <th>Name</th>\n",
       "      <th>Score</th>\n",
       "    </tr>\n",
       "  </thead>\n",
       "  <tbody>\n",
       "    <tr>\n",
       "      <th>0</th>\n",
       "      <td>Alice</td>\n",
       "      <td>90</td>\n",
       "    </tr>\n",
       "    <tr>\n",
       "      <th>1</th>\n",
       "      <td>Bob</td>\n",
       "      <td>85</td>\n",
       "    </tr>\n",
       "    <tr>\n",
       "      <th>3</th>\n",
       "      <td>David</td>\n",
       "      <td>95</td>\n",
       "    </tr>\n",
       "  </tbody>\n",
       "</table>\n",
       "</div>"
      ],
      "text/plain": [
       "    Name  Score\n",
       "0  Alice     90\n",
       "1    Bob     85\n",
       "3  David     95"
      ]
     },
     "execution_count": 596,
     "metadata": {},
     "output_type": "execute_result"
    }
   ],
   "source": [
    "temp3.drop_duplicates()"
   ]
  },
  {
   "cell_type": "code",
   "execution_count": 597,
   "id": "1595a25e",
   "metadata": {},
   "outputs": [
    {
     "data": {
      "text/html": [
       "<div>\n",
       "<style scoped>\n",
       "    .dataframe tbody tr th:only-of-type {\n",
       "        vertical-align: middle;\n",
       "    }\n",
       "\n",
       "    .dataframe tbody tr th {\n",
       "        vertical-align: top;\n",
       "    }\n",
       "\n",
       "    .dataframe thead th {\n",
       "        text-align: right;\n",
       "    }\n",
       "</style>\n",
       "<table border=\"1\" class=\"dataframe\">\n",
       "  <thead>\n",
       "    <tr style=\"text-align: right;\">\n",
       "      <th></th>\n",
       "      <th>Name</th>\n",
       "      <th>Score</th>\n",
       "    </tr>\n",
       "  </thead>\n",
       "  <tbody>\n",
       "    <tr>\n",
       "      <th>0</th>\n",
       "      <td>Alice</td>\n",
       "      <td>90</td>\n",
       "    </tr>\n",
       "    <tr>\n",
       "      <th>1</th>\n",
       "      <td>Bob</td>\n",
       "      <td>85</td>\n",
       "    </tr>\n",
       "    <tr>\n",
       "      <th>3</th>\n",
       "      <td>David</td>\n",
       "      <td>95</td>\n",
       "    </tr>\n",
       "  </tbody>\n",
       "</table>\n",
       "</div>"
      ],
      "text/plain": [
       "    Name  Score\n",
       "0  Alice     90\n",
       "1    Bob     85\n",
       "3  David     95"
      ]
     },
     "execution_count": 597,
     "metadata": {},
     "output_type": "execute_result"
    }
   ],
   "source": [
    "#other way using ~\n",
    "(temp3[ ~ temp3.duplicated()])"
   ]
  },
  {
   "cell_type": "code",
   "execution_count": 598,
   "id": "9b6c7ee9",
   "metadata": {},
   "outputs": [
    {
     "data": {
      "text/plain": [
       "\" subset =['col1','col2'] : used to Remove the Items Based on Particular column\""
      ]
     },
     "execution_count": 598,
     "metadata": {},
     "output_type": "execute_result"
    }
   ],
   "source": [
    "# drop_duplicate(subset=[''])\n",
    "\" subset =['col1','col2'] : used to Remove the Items Based on Particular column\""
   ]
  },
  {
   "cell_type": "code",
   "execution_count": 599,
   "id": "ba8428f8",
   "metadata": {},
   "outputs": [
    {
     "data": {
      "text/html": [
       "<div>\n",
       "<style scoped>\n",
       "    .dataframe tbody tr th:only-of-type {\n",
       "        vertical-align: middle;\n",
       "    }\n",
       "\n",
       "    .dataframe tbody tr th {\n",
       "        vertical-align: top;\n",
       "    }\n",
       "\n",
       "    .dataframe thead th {\n",
       "        text-align: right;\n",
       "    }\n",
       "</style>\n",
       "<table border=\"1\" class=\"dataframe\">\n",
       "  <thead>\n",
       "    <tr style=\"text-align: right;\">\n",
       "      <th></th>\n",
       "      <th>ID</th>\n",
       "      <th>City</th>\n",
       "      <th>Date</th>\n",
       "      <th>Season</th>\n",
       "      <th>MatchNumber</th>\n",
       "      <th>Team1</th>\n",
       "      <th>Team2</th>\n",
       "      <th>Venue</th>\n",
       "      <th>TossWinner</th>\n",
       "      <th>TossDecision</th>\n",
       "      <th>SuperOver</th>\n",
       "      <th>WinningTeam</th>\n",
       "      <th>WonBy</th>\n",
       "      <th>Margin</th>\n",
       "      <th>method</th>\n",
       "      <th>Player_of_Match</th>\n",
       "      <th>Team1Players</th>\n",
       "      <th>Team2Players</th>\n",
       "      <th>Umpire1</th>\n",
       "      <th>Umpire2</th>\n",
       "    </tr>\n",
       "  </thead>\n",
       "  <tbody>\n",
       "    <tr>\n",
       "      <th>208</th>\n",
       "      <td>1178421</td>\n",
       "      <td>Delhi</td>\n",
       "      <td>2019-04-28</td>\n",
       "      <td>2019</td>\n",
       "      <td>46</td>\n",
       "      <td>Delhi Capitals</td>\n",
       "      <td>Royal Challengers Bangalore</td>\n",
       "      <td>Arun Jaitley Stadium</td>\n",
       "      <td>Delhi Capitals</td>\n",
       "      <td>bat</td>\n",
       "      <td>N</td>\n",
       "      <td>Delhi Capitals</td>\n",
       "      <td>Runs</td>\n",
       "      <td>16.0</td>\n",
       "      <td>NaN</td>\n",
       "      <td>S Dhawan</td>\n",
       "      <td>['PP Shaw', 'S Dhawan', 'SS Iyer', 'RR Pant', ...</td>\n",
       "      <td>['PA Patel', 'V Kohli', 'AB de Villiers', 'S D...</td>\n",
       "      <td>BNJ Oxenford</td>\n",
       "      <td>KN Ananthapadmanabhan</td>\n",
       "    </tr>\n",
       "  </tbody>\n",
       "</table>\n",
       "</div>"
      ],
      "text/plain": [
       "          ID   City        Date Season MatchNumber           Team1  \\\n",
       "208  1178421  Delhi  2019-04-28   2019          46  Delhi Capitals   \n",
       "\n",
       "                           Team2                 Venue      TossWinner  \\\n",
       "208  Royal Challengers Bangalore  Arun Jaitley Stadium  Delhi Capitals   \n",
       "\n",
       "    TossDecision SuperOver     WinningTeam WonBy  Margin method  \\\n",
       "208          bat         N  Delhi Capitals  Runs    16.0    NaN   \n",
       "\n",
       "    Player_of_Match                                       Team1Players  \\\n",
       "208        S Dhawan  ['PP Shaw', 'S Dhawan', 'SS Iyer', 'RR Pant', ...   \n",
       "\n",
       "                                          Team2Players       Umpire1  \\\n",
       "208  ['PA Patel', 'V Kohli', 'AB de Villiers', 'S D...  BNJ Oxenford   \n",
       "\n",
       "                   Umpire2  \n",
       "208  KN Ananthapadmanabhan  "
      ]
     },
     "execution_count": 599,
     "metadata": {},
     "output_type": "execute_result"
    }
   ],
   "source": [
    "Virat_in_delhi=df1[(df1['City']=='Delhi') & ((df1['Team1Players'].str.contains(\"V Kohli\")) |  (df1['Team2Players'].str.contains(\"V Kohli\")))] \n",
    "Virat_in_delhi.head() \n",
    "\n",
    "# Recent match in which virat kohli plays in Delhi\n",
    "Virat_in_delhi.drop_duplicates(subset=['City'],keep=\"first\")"
   ]
  },
  {
   "cell_type": "markdown",
   "id": "94e7cd1b",
   "metadata": {},
   "source": [
    "14. __drop()__\n",
    "\n",
    "\n",
    "__drop() is used to delete rows or columns from a DataFrame by label or index.__\n"
   ]
  },
  {
   "cell_type": "code",
   "execution_count": 600,
   "id": "c775fd4a",
   "metadata": {},
   "outputs": [
    {
     "data": {
      "text/html": [
       "<div>\n",
       "<style scoped>\n",
       "    .dataframe tbody tr th:only-of-type {\n",
       "        vertical-align: middle;\n",
       "    }\n",
       "\n",
       "    .dataframe tbody tr th {\n",
       "        vertical-align: top;\n",
       "    }\n",
       "\n",
       "    .dataframe thead th {\n",
       "        text-align: right;\n",
       "    }\n",
       "</style>\n",
       "<table border=\"1\" class=\"dataframe\">\n",
       "  <thead>\n",
       "    <tr style=\"text-align: right;\">\n",
       "      <th></th>\n",
       "      <th>Name</th>\n",
       "      <th>Score</th>\n",
       "    </tr>\n",
       "  </thead>\n",
       "  <tbody>\n",
       "    <tr>\n",
       "      <th>0</th>\n",
       "      <td>Alice</td>\n",
       "      <td>90</td>\n",
       "    </tr>\n",
       "    <tr>\n",
       "      <th>1</th>\n",
       "      <td>Bob</td>\n",
       "      <td>85</td>\n",
       "    </tr>\n",
       "    <tr>\n",
       "      <th>2</th>\n",
       "      <td>Alice</td>\n",
       "      <td>90</td>\n",
       "    </tr>\n",
       "    <tr>\n",
       "      <th>3</th>\n",
       "      <td>David</td>\n",
       "      <td>95</td>\n",
       "    </tr>\n",
       "    <tr>\n",
       "      <th>4</th>\n",
       "      <td>Bob</td>\n",
       "      <td>85</td>\n",
       "    </tr>\n",
       "  </tbody>\n",
       "</table>\n",
       "</div>"
      ],
      "text/plain": [
       "    Name  Score\n",
       "0  Alice     90\n",
       "1    Bob     85\n",
       "2  Alice     90\n",
       "3  David     95\n",
       "4    Bob     85"
      ]
     },
     "execution_count": 600,
     "metadata": {},
     "output_type": "execute_result"
    }
   ],
   "source": [
    "\"\"\"df.drop(labels=None, axis=0, index=None, columns=None, inplace=False)\n",
    "\n",
    "1. labels\tEither rows or columns — based on axis\trow labels or column names\tindex or columns (depending on axis)\n",
    "2. index\t Rows only\trow labels\tdrop(labels=..., axis=0)\n",
    "3. columns\t Columns only\tcolumn names\tdrop(labels=..., axis=1)\n",
    "\"\"\"\n",
    "temp3"
   ]
  },
  {
   "cell_type": "code",
   "execution_count": 601,
   "id": "b22d43bc",
   "metadata": {},
   "outputs": [
    {
     "data": {
      "text/html": [
       "<div>\n",
       "<style scoped>\n",
       "    .dataframe tbody tr th:only-of-type {\n",
       "        vertical-align: middle;\n",
       "    }\n",
       "\n",
       "    .dataframe tbody tr th {\n",
       "        vertical-align: top;\n",
       "    }\n",
       "\n",
       "    .dataframe thead th {\n",
       "        text-align: right;\n",
       "    }\n",
       "</style>\n",
       "<table border=\"1\" class=\"dataframe\">\n",
       "  <thead>\n",
       "    <tr style=\"text-align: right;\">\n",
       "      <th></th>\n",
       "      <th>Name</th>\n",
       "      <th>Score</th>\n",
       "    </tr>\n",
       "  </thead>\n",
       "  <tbody>\n",
       "    <tr>\n",
       "      <th>0</th>\n",
       "      <td>Alice</td>\n",
       "      <td>90</td>\n",
       "    </tr>\n",
       "    <tr>\n",
       "      <th>1</th>\n",
       "      <td>Bob</td>\n",
       "      <td>85</td>\n",
       "    </tr>\n",
       "    <tr>\n",
       "      <th>2</th>\n",
       "      <td>Alice</td>\n",
       "      <td>90</td>\n",
       "    </tr>\n",
       "    <tr>\n",
       "      <th>3</th>\n",
       "      <td>David</td>\n",
       "      <td>95</td>\n",
       "    </tr>\n",
       "  </tbody>\n",
       "</table>\n",
       "</div>"
      ],
      "text/plain": [
       "    Name  Score\n",
       "0  Alice     90\n",
       "1    Bob     85\n",
       "2  Alice     90\n",
       "3  David     95"
      ]
     },
     "execution_count": 601,
     "metadata": {},
     "output_type": "execute_result"
    }
   ],
   "source": [
    "#drop Rows using axis=0 (by default it is =0)\n",
    "temp3.drop([4],axis=0)"
   ]
  },
  {
   "cell_type": "code",
   "execution_count": 602,
   "id": "b5955051",
   "metadata": {},
   "outputs": [
    {
     "data": {
      "text/html": [
       "<div>\n",
       "<style scoped>\n",
       "    .dataframe tbody tr th:only-of-type {\n",
       "        vertical-align: middle;\n",
       "    }\n",
       "\n",
       "    .dataframe tbody tr th {\n",
       "        vertical-align: top;\n",
       "    }\n",
       "\n",
       "    .dataframe thead th {\n",
       "        text-align: right;\n",
       "    }\n",
       "</style>\n",
       "<table border=\"1\" class=\"dataframe\">\n",
       "  <thead>\n",
       "    <tr style=\"text-align: right;\">\n",
       "      <th></th>\n",
       "      <th>Name</th>\n",
       "    </tr>\n",
       "  </thead>\n",
       "  <tbody>\n",
       "    <tr>\n",
       "      <th>0</th>\n",
       "      <td>Alice</td>\n",
       "    </tr>\n",
       "    <tr>\n",
       "      <th>1</th>\n",
       "      <td>Bob</td>\n",
       "    </tr>\n",
       "    <tr>\n",
       "      <th>2</th>\n",
       "      <td>Alice</td>\n",
       "    </tr>\n",
       "    <tr>\n",
       "      <th>3</th>\n",
       "      <td>David</td>\n",
       "    </tr>\n",
       "    <tr>\n",
       "      <th>4</th>\n",
       "      <td>Bob</td>\n",
       "    </tr>\n",
       "  </tbody>\n",
       "</table>\n",
       "</div>"
      ],
      "text/plain": [
       "    Name\n",
       "0  Alice\n",
       "1    Bob\n",
       "2  Alice\n",
       "3  David\n",
       "4    Bob"
      ]
     },
     "execution_count": 602,
     "metadata": {},
     "output_type": "execute_result"
    }
   ],
   "source": [
    "# drop score COlumn with axis=1 \n",
    "temp3.drop('Score',axis=1)"
   ]
  },
  {
   "cell_type": "code",
   "execution_count": 603,
   "id": "844d097e",
   "metadata": {},
   "outputs": [
    {
     "data": {
      "text/html": [
       "<div>\n",
       "<style scoped>\n",
       "    .dataframe tbody tr th:only-of-type {\n",
       "        vertical-align: middle;\n",
       "    }\n",
       "\n",
       "    .dataframe tbody tr th {\n",
       "        vertical-align: top;\n",
       "    }\n",
       "\n",
       "    .dataframe thead th {\n",
       "        text-align: right;\n",
       "    }\n",
       "</style>\n",
       "<table border=\"1\" class=\"dataframe\">\n",
       "  <thead>\n",
       "    <tr style=\"text-align: right;\">\n",
       "      <th></th>\n",
       "    </tr>\n",
       "  </thead>\n",
       "  <tbody>\n",
       "    <tr>\n",
       "      <th>0</th>\n",
       "    </tr>\n",
       "    <tr>\n",
       "      <th>1</th>\n",
       "    </tr>\n",
       "    <tr>\n",
       "      <th>2</th>\n",
       "    </tr>\n",
       "    <tr>\n",
       "      <th>3</th>\n",
       "    </tr>\n",
       "    <tr>\n",
       "      <th>4</th>\n",
       "    </tr>\n",
       "  </tbody>\n",
       "</table>\n",
       "</div>"
      ],
      "text/plain": [
       "Empty DataFrame\n",
       "Columns: []\n",
       "Index: [0, 1, 2, 3, 4]"
      ]
     },
     "execution_count": 603,
     "metadata": {},
     "output_type": "execute_result"
    }
   ],
   "source": [
    "# drop using columns \n",
    "temp3.drop(columns=['Score',\"Name\"])\n",
    "# similarly we can use index for rows"
   ]
  },
  {
   "cell_type": "code",
   "execution_count": 604,
   "id": "4f2aaf65",
   "metadata": {},
   "outputs": [],
   "source": [
    "# we have lables as well we can provide columns and rows index as well"
   ]
  },
  {
   "cell_type": "markdown",
   "id": "c85a4f83",
   "metadata": {},
   "source": [
    "__15. apply()__\n",
    "\n",
    "__The .apply() function is used to apply a custom function (or any built-in function) to each row or column of a DataFrame or Series.__"
   ]
  },
  {
   "cell_type": "code",
   "execution_count": 605,
   "id": "7849e917",
   "metadata": {},
   "outputs": [
    {
     "data": {
      "text/plain": [
       "'df.apply(func, axis=0, raw=False, result_type=None)\\n'"
      ]
     },
     "execution_count": 605,
     "metadata": {},
     "output_type": "execute_result"
    }
   ],
   "source": [
    "\"\"\"df.apply(func, axis=0, raw=False, result_type=None)\n",
    "\"\"\""
   ]
  },
  {
   "cell_type": "code",
   "execution_count": 606,
   "id": "594b16e0",
   "metadata": {},
   "outputs": [
    {
     "data": {
      "text/html": [
       "<div>\n",
       "<style scoped>\n",
       "    .dataframe tbody tr th:only-of-type {\n",
       "        vertical-align: middle;\n",
       "    }\n",
       "\n",
       "    .dataframe tbody tr th {\n",
       "        vertical-align: top;\n",
       "    }\n",
       "\n",
       "    .dataframe thead th {\n",
       "        text-align: right;\n",
       "    }\n",
       "</style>\n",
       "<table border=\"1\" class=\"dataframe\">\n",
       "  <thead>\n",
       "    <tr style=\"text-align: right;\">\n",
       "      <th></th>\n",
       "      <th>Name</th>\n",
       "      <th>Score</th>\n",
       "    </tr>\n",
       "  </thead>\n",
       "  <tbody>\n",
       "    <tr>\n",
       "      <th>0</th>\n",
       "      <td>Alice</td>\n",
       "      <td>90</td>\n",
       "    </tr>\n",
       "    <tr>\n",
       "      <th>1</th>\n",
       "      <td>Bob</td>\n",
       "      <td>85</td>\n",
       "    </tr>\n",
       "    <tr>\n",
       "      <th>2</th>\n",
       "      <td>Alice</td>\n",
       "      <td>90</td>\n",
       "    </tr>\n",
       "    <tr>\n",
       "      <th>3</th>\n",
       "      <td>David</td>\n",
       "      <td>95</td>\n",
       "    </tr>\n",
       "    <tr>\n",
       "      <th>4</th>\n",
       "      <td>Bob</td>\n",
       "      <td>85</td>\n",
       "    </tr>\n",
       "  </tbody>\n",
       "</table>\n",
       "</div>"
      ],
      "text/plain": [
       "    Name  Score\n",
       "0  Alice     90\n",
       "1    Bob     85\n",
       "2  Alice     90\n",
       "3  David     95\n",
       "4    Bob     85"
      ]
     },
     "execution_count": 606,
     "metadata": {},
     "output_type": "execute_result"
    }
   ],
   "source": [
    "\"Using apply on single Series  We traverese over up todown\"\n",
    "temp3"
   ]
  },
  {
   "cell_type": "code",
   "execution_count": 607,
   "id": "77bbe6a4",
   "metadata": {},
   "outputs": [],
   "source": [
    "temp3[\"Sgpa\"]=temp3['Score'].apply(lambda x: x/10)"
   ]
  },
  {
   "cell_type": "code",
   "execution_count": 608,
   "id": "eb13ca93",
   "metadata": {},
   "outputs": [
    {
     "data": {
      "text/html": [
       "<div>\n",
       "<style scoped>\n",
       "    .dataframe tbody tr th:only-of-type {\n",
       "        vertical-align: middle;\n",
       "    }\n",
       "\n",
       "    .dataframe tbody tr th {\n",
       "        vertical-align: top;\n",
       "    }\n",
       "\n",
       "    .dataframe thead th {\n",
       "        text-align: right;\n",
       "    }\n",
       "</style>\n",
       "<table border=\"1\" class=\"dataframe\">\n",
       "  <thead>\n",
       "    <tr style=\"text-align: right;\">\n",
       "      <th></th>\n",
       "      <th>Name</th>\n",
       "      <th>Score</th>\n",
       "      <th>Sgpa</th>\n",
       "    </tr>\n",
       "  </thead>\n",
       "  <tbody>\n",
       "    <tr>\n",
       "      <th>0</th>\n",
       "      <td>Alice</td>\n",
       "      <td>90</td>\n",
       "      <td>9.0</td>\n",
       "    </tr>\n",
       "    <tr>\n",
       "      <th>1</th>\n",
       "      <td>Bob</td>\n",
       "      <td>85</td>\n",
       "      <td>8.5</td>\n",
       "    </tr>\n",
       "    <tr>\n",
       "      <th>2</th>\n",
       "      <td>Alice</td>\n",
       "      <td>90</td>\n",
       "      <td>9.0</td>\n",
       "    </tr>\n",
       "    <tr>\n",
       "      <th>3</th>\n",
       "      <td>David</td>\n",
       "      <td>95</td>\n",
       "      <td>9.5</td>\n",
       "    </tr>\n",
       "    <tr>\n",
       "      <th>4</th>\n",
       "      <td>Bob</td>\n",
       "      <td>85</td>\n",
       "      <td>8.5</td>\n",
       "    </tr>\n",
       "  </tbody>\n",
       "</table>\n",
       "</div>"
      ],
      "text/plain": [
       "    Name  Score  Sgpa\n",
       "0  Alice     90   9.0\n",
       "1    Bob     85   8.5\n",
       "2  Alice     90   9.0\n",
       "3  David     95   9.5\n",
       "4    Bob     85   8.5"
      ]
     },
     "execution_count": 608,
     "metadata": {},
     "output_type": "execute_result"
    }
   ],
   "source": [
    "temp3"
   ]
  },
  {
   "cell_type": "code",
   "execution_count": 610,
   "id": "9aeb6167",
   "metadata": {},
   "outputs": [
    {
     "data": {
      "text/html": [
       "<div>\n",
       "<style scoped>\n",
       "    .dataframe tbody tr th:only-of-type {\n",
       "        vertical-align: middle;\n",
       "    }\n",
       "\n",
       "    .dataframe tbody tr th {\n",
       "        vertical-align: top;\n",
       "    }\n",
       "\n",
       "    .dataframe thead th {\n",
       "        text-align: right;\n",
       "    }\n",
       "</style>\n",
       "<table border=\"1\" class=\"dataframe\">\n",
       "  <thead>\n",
       "    <tr style=\"text-align: right;\">\n",
       "      <th></th>\n",
       "      <th>Point1</th>\n",
       "      <th>Point2</th>\n",
       "    </tr>\n",
       "  </thead>\n",
       "  <tbody>\n",
       "    <tr>\n",
       "      <th>0</th>\n",
       "      <td>(1, 2)</td>\n",
       "      <td>(4, 6)</td>\n",
       "    </tr>\n",
       "    <tr>\n",
       "      <th>1</th>\n",
       "      <td>(3, 4)</td>\n",
       "      <td>(7, 1)</td>\n",
       "    </tr>\n",
       "  </tbody>\n",
       "</table>\n",
       "</div>"
      ],
      "text/plain": [
       "   Point1  Point2\n",
       "0  (1, 2)  (4, 6)\n",
       "1  (3, 4)  (7, 1)"
      ]
     },
     "execution_count": 610,
     "metadata": {},
     "output_type": "execute_result"
    }
   ],
   "source": [
    "\"Using apply on Whole Dataframe\"\n",
    "\"we traverse over rows axis=1\"\n",
    "temp4 = pd.DataFrame({\n",
    "    'Point1': [(1, 2), (3, 4)],\n",
    "    'Point2': [(4, 6), (7, 1)]\n",
    "})\n",
    "temp4"
   ]
  },
  {
   "cell_type": "code",
   "execution_count": 612,
   "id": "0f76d682",
   "metadata": {},
   "outputs": [
    {
     "name": "stdout",
     "output_type": "stream",
     "text": [
      "<class 'pandas.core.frame.DataFrame'>\n",
      "RangeIndex: 2 entries, 0 to 1\n",
      "Data columns (total 2 columns):\n",
      " #   Column  Non-Null Count  Dtype \n",
      "---  ------  --------------  ----- \n",
      " 0   Point1  2 non-null      object\n",
      " 1   Point2  2 non-null      object\n",
      "dtypes: object(2)\n",
      "memory usage: 164.0+ bytes\n"
     ]
    }
   ],
   "source": [
    "temp4.info()"
   ]
  },
  {
   "cell_type": "code",
   "execution_count": 614,
   "id": "bc2adbb7",
   "metadata": {},
   "outputs": [],
   "source": [
    "# we have to Find Euclidean distance of two points point 1 and point 2 and create a new col with taht name \n",
    "def Euclidean(row):\n",
    "    pt_A=row['Point1']\n",
    "    pt_B=row['Point2']\n",
    "    Euclidean_dist=np.sqrt(np.square(pt_A[0]-pt_B[0]) + np.square(pt_A[1]-pt_B[1]))\n",
    "    return Euclidean_dist\n",
    "\n",
    "temp4['Euclidean_distance']=temp4.apply(Euclidean,axis=1)"
   ]
  },
  {
   "cell_type": "code",
   "execution_count": 615,
   "id": "dabec573",
   "metadata": {},
   "outputs": [
    {
     "data": {
      "text/html": [
       "<div>\n",
       "<style scoped>\n",
       "    .dataframe tbody tr th:only-of-type {\n",
       "        vertical-align: middle;\n",
       "    }\n",
       "\n",
       "    .dataframe tbody tr th {\n",
       "        vertical-align: top;\n",
       "    }\n",
       "\n",
       "    .dataframe thead th {\n",
       "        text-align: right;\n",
       "    }\n",
       "</style>\n",
       "<table border=\"1\" class=\"dataframe\">\n",
       "  <thead>\n",
       "    <tr style=\"text-align: right;\">\n",
       "      <th></th>\n",
       "      <th>Point1</th>\n",
       "      <th>Point2</th>\n",
       "      <th>Euclidean_distance</th>\n",
       "    </tr>\n",
       "  </thead>\n",
       "  <tbody>\n",
       "    <tr>\n",
       "      <th>0</th>\n",
       "      <td>(1, 2)</td>\n",
       "      <td>(4, 6)</td>\n",
       "      <td>5.0</td>\n",
       "    </tr>\n",
       "    <tr>\n",
       "      <th>1</th>\n",
       "      <td>(3, 4)</td>\n",
       "      <td>(7, 1)</td>\n",
       "      <td>5.0</td>\n",
       "    </tr>\n",
       "  </tbody>\n",
       "</table>\n",
       "</div>"
      ],
      "text/plain": [
       "   Point1  Point2  Euclidean_distance\n",
       "0  (1, 2)  (4, 6)                 5.0\n",
       "1  (3, 4)  (7, 1)                 5.0"
      ]
     },
     "execution_count": 615,
     "metadata": {},
     "output_type": "execute_result"
    }
   ],
   "source": [
    "temp4"
   ]
  },
  {
   "cell_type": "code",
   "execution_count": null,
   "id": "2523c3f2",
   "metadata": {},
   "outputs": [],
   "source": []
  }
 ],
 "metadata": {
  "kernelspec": {
   "display_name": "Python 3",
   "language": "python",
   "name": "python3"
  },
  "language_info": {
   "codemirror_mode": {
    "name": "ipython",
    "version": 3
   },
   "file_extension": ".py",
   "mimetype": "text/x-python",
   "name": "python",
   "nbconvert_exporter": "python",
   "pygments_lexer": "ipython3",
   "version": "3.13.5"
  }
 },
 "nbformat": 4,
 "nbformat_minor": 5
}
