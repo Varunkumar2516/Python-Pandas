{
 "cells": [
  {
   "cell_type": "markdown",
   "id": "990bd754",
   "metadata": {},
   "source": [
    "__DAY2__\n"
   ]
  },
  {
   "cell_type": "markdown",
   "id": "685403f3",
   "metadata": {},
   "source": [
    "# __Copy and View__\n",
    "- Copy :  A new, independent object(Editing Affects Original? No)\n",
    "\n",
    "- View: A reference to original data(Editing Affects Original? Yes)\n",
    "\n",
    "In Pandas, some slicing or indexing operations return views, while others return copies.\n",
    "\n",
    "If you modify a view, you might accidentally change the original Series or DataFrame."
   ]
  },
  {
   "cell_type": "code",
   "execution_count": 2,
   "id": "b6506be1",
   "metadata": {},
   "outputs": [
    {
     "data": {
      "text/plain": [
       "0       0\n",
       "1       1\n",
       "2       4\n",
       "3       9\n",
       "4      16\n",
       "5      25\n",
       "6      36\n",
       "7      49\n",
       "8      64\n",
       "9      81\n",
       "10    100\n",
       "dtype: int64"
      ]
     },
     "execution_count": 2,
     "metadata": {},
     "output_type": "execute_result"
    }
   ],
   "source": [
    "import pandas as pd\n",
    "\n",
    "s=pd.Series([i**2 for i in range(0,11)])\n",
    "s"
   ]
  },
  {
   "cell_type": "code",
   "execution_count": 3,
   "id": "9dbdcaa1",
   "metadata": {},
   "outputs": [
    {
     "name": "stdout",
     "output_type": "stream",
     "text": [
      "1    1\n",
      "2    4\n",
      "3    9\n",
      "dtype: int64\n",
      "Original s:\n",
      " 0       0\n",
      "1     999\n",
      "2       4\n",
      "3       9\n",
      "4      16\n",
      "5      25\n",
      "6      36\n",
      "7      49\n",
      "8      64\n",
      "9      81\n",
      "10    100\n",
      "dtype: int64\n"
     ]
    }
   ],
   "source": [
    "view = s[1:4]   \n",
    "print(view)\n",
    "view[1] = 999   # Modifies the view\n",
    "print(\"Original s:\\n\", s)  #  Might reflect change\n",
    "#This behavior is not guaranteed — depends on Pandas version and context.\n",
    "# THis behaviour is Highly dangerous if you dont handle it correctly"
   ]
  },
  {
   "cell_type": "code",
   "execution_count": 4,
   "id": "401d37c0",
   "metadata": {},
   "outputs": [
    {
     "name": "stdout",
     "output_type": "stream",
     "text": [
      "1    1\n",
      "2    4\n",
      "3    9\n",
      "dtype: int64\n",
      "\n",
      "Original\n",
      " 0       0\n",
      "1       1\n",
      "2       4\n",
      "3       9\n",
      "4      16\n",
      "5      25\n",
      "6      36\n",
      "7      49\n",
      "8      64\n",
      "9      81\n",
      "10    100\n",
      "dtype: int64\n"
     ]
    }
   ],
   "source": [
    "s=pd.Series([i**2 for i in range(0,11)])\n",
    "copy=s[1:4].copy()\n",
    "print(copy)\n",
    "\n",
    "copy[1]=999 # No CHange In Original\n",
    "print(\"\\nOriginal\\n\",s)"
   ]
  },
  {
   "cell_type": "code",
   "execution_count": null,
   "id": "509a6f11",
   "metadata": {},
   "outputs": [],
   "source": [
    "\"\"\"Sometimes it does change the original.\n",
    "Sometimes it doesn't.\n",
    "Sometimes you get a warning (SettingWithCopyWarning).\n",
    "Other times — nothing.\n",
    " Thats why its unpredictable and dangerous \n",
    "\n",
    "Solution::  Always Use .copy() When Editing a Subset\n",
    "\n",
    "We Have to also SUper Carefull when We use head() and tail() they are view\n",
    "functions so if we make changes in these data\n",
    "it will directly changes to original Series So always use .copy()\n",
    "before Doing Changes in our view\n",
    "\"\"\""
   ]
  },
  {
   "cell_type": "markdown",
   "id": "5e8133f4",
   "metadata": {},
   "source": [
    "# Python functionality on a Pandas Series"
   ]
  },
  {
   "cell_type": "code",
   "execution_count": 6,
   "id": "450b8508",
   "metadata": {},
   "outputs": [],
   "source": [
    "x=pd.read_csv(\"DATASETS/DAY1/subs.csv\")"
   ]
  },
  {
   "cell_type": "code",
   "execution_count": 7,
   "id": "c3a12b33",
   "metadata": {},
   "outputs": [
    {
     "data": {
      "text/html": [
       "<div>\n",
       "<style scoped>\n",
       "    .dataframe tbody tr th:only-of-type {\n",
       "        vertical-align: middle;\n",
       "    }\n",
       "\n",
       "    .dataframe tbody tr th {\n",
       "        vertical-align: top;\n",
       "    }\n",
       "\n",
       "    .dataframe thead th {\n",
       "        text-align: right;\n",
       "    }\n",
       "</style>\n",
       "<table border=\"1\" class=\"dataframe\">\n",
       "  <thead>\n",
       "    <tr style=\"text-align: right;\">\n",
       "      <th></th>\n",
       "      <th>Subscribers gained</th>\n",
       "    </tr>\n",
       "  </thead>\n",
       "  <tbody>\n",
       "    <tr>\n",
       "      <th>0</th>\n",
       "      <td>48</td>\n",
       "    </tr>\n",
       "    <tr>\n",
       "      <th>1</th>\n",
       "      <td>57</td>\n",
       "    </tr>\n",
       "    <tr>\n",
       "      <th>2</th>\n",
       "      <td>40</td>\n",
       "    </tr>\n",
       "    <tr>\n",
       "      <th>3</th>\n",
       "      <td>43</td>\n",
       "    </tr>\n",
       "    <tr>\n",
       "      <th>4</th>\n",
       "      <td>44</td>\n",
       "    </tr>\n",
       "    <tr>\n",
       "      <th>...</th>\n",
       "      <td>...</td>\n",
       "    </tr>\n",
       "    <tr>\n",
       "      <th>360</th>\n",
       "      <td>231</td>\n",
       "    </tr>\n",
       "    <tr>\n",
       "      <th>361</th>\n",
       "      <td>226</td>\n",
       "    </tr>\n",
       "    <tr>\n",
       "      <th>362</th>\n",
       "      <td>155</td>\n",
       "    </tr>\n",
       "    <tr>\n",
       "      <th>363</th>\n",
       "      <td>144</td>\n",
       "    </tr>\n",
       "    <tr>\n",
       "      <th>364</th>\n",
       "      <td>172</td>\n",
       "    </tr>\n",
       "  </tbody>\n",
       "</table>\n",
       "<p>365 rows × 1 columns</p>\n",
       "</div>"
      ],
      "text/plain": [
       "     Subscribers gained\n",
       "0                    48\n",
       "1                    57\n",
       "2                    40\n",
       "3                    43\n",
       "4                    44\n",
       "..                  ...\n",
       "360                 231\n",
       "361                 226\n",
       "362                 155\n",
       "363                 144\n",
       "364                 172\n",
       "\n",
       "[365 rows x 1 columns]"
      ]
     },
     "execution_count": 7,
     "metadata": {},
     "output_type": "execute_result"
    }
   ],
   "source": [
    "type(x)\n",
    "x"
   ]
  },
  {
   "cell_type": "code",
   "execution_count": 8,
   "id": "a8ee73cc",
   "metadata": {},
   "outputs": [],
   "source": [
    "#creating the series from above dataframe\n",
    "subs=pd.Series(x[\"Subscribers gained\"] )"
   ]
  },
  {
   "cell_type": "code",
   "execution_count": 31,
   "id": "d7377e65",
   "metadata": {},
   "outputs": [
    {
     "name": "stdout",
     "output_type": "stream",
     "text": [
      "length: 365\n",
      "Type:  <class 'pandas.core.series.Series'>\n",
      "Minimum  33\n",
      "Maximum  396\n"
     ]
    }
   ],
   "source": [
    "#(len(), type(), dir(), sorted(), min(), max())\n",
    "print(\"length:\",len(subs))           # Number of elements\n",
    "print(\"Type: \",type(subs))          # Type: pandas.core.series.Series\n",
    " # print(dir(subs))           # All attributes/methods\n",
    " # print(\"New Sorted List\",sorted(subs))        # Sorts the values (not inplace)\n",
    "print(\"Minimum \",min(subs.values))           # Minimum value\n",
    "print(\"Maximum \",max(subs))           # Maximum value\n"
   ]
  },
  {
   "cell_type": "code",
   "execution_count": 32,
   "id": "c4991230",
   "metadata": {},
   "outputs": [
    {
     "data": {
      "text/plain": [
       "'# Type Casting : COnverting in different Datatypes\\nWe can do this with pandas Series '"
      ]
     },
     "execution_count": 32,
     "metadata": {},
     "output_type": "execute_result"
    }
   ],
   "source": [
    "\"\"\"# Type Casting : COnverting in different Datatypes\n",
    "We can do this with pandas Series \"\"\"\n",
    "# print(list(subs))\n",
    "# print(dict(subs))\n",
    "# print(tuple(subs))\n",
    "\n"
   ]
  },
  {
   "cell_type": "code",
   "execution_count": 11,
   "id": "aaa231a0",
   "metadata": {},
   "outputs": [
    {
     "data": {
      "text/plain": [
       "0       48\n",
       "1       57\n",
       "2       40\n",
       "3       43\n",
       "4       44\n",
       "      ... \n",
       "360    231\n",
       "361    226\n",
       "362    155\n",
       "363    144\n",
       "364    172\n",
       "Name: Subscribers gained, Length: 365, dtype: int64"
      ]
     },
     "execution_count": 11,
     "metadata": {},
     "output_type": "execute_result"
    }
   ],
   "source": [
    "# MemberShip Operator Works IN Series\n",
    "# in , not in : By Default these Operators finds Things in Index(labels)\n",
    "subs"
   ]
  },
  {
   "cell_type": "code",
   "execution_count": 12,
   "id": "35db1715",
   "metadata": {},
   "outputs": [
    {
     "name": "stdout",
     "output_type": "stream",
     "text": [
      "True\n",
      "False\n"
     ]
    }
   ],
   "source": [
    "#searching In index\n",
    "print(364 in subs)\n",
    "print(365 in subs)"
   ]
  },
  {
   "cell_type": "code",
   "execution_count": 13,
   "id": "02640192",
   "metadata": {},
   "outputs": [
    {
     "name": "stdout",
     "output_type": "stream",
     "text": [
      "True\n",
      "True\n"
     ]
    }
   ],
   "source": [
    "# searching In values\n",
    "print(100 in subs.values)\n",
    "print(364 not in subs.values)\n"
   ]
  },
  {
   "cell_type": "code",
   "execution_count": 33,
   "id": "6f32ca16",
   "metadata": {},
   "outputs": [
    {
     "name": "stdout",
     "output_type": "stream",
     "text": [
      "48\n",
      "57\n",
      "40\n",
      "43\n",
      "44\n",
      "46\n",
      "33\n",
      "40\n",
      "44\n",
      "74\n"
     ]
    }
   ],
   "source": [
    "# looping in Series :By Default for looops finds things in values section\n",
    "# FIrst 10 items\n",
    "\n",
    "x=0\n",
    "for i in subs:\n",
    "    if x!=10:\n",
    "        print(i)\n",
    "        x+=1\n",
    "    else:\n",
    "        break\n"
   ]
  },
  {
   "cell_type": "code",
   "execution_count": null,
   "id": "cb2f8db7",
   "metadata": {},
   "outputs": [
    {
     "name": "stdout",
     "output_type": "stream",
     "text": [
      "Addition:\n",
      " a    11\n",
      "b    22\n",
      "c    33\n",
      "dtype: int64\n",
      "Subtraction:\n",
      " a     9\n",
      "b    18\n",
      "c    27\n",
      "dtype: int64\n",
      "Multiplication:\n",
      " a    10\n",
      "b    40\n",
      "c    90\n",
      "dtype: int64\n",
      "Division:\n",
      " a    10.0\n",
      "b    10.0\n",
      "c    10.0\n",
      "dtype: float64\n"
     ]
    }
   ],
   "source": [
    "\"\"\"# Note : Arithmetic Operation Are Only Happened On same Index Values otherwise Nan\n",
    "#If indices dont match, result will have NaN in non-overlapping parts:\"\"\"\n",
    "s1 = pd.Series([10, 20, 30], index=['a', 'b', 'c'])\n",
    "s2 = pd.Series([1, 2, 3], index=['a', 'b', 'c'])\n",
    "\n",
    "# Element-wise addition\n",
    "print(\"Addition:\\n\",s1 + s2)\n",
    "\n",
    "# Subtraction\n",
    "print(\"Subtraction:\\n\", s1 - s2)\n",
    "\n",
    "# Multiplication\n",
    "print(\"Multiplication:\\n\", s1 * s2)\n",
    "\n",
    "# Division\n",
    "print(\"Division:\\n\", s1 / s2)\n"
   ]
  },
  {
   "cell_type": "code",
   "execution_count": null,
   "id": "338ab6f8",
   "metadata": {},
   "outputs": [
    {
     "name": "stdout",
     "output_type": "stream",
     "text": [
      "s1.add(s3, fill_value=0):\n",
      " a    11\n",
      "b    22\n",
      "c    33\n",
      "dtype: int64\n"
     ]
    }
   ],
   "source": [
    "\"\"\"# Using .add(), .sub()\"\"\"\n",
    "print(\"s1.add(s3, fill_value=0):\\n\", s1.add(s2, fill_value=0))\n"
   ]
  },
  {
   "cell_type": "code",
   "execution_count": null,
   "id": "fef7e580",
   "metadata": {},
   "outputs": [
    {
     "name": "stdout",
     "output_type": "stream",
     "text": [
      "Add 5: 0    15\n",
      "1    25\n",
      "2    35\n",
      "3    45\n",
      "dtype: int64\n",
      "Multiply by 3: 0     30\n",
      "1     60\n",
      "2     90\n",
      "3    120\n",
      "dtype: int64\n",
      "Division: 0    5.0\n",
      "1    5.0\n",
      "2    inf\n",
      "3    5.0\n",
      "dtype: float64\n"
     ]
    }
   ],
   "source": [
    "\"\"\"# Mini Practice\"\"\" \n",
    "s = pd.Series([10, 20, 30, 40])\n",
    "print(\"Add 5:\", s + 5)\n",
    "print(\"Multiply by 3:\", s * 3)\n",
    "\n",
    "s2 = pd.Series([2, 4, 0, 8])\n",
    "print(\"Division:\", s / s2)\n",
    "\n"
   ]
  },
  {
   "cell_type": "markdown",
   "id": "6829c60d",
   "metadata": {},
   "source": [
    "# Boolean Indexing Practice"
   ]
  },
  {
   "cell_type": "code",
   "execution_count": null,
   "id": "a7f67c1d",
   "metadata": {},
   "outputs": [
    {
     "name": "stdout",
     "output_type": "stream",
     "text": [
      "match_no\n",
      "1       1\n",
      "2      23\n",
      "3      13\n",
      "4      12\n",
      "5       1\n",
      "       ..\n",
      "211     0\n",
      "212    20\n",
      "213    73\n",
      "214    25\n",
      "215     7\n",
      "Length: 215, dtype: int64\n",
      "<class 'pandas.core.series.Series'>\n"
     ]
    }
   ],
   "source": [
    "\"\"\"# We have data of kohli match runs kohli_ipl.csv\n",
    "# import it \"\"\"\n",
    "df=pd.read_csv(\"DATASETS/DAY1/kohli_ipl.csv\",index_col=\"match_no\")\n",
    "\n",
    "# CReating Series\n",
    "kohli_series=pd.Series(df[\"runs\"].values,index=df.index)\n",
    "print(kohli_series)\n",
    "print(type(kohli_series))"
   ]
  },
  {
   "cell_type": "code",
   "execution_count": null,
   "id": "125f5e44",
   "metadata": {},
   "outputs": [
    {
     "name": "stdout",
     "output_type": "stream",
     "text": [
      "Matches where runs > 50:  50\n"
     ]
    }
   ],
   "source": [
    "\"\"\"#1 Find Number of 50's and 100's Scored by Kohli\"\"\"\n",
    "mask=kohli_series>=50 \n",
    "\n",
    "size=kohli_series[mask].size\n",
    "print(\"Matches where runs > 50: \",size)"
   ]
  },
  {
   "cell_type": "code",
   "execution_count": null,
   "id": "2baea0c5",
   "metadata": {},
   "outputs": [
    {
     "name": "stdout",
     "output_type": "stream",
     "text": [
      "9\n"
     ]
    }
   ],
   "source": [
    "\"\"\"#2 FInd THe Number of Ducks\"\"\"\n",
    "mask=kohli_series==0\n",
    "\n",
    "print(kohli_series[mask].size)\n"
   ]
  },
  {
   "cell_type": "code",
   "execution_count": null,
   "id": "8aafc6f8",
   "metadata": {},
   "outputs": [
    {
     "name": "stdout",
     "output_type": "stream",
     "text": [
      "59\n"
     ]
    }
   ],
   "source": [
    "\"\"\"#3 Get How Many Days get Subscriber >200\"\"\"\n",
    "mask=subs>200\n",
    "print(subs[mask].size)"
   ]
  },
  {
   "cell_type": "code",
   "execution_count": null,
   "id": "28a62acd",
   "metadata": {},
   "outputs": [
    {
     "name": "stdout",
     "output_type": "stream",
     "text": [
      "                                                  lead\n",
      "movie                                                 \n",
      "Uri: The Surgical Strike                 Vicky Kaushal\n",
      "Battalion 609                              Vicky Ahuja\n",
      "The Accidental Prime Minister (film)       Anupam Kher\n",
      "Why Cheat India                          Emraan Hashmi\n",
      "Evening Shadows                       Mona Ambegaonkar\n",
      "...                                                ...\n",
      "Hum Tumhare Hain Sanam                  Shah Rukh Khan\n",
      "Aankhen (2002 film)                   Amitabh Bachchan\n",
      "Saathiya (film)                           Vivek Oberoi\n",
      "Company (film)                              Ajay Devgn\n",
      "Awara Paagal Deewana                      Akshay Kumar\n",
      "\n",
      "[1500 rows x 1 columns]\n"
     ]
    }
   ],
   "source": [
    "\"\"\"# From bollywood.csv find which actors have done more than 20 movies\"\"\"\n",
    "movies=pd.read_csv(\"DATASETS/DAY1/bollywood.csv\",index_col=\"movie\")\n",
    "print(movies)\n",
    "\n",
    "movies_series=pd.Series(movies[\"lead\"].values,index=movies.index)"
   ]
  },
  {
   "cell_type": "code",
   "execution_count": 23,
   "id": "0fecf6e8",
   "metadata": {},
   "outputs": [
    {
     "name": "stdout",
     "output_type": "stream",
     "text": [
      "movie\n",
      "Uri: The Surgical Strike                   Vicky Kaushal\n",
      "Battalion 609                                Vicky Ahuja\n",
      "The Accidental Prime Minister (film)         Anupam Kher\n",
      "Why Cheat India                            Emraan Hashmi\n",
      "Evening Shadows                         Mona Ambegaonkar\n",
      "                                              ...       \n",
      "Hum Tumhare Hain Sanam                    Shah Rukh Khan\n",
      "Aankhen (2002 film)                     Amitabh Bachchan\n",
      "Saathiya (film)                             Vivek Oberoi\n",
      "Company (film)                                Ajay Devgn\n",
      "Awara Paagal Deewana                        Akshay Kumar\n",
      "Length: 1500, dtype: object\n"
     ]
    }
   ],
   "source": [
    "print((movies_series))"
   ]
  },
  {
   "cell_type": "code",
   "execution_count": null,
   "id": "3b387b45",
   "metadata": {},
   "outputs": [
    {
     "name": "stdout",
     "output_type": "stream",
     "text": [
      "Akshay Kumar            48\n",
      "Amitabh Bachchan        45\n",
      "Ajay Devgn              38\n",
      "Salman Khan             31\n",
      "Sanjay Dutt             26\n",
      "                        ..\n",
      "Tanishaa Mukerji         1\n",
      "Tanuja                   1\n",
      "Ankit                    1\n",
      "Rakhee Gulzar            1\n",
      "Geetika Vidya Ohlyan     1\n",
      "Name: count, Length: 566, dtype: int64 \n",
      "\n",
      "\n",
      "Boolean Mask\n",
      ", Akshay Kumar             True\n",
      "Amitabh Bachchan         True\n",
      "Ajay Devgn               True\n",
      "Salman Khan              True\n",
      "Sanjay Dutt              True\n",
      "                        ...  \n",
      "Tanishaa Mukerji        False\n",
      "Tanuja                  False\n",
      "Ankit                   False\n",
      "Rakhee Gulzar           False\n",
      "Geetika Vidya Ohlyan    False\n",
      "Name: count, Length: 566, dtype: bool\n",
      "\n",
      "NAmes Of actors\n",
      " Akshay Kumar        48\n",
      "Amitabh Bachchan    45\n",
      "Ajay Devgn          38\n",
      "Salman Khan         31\n",
      "Sanjay Dutt         26\n",
      "Shah Rukh Khan      22\n",
      "Emraan Hashmi       21\n",
      "Name: count, dtype: int64\n",
      "\n",
      "NUMBER OF ACTOR\n",
      " 7\n"
     ]
    }
   ],
   "source": [
    "\"\"\"find the actor Frequency\"\"\"\n",
    "counts=movies_series.value_counts()\n",
    "print(counts,\"\\n\")\n",
    "\"\"\"# now find the Boolean Mask\"\"\"\n",
    "mask=counts>20\n",
    "print(\"\\nBoolean Mask\\n,\",mask)\n",
    "\n",
    "\"\"\"# simple find the Actor Names\"\"\"\n",
    "print(\"\\nNAmes Of actors\\n\",counts[mask])\n",
    "# number\n",
    "print(\"\\nNUMBER OF ACTOR\\n\",counts[mask].size)"
   ]
  },
  {
   "cell_type": "markdown",
   "id": "fcb3f604",
   "metadata": {},
   "source": [
    "# GRAPH PLOT WITH SERIES PANDAS"
   ]
  },
  {
   "cell_type": "code",
   "execution_count": 25,
   "id": "b8de7c18",
   "metadata": {},
   "outputs": [
    {
     "data": {
      "text/plain": [
       "<Axes: >"
      ]
     },
     "execution_count": 25,
     "metadata": {},
     "output_type": "execute_result"
    },
    {
     "data": {
      "image/png": "[encoded data removed]",
      "text/plain": [
       "<Figure size 640x480 with 1 Axes>"
      ]
     },
     "metadata": {},
     "output_type": "display_data"
    }
   ],
   "source": [
    "subs.plot()"
   ]
  },
  {
   "cell_type": "code",
   "execution_count": 26,
   "id": "8cb891d9",
   "metadata": {},
   "outputs": [
    {
     "data": {
      "text/plain": [
       "<Axes: xlabel='match_no'>"
      ]
     },
     "execution_count": 26,
     "metadata": {},
     "output_type": "execute_result"
    },
    {
     "data": {
      "image/png": "[encoded data removed]",
      "text/plain": [
       "<Figure size 640x480 with 1 Axes>"
      ]
     },
     "metadata": {},
     "output_type": "display_data"
    }
   ],
   "source": [
    "kohli_series.plot()"
   ]
  },
  {
   "cell_type": "code",
   "execution_count": 27,
   "id": "e762e8b2",
   "metadata": {},
   "outputs": [
    {
     "name": "stdout",
     "output_type": "stream",
     "text": [
      "Akshay Kumar        48\n",
      "Amitabh Bachchan    45\n",
      "Ajay Devgn          38\n",
      "Salman Khan         31\n",
      "Sanjay Dutt         26\n",
      "Shah Rukh Khan      22\n",
      "Emraan Hashmi       21\n",
      "Saif Ali Khan       18\n",
      "John Abraham        18\n",
      "Sunny Deol          17\n",
      "Name: count, dtype: int64\n"
     ]
    },
    {
     "data": {
      "text/plain": [
       "<Axes: >"
      ]
     },
     "execution_count": 27,
     "metadata": {},
     "output_type": "execute_result"
    },
    {
     "data": {
      "image/png": "[encoded data removed]",
      "text/plain": [
       "<Figure size 640x480 with 1 Axes>"
      ]
     },
     "metadata": {},
     "output_type": "display_data"
    }
   ],
   "source": [
    "print(movies_series.value_counts().sort_values(ascending=False).head(10))\n",
    "movies_series.value_counts().sort_values(ascending=False).head(10).plot(grid=True,kind='bar')"
   ]
  },
  {
   "cell_type": "code",
   "execution_count": 28,
   "id": "aed498b0",
   "metadata": {},
   "outputs": [
    {
     "data": {
      "text/plain": [
       "<Axes: ylabel='count'>"
      ]
     },
     "execution_count": 28,
     "metadata": {},
     "output_type": "execute_result"
    },
    {
     "data": {
      "image/png": "[encoded data removed]",
      "text/plain": [
       "<Figure size 640x480 with 1 Axes>"
      ]
     },
     "metadata": {},
     "output_type": "display_data"
    }
   ],
   "source": [
    "movies_series.value_counts().sort_values(ascending=False).head(10).plot(grid=True, kind='pie', autopct='%1.1f%%')"
   ]
  },
  {
   "cell_type": "code",
   "execution_count": 29,
   "id": "026abcbd",
   "metadata": {},
   "outputs": [
    {
     "data": {
      "text/plain": [
       "<Axes: ylabel='count'>"
      ]
     },
     "execution_count": 29,
     "metadata": {},
     "output_type": "execute_result"
    },
    {
     "data": {
      "image/png": "[encoded data removed]",
      "text/plain": [
       "<Figure size 640x480 with 1 Axes>"
      ]
     },
     "metadata": {},
     "output_type": "display_data"
    }
   ],
   "source": [
    "counts.sort_values(ascending=False).head(10).plot(\n",
    "    \n",
    "    kind='pie',\n",
    "    autopct=lambda p: int(round(p * counts.sort_values(ascending=False).head(10).sum() / 100))\n",
    ")"
   ]
  },
  {
   "cell_type": "markdown",
   "id": "249c6ab2",
   "metadata": {},
   "source": [
    "# Important Series Methods"
   ]
  },
  {
   "cell_type": "code",
   "execution_count": null,
   "id": "fbd7fae9",
   "metadata": {},
   "outputs": [],
   "source": [
    "\"\"\"\n",
    "1. astype() \n",
    "Change Data Type\n",
    "\n",
    "2. between(): \n",
    "Check if values fall in range\n",
    "\n",
    "3. clip()\n",
    "Limit values to a range\n",
    "\n",
    "4.drop_duplicates():\n",
    " Remove duplicate values\n",
    "\n",
    "5.isnull(): \n",
    "Check for missing values (NaN)\n",
    "\n",
    "6.fillna():\n",
    " Fill missing values\n",
    "\n",
    "7.isin():\n",
    "   Check if values exist in a list\n",
    "\n",
    "8.apply(): \n",
    "Apply a custom function\n",
    "\n",
    "\n",
    "\n",
    "\"\"\""
   ]
  },
  {
   "cell_type": "markdown",
   "id": "f329dc81",
   "metadata": {},
   "source": [
    "1. astype()"
   ]
  },
  {
   "cell_type": "code",
   "execution_count": null,
   "id": "591bb908",
   "metadata": {},
   "outputs": [
    {
     "data": {
      "text/plain": [
       "match_no\n",
       "1     1\n",
       "2    23\n",
       "3    13\n",
       "4    12\n",
       "5     1\n",
       "dtype: int64"
      ]
     },
     "execution_count": 30,
     "metadata": {},
     "output_type": "execute_result"
    }
   ],
   "source": [
    "kohli_series.head()\n",
    "\"\"\"We can Observe that the kohli_series Values Datatype is int64\n",
    "if we check its Size in memory using sys module\"\"\""
   ]
  },
  {
   "cell_type": "code",
   "execution_count": null,
   "id": "639aef26",
   "metadata": {},
   "outputs": [
    {
     "name": "stdout",
     "output_type": "stream",
     "text": [
      "3472\n"
     ]
    },
    {
     "data": {
      "text/plain": [
       "2182"
      ]
     },
     "execution_count": 38,
     "metadata": {},
     "output_type": "execute_result"
    }
   ],
   "source": [
    "import sys ,numpy\n",
    "print(sys.getsizeof(kohli_series))\n",
    "\"\"\"we can Reduce the Size using the small int precesion \n",
    "using astype() Function\"\"\"\n",
    "kohli_series=kohli_series.astype(\"int16\")\n",
    "\n",
    "sys.getsizeof(kohli_series)"
   ]
  },
  {
   "cell_type": "markdown",
   "id": "a4a71315",
   "metadata": {},
   "source": [
    "2. s.between(): Returns Boolean Series of inside some range"
   ]
  },
  {
   "cell_type": "code",
   "execution_count": 41,
   "id": "bfa92f5b",
   "metadata": {},
   "outputs": [
    {
     "name": "stdout",
     "output_type": "stream",
     "text": [
      "match_no\n",
      "1      False\n",
      "2      False\n",
      "3      False\n",
      "4      False\n",
      "5      False\n",
      "       ...  \n",
      "211    False\n",
      "212    False\n",
      "213     True\n",
      "214    False\n",
      "215    False\n",
      "Length: 215, dtype: bool\n",
      "Matches in Which the Kohli Score 51-99 :  43\n"
     ]
    }
   ],
   "source": [
    "\"\"\"i want to check that in how many innnings the kohli make runs between 51-99\n",
    "we can do this using between()\"\"\"\n",
    "x=kohli_series.between(51,99)\n",
    "print(x)\n",
    "print(\"Matches in Which the Kohli Score 51-99 : \",kohli_series[x].size)"
   ]
  },
  {
   "cell_type": "markdown",
   "id": "052a0b53",
   "metadata": {},
   "source": [
    "3. clip(): used to clip the array in min to max values \n"
   ]
  },
  {
   "cell_type": "code",
   "execution_count": null,
   "id": "2022e626",
   "metadata": {},
   "outputs": [
    {
     "data": {
      "text/plain": [
       "match_no\n",
       "1      12\n",
       "2      23\n",
       "3      13\n",
       "4      12\n",
       "5      12\n",
       "       ..\n",
       "211    12\n",
       "212    20\n",
       "213    50\n",
       "214    25\n",
       "215    12\n",
       "Length: 215, dtype: int16"
      ]
     },
     "execution_count": 42,
     "metadata": {},
     "output_type": "execute_result"
    }
   ],
   "source": [
    "kohli_series.clip(lower=12,upper=50)\n",
    "\"\"\" clip function makes the whole series in between lower to upper\"\"\""
   ]
  },
  {
   "cell_type": "markdown",
   "id": "e9c3a260",
   "metadata": {},
   "source": [
    "4. drop_duplicates()"
   ]
  },
  {
   "cell_type": "code",
   "execution_count": null,
   "id": "418b8a52",
   "metadata": {},
   "outputs": [
    {
     "name": "stdout",
     "output_type": "stream",
     "text": [
      "4. Drop duplicates:\n",
      " 0    1\n",
      "2    2\n",
      "5    3\n",
      "dtype: int64\n",
      "4. Drop duplicates:\n",
      " 0    1\n",
      "1    2\n",
      "2    3\n",
      "dtype: int64\n"
     ]
    }
   ],
   "source": [
    "s = pd.Series([1, 2, 2, 3, 3, 3])\n",
    "\"\"\" it removes all the duplicate items from the Series.\n",
    "we can also control the which occurrence is keeped in series\n",
    "using \n",
    "keep='first'         for first\n",
    "keep='last'          for last\n",
    "\"\"\"\n",
    "# ORiginal Index\n",
    "print(\"4. Drop duplicates:\\n\", s.drop_duplicates(keep='last',ignore_index=False))\n",
    "\n",
    "# New INdex of Series\n",
    "print(\"4. Drop duplicates:\\n\", s.drop_duplicates(keep='last',ignore_index=True))"
   ]
  },
  {
   "cell_type": "markdown",
   "id": "3bda654c",
   "metadata": {},
   "source": [
    "5. .duplicated()\n",
    "\n",
    "To get the Duplicate value mask in Series .."
   ]
  },
  {
   "cell_type": "code",
   "execution_count": 60,
   "id": "31670a6e",
   "metadata": {},
   "outputs": [
    {
     "name": "stdout",
     "output_type": "stream",
     "text": [
      "0    False\n",
      "1    False\n",
      "2     True\n",
      "3    False\n",
      "4     True\n",
      "5     True\n",
      "dtype: bool\n",
      "Number OF TOtal Duplicate Values 3\n"
     ]
    }
   ],
   "source": [
    "\"\"\"we can easily get the duplicate values\n",
    "using duplicated()\"\"\"\n",
    "print(s.duplicated())\n",
    "print(\"Number OF TOtal Duplicate Values\",s.duplicated().sum())\n"
   ]
  },
  {
   "cell_type": "code",
   "execution_count": 67,
   "id": "cab1af06",
   "metadata": {},
   "outputs": [
    {
     "name": "stdout",
     "output_type": "stream",
     "text": [
      "5. isnull result:\n",
      " 0    False\n",
      "1     True\n",
      "2    False\n",
      "3     True\n",
      "dtype: bool\n"
     ]
    }
   ],
   "source": [
    "s = pd.Series([10, None, 30, None])\n",
    "print(\"5. isnull result:\\n\", s.isnull())\n"
   ]
  },
  {
   "cell_type": "code",
   "execution_count": null,
   "id": "dc0b8ca4",
   "metadata": {},
   "outputs": [
    {
     "data": {
      "text/plain": [
       "4"
      ]
     },
     "execution_count": 66,
     "metadata": {},
     "output_type": "execute_result"
    }
   ],
   "source": [
    "\"Size returns the total number of ELements \"\n",
    "s.size"
   ]
  },
  {
   "cell_type": "code",
   "execution_count": null,
   "id": "7718f220",
   "metadata": {},
   "outputs": [
    {
     "data": {
      "text/plain": [
       "np.int64(2)"
      ]
     },
     "execution_count": 68,
     "metadata": {},
     "output_type": "execute_result"
    }
   ],
   "source": [
    "\"\"\"Count returns only the Non Null Values\"\"\"\n",
    "s.count()"
   ]
  },
  {
   "cell_type": "code",
   "execution_count": 71,
   "id": "02796115",
   "metadata": {},
   "outputs": [
    {
     "name": "stdout",
     "output_type": "stream",
     "text": [
      "1   NaN\n",
      "3   NaN\n",
      "dtype: float64\n",
      "Total Number OF Null Values  2\n"
     ]
    }
   ],
   "source": [
    "print(s[s.isnull()])\n",
    "print(\"Total Number OF Null Values \",s.isnull().sum())"
   ]
  },
  {
   "cell_type": "markdown",
   "id": "f0dc865f",
   "metadata": {},
   "source": [
    "6. dropna(): Just drop the Null Values (Missing Values)\n",
    "\n",
    "return new Series"
   ]
  },
  {
   "cell_type": "code",
   "execution_count": 84,
   "id": "6b065c56",
   "metadata": {},
   "outputs": [
    {
     "data": {
      "text/plain": [
       "0    10.0\n",
       "2    30.0\n",
       "dtype: float64"
      ]
     },
     "execution_count": 84,
     "metadata": {},
     "output_type": "execute_result"
    }
   ],
   "source": [
    "s.dropna()"
   ]
  },
  {
   "cell_type": "markdown",
   "id": "e1801565",
   "metadata": {},
   "source": [
    "7. fillna(a):Replace the Nan Values With our own Number(a)\n",
    "\n",
    "return new Series"
   ]
  },
  {
   "cell_type": "code",
   "execution_count": 85,
   "id": "824c9385",
   "metadata": {},
   "outputs": [
    {
     "data": {
      "text/plain": [
       "0    10.0\n",
       "1     5.0\n",
       "2    30.0\n",
       "3     5.0\n",
       "dtype: float64"
      ]
     },
     "execution_count": 85,
     "metadata": {},
     "output_type": "execute_result"
    }
   ],
   "source": [
    "s.fillna(5)"
   ]
  },
  {
   "cell_type": "markdown",
   "id": "94f19a3e",
   "metadata": {},
   "source": [
    "8. isin(): checks the Multiple Elements inside the Series\n",
    "\n",
    "Return the Boolean mask to get the Elements"
   ]
  },
  {
   "cell_type": "code",
   "execution_count": null,
   "id": "191f350e",
   "metadata": {},
   "outputs": [
    {
     "data": {
      "text/plain": [
       "match_no\n",
       "1      False\n",
       "2      False\n",
       "3      False\n",
       "4      False\n",
       "5      False\n",
       "       ...  \n",
       "211    False\n",
       "212    False\n",
       "213    False\n",
       "214    False\n",
       "215    False\n",
       "Length: 215, dtype: bool"
      ]
     },
     "execution_count": 86,
     "metadata": {},
     "output_type": "execute_result"
    }
   ],
   "source": [
    "\"\"\"Getting the Boolean Mask\"\"\"\n",
    "kohli_series.isin([50,100,150,200])"
   ]
  },
  {
   "cell_type": "code",
   "execution_count": null,
   "id": "72e39869",
   "metadata": {},
   "outputs": [
    {
     "data": {
      "text/plain": [
       "match_no\n",
       "15      50\n",
       "120    100\n",
       "164    100\n",
       "182     50\n",
       "dtype: int16"
      ]
     },
     "execution_count": 87,
     "metadata": {},
     "output_type": "execute_result"
    }
   ],
   "source": [
    "\"\"\" Then Using THat mask To get those Elements\"\"\"\n",
    "kohli_series[kohli_series.isin([50,100,150,200])]"
   ]
  },
  {
   "cell_type": "markdown",
   "id": "c8ac2eba",
   "metadata": {},
   "source": [
    "9. apply() : To apply the Custom Logic on Our Series :"
   ]
  },
  {
   "cell_type": "code",
   "execution_count": 91,
   "id": "bf2c25bc",
   "metadata": {},
   "outputs": [
    {
     "data": {
      "text/plain": [
       "movie\n",
       "Uri: The Surgical Strike                   Vicky Kaushal\n",
       "Battalion 609                                Vicky Ahuja\n",
       "The Accidental Prime Minister (film)         Anupam Kher\n",
       "Why Cheat India                            Emraan Hashmi\n",
       "Evening Shadows                         Mona Ambegaonkar\n",
       "                                              ...       \n",
       "Hum Tumhare Hain Sanam                    Shah Rukh Khan\n",
       "Aankhen (2002 film)                     Amitabh Bachchan\n",
       "Saathiya (film)                             Vivek Oberoi\n",
       "Company (film)                                Ajay Devgn\n",
       "Awara Paagal Deewana                        Akshay Kumar\n",
       "Length: 1500, dtype: object"
      ]
     },
     "execution_count": 91,
     "metadata": {},
     "output_type": "execute_result"
    }
   ],
   "source": [
    "movies_series"
   ]
  },
  {
   "cell_type": "markdown",
   "id": "ee97ba43",
   "metadata": {},
   "source": [
    "__Let Us Suppose I need to Apply the Function on Above Series__\n",
    "__Like To Take Only The First Name Of The Actor__\n",
    "__So to Apply The Custom Logic We Use apply() function on our Series__"
   ]
  },
  {
   "cell_type": "code",
   "execution_count": null,
   "id": "ab4c768f",
   "metadata": {},
   "outputs": [
    {
     "data": {
      "text/plain": [
       "movie\n",
       "Uri: The Surgical Strike                  VICKY\n",
       "Battalion 609                             VICKY\n",
       "The Accidental Prime Minister (film)     ANUPAM\n",
       "Why Cheat India                          EMRAAN\n",
       "Evening Shadows                            MONA\n",
       "                                         ...   \n",
       "Hum Tumhare Hain Sanam                     SHAH\n",
       "Aankhen (2002 film)                     AMITABH\n",
       "Saathiya (film)                           VIVEK\n",
       "Company (film)                             AJAY\n",
       "Awara Paagal Deewana                     AKSHAY\n",
       "Length: 1500, dtype: object"
      ]
     },
     "execution_count": 104,
     "metadata": {},
     "output_type": "execute_result"
    }
   ],
   "source": [
    "movies_series.apply(lambda x : x.split()[0].upper() )\n",
    "\"\"\"We can use the apply() function to apply any logic on our Series\"\"\""
   ]
  },
  {
   "cell_type": "markdown",
   "id": "beea1c9a",
   "metadata": {},
   "source": [
    "__from above Series Split the first name and rest of the name__\n",
    "\n",
    "__use apply() function__"
   ]
  },
  {
   "cell_type": "code",
   "execution_count": null,
   "id": "1cbbca35",
   "metadata": {},
   "outputs": [
    {
     "name": "stdout",
     "output_type": "stream",
     "text": [
      "                                     first_name    rest_name\n",
      "movie                                                       \n",
      "Uri: The Surgical Strike                  Vicky      Kaushal\n",
      "Battalion 609                             Vicky        Ahuja\n",
      "The Accidental Prime Minister (film)     Anupam         Kher\n",
      "Why Cheat India                          Emraan       Hashmi\n",
      "Evening Shadows                            Mona  Ambegaonkar\n",
      "...                                         ...          ...\n",
      "Hum Tumhare Hain Sanam                     Shah    Rukh Khan\n",
      "Aankhen (2002 film)                     Amitabh     Bachchan\n",
      "Saathiya (film)                           Vivek       Oberoi\n",
      "Company (film)                             Ajay        Devgn\n",
      "Awara Paagal Deewana                     Akshay        Kumar\n",
      "\n",
      "[1500 rows x 2 columns]\n"
     ]
    }
   ],
   "source": [
    "# Do this\n",
    "#  Split into first name and rest of the name\n",
    "first_names = movies_series.apply(lambda x: x.split()[0])\n",
    "\"\"\"Logic Explain : we know x.split() gives us the list of name words\n",
    "example x='Amitabh Bachan'\n",
    "x.split()=['Amitabh', 'Bachchan']\n",
    "\n",
    "now taking only its first element as firstname\n",
    "=x.split()[0]\n",
    "\"\"\"\n",
    "\n",
    "rest_names = movies_series.apply(lambda x: ' '.join(x.split()[1:]) if len(x.split()) > 1 else '')\n",
    "\"\"\"\n",
    "Logic Explain:\n",
    "Similarly x.split()=['Amitabh', 'Bachchan']\n",
    "from x.split()[1:]     :  Takes everything from index 1 onwards (all except the first word):\n",
    "then join it using ' '.join(x.split()[1:])\n",
    "only do this work if len(x.split())>1 otherwise take ''\n",
    "this is explanation of function\n",
    "\n",
    "\"\"\"\n",
    "# Create a DataFrame with both columns\n",
    "actor_names_df = pd.DataFrame({\n",
    "    'first_name': first_names,\n",
    "    'rest_name': rest_names\n",
    "}, index=movies_series.index)\n",
    "\n",
    "print(actor_names_df)"
   ]
  },
  {
   "cell_type": "markdown",
   "id": "fa20fa66",
   "metadata": {},
   "source": [
    "__We have subs Series Use that Series and Create the New Series__\n",
    "\n",
    "Such that if Subscriber > avgerge (mean)\n",
    "\n",
    "Good Day \n",
    "\n",
    "Otherwise Bad Day"
   ]
  },
  {
   "cell_type": "code",
   "execution_count": 105,
   "id": "5b81ac28",
   "metadata": {},
   "outputs": [
    {
     "data": {
      "text/plain": [
       "0       48\n",
       "1       57\n",
       "2       40\n",
       "3       43\n",
       "4       44\n",
       "      ... \n",
       "360    231\n",
       "361    226\n",
       "362    155\n",
       "363    144\n",
       "364    172\n",
       "Name: Subscribers gained, Length: 365, dtype: int64"
      ]
     },
     "execution_count": 105,
     "metadata": {},
     "output_type": "execute_result"
    }
   ],
   "source": [
    "subs"
   ]
  },
  {
   "cell_type": "code",
   "execution_count": null,
   "id": "24f5dd08",
   "metadata": {},
   "outputs": [
    {
     "data": {
      "text/plain": [
       "0        Bad Day\n",
       "1        Bad Day\n",
       "2        Bad Day\n",
       "3        Bad Day\n",
       "4        Bad Day\n",
       "         ...    \n",
       "360    Good Day \n",
       "361    Good Day \n",
       "362    Good Day \n",
       "363    Good Day \n",
       "364    Good Day \n",
       "Name: Subscribers gained, Length: 365, dtype: object"
      ]
     },
     "execution_count": 106,
     "metadata": {},
     "output_type": "execute_result"
    }
   ],
   "source": [
    "subs.apply(lambda x :\"Good Day \" if x>subs.mean() else \"Bad Day\")"
   ]
  },
  {
   "cell_type": "markdown",
   "id": "e57929c4",
   "metadata": {},
   "source": [
    "[__DAY2-Practice__](Day2Practice.ipynb)"
   ]
  }
 ],
 "metadata": {
  "kernelspec": {
   "display_name": "Python 3",
   "language": "python",
   "name": "python3"
  },
  "language_info": {
   "codemirror_mode": {
    "name": "ipython",
    "version": 3
   },
   "file_extension": ".py",
   "mimetype": "text/x-python",
   "name": "python",
   "nbconvert_exporter": "python",
   "pygments_lexer": "ipython3",
   "version": "3.13.5"
  }
 },
 "nbformat": 4,
 "nbformat_minor": 5
}
